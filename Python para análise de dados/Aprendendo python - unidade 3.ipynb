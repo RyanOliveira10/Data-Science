{
 "cells": [
  {
   "attachments": {},
   "cell_type": "markdown",
   "metadata": {},
   "source": [
    "# Aprendendo python - Unidade 3"
   ]
  },
  {
   "attachments": {},
   "cell_type": "markdown",
   "metadata": {},
   "source": [
    "## Classes e Métodos em python"
   ]
  },
  {
   "attachments": {},
   "cell_type": "markdown",
   "metadata": {},
   "source": [
    "ABSTRAÇÃO - CLASSES E OBJETOS"
   ]
  },
  {
   "attachments": {},
   "cell_type": "markdown",
   "metadata": {},
   "source": [
    "objetos são os componentes de um programa OO. Um programa que usa a tecnologia OO é basicamente uma coleção de objetos. Uma classe é um modelo para um objeto. Podemos considerar uma classe uma forma de organizar os dados (de um objeto) e seus comportamentos (PSF, 2020a). Vamos pensar na construção de uma casa: antes do \"objeto casa\" existir, um arquiteto fez a planta, determinando tudo que deveria fazer parte daquele objeto. Portanto, a classe é o modelo e o objeto é uma instância. Entende-se por instância a existência física, em memória, do objeto."
   ]
  },
  {
   "attachments": {},
   "cell_type": "markdown",
   "metadata": {},
   "source": [
    "ATRIBUTOS\n",
    "\n",
    "Os dados armazenados em um objeto representam o estado do objeto. Na terminologia de programação OO, esses dados são chamados de atributos. Os atributos contêm as informações que diferenciam os vários objetos – os funcionários, neste caso."
   ]
  },
  {
   "attachments": {},
   "cell_type": "markdown",
   "metadata": {},
   "source": [
    "MÉTODOS\n",
    "\n",
    "O comportamento de um objeto representa o que este pode fazer. Nas linguagens procedurais, o comportamento é definido por procedimentos, funções e sub-rotinas. Na terminologia de programação OO, esses comportamentos estão contidos nos métodos, aos quais você envia uma mensagem para invocá-los. "
   ]
  },
  {
   "attachments": {},
   "cell_type": "markdown",
   "metadata": {},
   "source": [
    "ENCAPSULAMENTO\n",
    "\n",
    "O ato de combinar os atributos e métodos na mesma entidade é, na linguagem OO, chamado de encapsulamento (Weisfeld, 2013), termo que também aparece na prática de tornar atributos privados, quando estes são encapsulados em métodos para guardar e acessar seus valores."
   ]
  },
  {
   "attachments": {},
   "cell_type": "markdown",
   "metadata": {},
   "source": [
    "HERANÇA\n",
    "\n",
    "Por meio desse mecanismo, é possível fazer o reúso de código, criando soluções mais organizadas. A herança permite que uma classe herde os atributos e métodos de outra classe. Observe, na Figura 3.2, que as classes funcionário e cliente herdam os atributos da classe pessoa. A classe pessoa pode ser chamada de classe-pai, classe-base, superclasse, ancestral; por sua vez, as classes derivadas são as classes-filhas, subclasses."
   ]
  },
  {
   "attachments": {},
   "cell_type": "markdown",
   "metadata": {},
   "source": [
    "<img src=\"./diagrama01.png\"/>"
   ]
  },
  {
   "attachments": {},
   "cell_type": "markdown",
   "metadata": {},
   "source": [
    "POLIFORMISMO\n",
    "\n",
    "Polimorfismo é uma palavra grega que, literalmente, significa muitas formas. Embora o polimorfismo esteja fortemente associado à herança, é frequentemente citado separadamente como uma das vantagens mais poderosas das tecnologias orientadas a objetos (WEISFELD, 2013). Quando uma mensagem é enviada para um objeto, este deve ter um método definido para responder a essa mensagem. Em uma hierarquia de herança, todas as subclasses herdam as interfaces de sua superclasse. No entanto, como toda subclasse é uma entidade separada, cada uma delas pode exigir uma resposta separada para a mesma mensagem."
   ]
  },
  {
   "cell_type": "code",
   "execution_count": 1,
   "metadata": {},
   "outputs": [
    {
     "name": "stdout",
     "output_type": "stream",
     "text": [
      "Olá Ryan, seja bem vindo!\n"
     ]
    }
   ],
   "source": [
    "class PrimeiraClasse:\n",
    "    def imprimir_mensagem(self, nome):\n",
    "        print(f\"Olá {nome}, seja bem vindo!\")\n",
    "\n",
    "pessoa1 = PrimeiraClasse()\n",
    "pessoa1.imprimir_mensagem('Ryan')"
   ]
  },
  {
   "cell_type": "code",
   "execution_count": 2,
   "metadata": {},
   "outputs": [
    {
     "name": "stdout",
     "output_type": "stream",
     "text": [
      "Soma: 7\n",
      "Subtração: 6\n",
      "Multiplicação: 8\n",
      "Divisão: 3.2\n",
      "Resto da divisão: 1\n"
     ]
    }
   ],
   "source": [
    "class Calculadora:\n",
    "\n",
    "    def somar(self, n1, n2):\n",
    "        return n1 + n2\n",
    "\n",
    "    def subtrair(self, n1, n2):\n",
    "        return n1 - n2\n",
    "\n",
    "    def multiplicar(self, n1, n2):\n",
    "        return n1 * n2\n",
    "\n",
    "    def dividir(self, n1, n2):\n",
    "        return n1 / n2\n",
    "    \n",
    "    def dividir_resto(self, n1, n2):\n",
    "        return n1 % n2\n",
    "\n",
    "calc = Calculadora()\n",
    "\n",
    "print('Soma:', calc.somar(4, 3))\n",
    "print('Subtração:', calc.subtrair(13, 7))\n",
    "print('Multiplicação:', calc.multiplicar(2, 4))\n",
    "print('Divisão:', calc.dividir(16, 5))\n",
    "print('Resto da divisão:', calc.dividir_resto(7, 3))"
   ]
  },
  {
   "attachments": {},
   "cell_type": "markdown",
   "metadata": {},
   "source": [
    "CONSTRUTOR DA CLASSE __INIT__()\n",
    "\n",
    "Até o momento criamos classes com métodos, os quais utilizam variáveis locais. E os atributos das classes?\n",
    "Nesta seção, vamos aprender a criar e utilizar atributos de instância, também chamadas de variáveis de instâncias. Esse tipo de atributo é capaz de receber um valor diferente para cada objeto. Um atributo de instância é uma variável precedida com o parâmetro self, ou seja, a sintaxe para criar e utilizar é self.nome_atributo."
   ]
  },
  {
   "cell_type": "code",
   "execution_count": 3,
   "metadata": {},
   "outputs": [
    {
     "name": "stdout",
     "output_type": "stream",
     "text": [
      "Volume ao ligar a tv =  10\n",
      "volume ja está no máximo!\n",
      "Volume atual  10\n",
      "Volume atual  5\n"
     ]
    }
   ],
   "source": [
    "class Televisao:\n",
    "    def __init__(self):\n",
    "        self.volume = 10\n",
    "    \n",
    "    def diminuir_volume(self, v):\n",
    "        self.volume = self.volume - v\n",
    "    \n",
    "    def aumentar_volume(self, v):\n",
    "        if self.volume < 10:\n",
    "            self.volume = self.volume + v\n",
    "        else:\n",
    "            print(\"volume ja está no máximo!\")\n",
    "\n",
    "tv = Televisao()\n",
    "print(\"Volume ao ligar a tv = \", tv.volume)\n",
    "tv.aumentar_volume(3)\n",
    "print(\"Volume atual \", tv.volume)\n",
    "tv.diminuir_volume(5)\n",
    "print(\"Volume atual \", tv.volume)"
   ]
  },
  {
   "attachments": {},
   "cell_type": "markdown",
   "metadata": {},
   "source": [
    "VARIÁVEIS E MÉTODOS PRIVADOS\n",
    "\n",
    "Em linguagens de programação OO, como Java e C#, as classes, os atributos e os métodos são acompanhados de modificadores de acesso, que podem ser: public, private e protected. Em Python, não existem modificadores de acesso e todos os recursos são públicos. Para simbolizar que um atributo ou método é privado, por convenção, usa-se um sublinhado \"_\"  antes do nome; por exemplo, _cpf, _calcular_desconto() "
   ]
  },
  {
   "attachments": {},
   "cell_type": "markdown",
   "metadata": {},
   "source": [
    "Conceitualmente, dado que um atributo é privado, ele só pode ser acessado por membros da própria classe. Portanto, ao declarar um atributo privado, precisamos de métodos que acessem e recuperam os valores ali guardados. Em Python, além de métodos para este fim, um atributo privado pode ser acessado por decorators."
   ]
  },
  {
   "cell_type": "code",
   "execution_count": 6,
   "metadata": {},
   "outputs": [],
   "source": [
    "class ContaCorrente:\n",
    "    def __init__(self):\n",
    "        self.saldo = None\n",
    "    \n",
    "    def depositar(self, valor):\n",
    "        self._saldo += valor\n",
    "    \n",
    "    def sacar(self, valor):\n",
    "        self._saldo -= valor\n",
    "\n",
    "    def consultarSaldo(self):\n",
    "        return self._saldo"
   ]
  },
  {
   "cell_type": "code",
   "execution_count": null,
   "metadata": {},
   "outputs": [],
   "source": [
    "class Pessoa:\n",
    "    def __init__(self):\n",
    "        self.cpf = None\n",
    "        self.nome = None\n",
    "        self.endereco = None\n",
    "\n",
    "class Funcionario(Pessoa):\n",
    "    def __init__(self):\n",
    "        self.matricula = None\n",
    "        self.salario = None\n",
    "        self.senha = None\n",
    "    \n",
    "    def bater_ponto(self):\n",
    "        \n",
    "        pass\n",
    "    \n",
    "    def fazer_login(self):\n",
    "        \n",
    "        pass\n",
    "\n",
    "class Cliente(Pessoa):\n",
    "    def __init__(self):\n",
    "        self.codigo = None\n",
    "        self.data_cadastro = None\n",
    "\n",
    "    def realizar_cadastro():\n",
    "        \n",
    "        pass\n",
    "\n",
    "    def fazer_compra(self):\n",
    "        \n",
    "        pass\n",
    "    \n",
    "    def pagar_conta(self):\n",
    "        \n",
    "        pass\n",
    "\n",
    "#Programa\n",
    "\n",
    "\n",
    "    "
   ]
  },
  {
   "attachments": {},
   "cell_type": "markdown",
   "metadata": {},
   "source": [
    "## Bibliotecas e modulos em python"
   ]
  },
  {
   "attachments": {},
   "cell_type": "markdown",
   "metadata": {},
   "source": [
    "MÓDULOS E BIBLIOTECAS EM PYTHON"
   ]
  },
  {
   "attachments": {},
   "cell_type": "markdown",
   "metadata": {},
   "source": [
    "Uma opção para organizar o código é implementar funções, contexto em que cada bloco passa a ser responsável por uma determinada funcionalidade. Outra forma é utilizar a orientação a objetos e criar classes que encapsulam as características e os comportamentos de um determinado objeto. Conseguimos utilizar ambas as técnicas para melhorar o código, mas, ainda assim, estamos falando de toda a solução agrupada em um arquivo Python (.py)."
   ]
  },
  {
   "attachments": {},
   "cell_type": "markdown",
   "metadata": {},
   "source": [
    "Para utilizar um módulo é preciso importá-lo para o arquivo. Essa importação pode ser feita de maneiras distintas:\n",
    "\n",
    "* import moduloXXText\n",
    "\n",
    "* import moduloXX as apelido\n",
    "\n",
    "* from moduloXX import itemA, itemB"
   ]
  },
  {
   "attachments": {},
   "cell_type": "markdown",
   "metadata": {},
   "source": [
    "~~~~python\n",
    "import math\n",
    "\n",
    "math.sqrt(25)\n",
    "math.log2(1024)\n",
    "math.cos(45)\n",
    "\n",
    "import math as m\n",
    "\n",
    "m.sqrt(25)\n",
    "m.log2(1024)\n",
    "m.cos(45)\n",
    "\n",
    "from math import sqrt, log2, cos\n",
    "\n",
    "sqrt(25)\n",
    "log2(1024)\n",
    "cos(45)"
   ]
  },
  {
   "attachments": {},
   "cell_type": "markdown",
   "metadata": {},
   "source": [
    "CLASSIFICAÇÃO DOS MÓDULOS (BIBLIOTECAS)\n",
    "\n",
    "Podemos classificar os módulos (bibliotecas) em três categorias, cada uma das quais vamos estudar:\n",
    "\n",
    "* Módulos built-in: embutidos no interpretador.\n",
    "* Módulos de terceiros: criados por terceiros e disponibilizados via PyPI.\n",
    "* Módulos próprios: criados pelo desenvolvedor."
   ]
  },
  {
   "attachments": {},
   "cell_type": "markdown",
   "metadata": {},
   "source": [
    "MÓDULOS BUILT-IN\n",
    "\n",
    "Ao instalar o interpretador Python, também é feita a instalação de uma biblioteca de módulos, que pode variar de um sistema operacional para outro."
   ]
  },
  {
   "attachments": {},
   "cell_type": "markdown",
   "metadata": {},
   "source": [
    "MÓDULO RANDOM\n",
    "\n",
    "Random é um módulo built-in usado para criar número aleatórios. Vamos explorar as funções:\n",
    "\n",
    "* random.randint(a, b): retorna um valor inteiro aleatório, de modo que esse número esteja entre a, b.\n",
    "* random.choice(seq): extrai um valor de forma aleatória de uma certa sequência.\n",
    "* random.sample(population, k): retorna uma lista com k elementos, extraídos da população."
   ]
  },
  {
   "cell_type": "code",
   "execution_count": 1,
   "metadata": {},
   "outputs": [
    {
     "name": "stdout",
     "output_type": "stream",
     "text": [
      "31\n",
      "10\n",
      "[65251, 52388, 16946, 48344, 24898, 44606, 53650, 78937, 10640, 31081, 9537, 27853]\n"
     ]
    }
   ],
   "source": [
    "import random\n",
    "\n",
    "print(random.randint(0, 100))\n",
    "print(random.choice([1, 10, -1, 100]))\n",
    "print(random.sample(range(100000), k=12))"
   ]
  },
  {
   "attachments": {},
   "cell_type": "markdown",
   "metadata": {},
   "source": [
    "MÓDULO OS\n",
    "\n",
    "OS é um módulo built-in usado para executar comandos no sistema operacional. Vamos explorar as funções:\n",
    "\n",
    "* os.getcwd(): retorna uma string com o caminho do diretório de trabalho.\n",
    "* os.listdir(path='.'): retorna uma lista com todas as entradas de um diretório. Se não for especificado um caminho, então a busca é realizada em outro diretório de trabalho.\n",
    "* os.cpu_count(): retorna um inteiro com o número de CPUs do sistema.\n",
    "* os.getlogin(): retorna o nome do usário logado.\n",
    "* os.getenv(key): retorna uma string com o conteúdo de uma variável de ambiente especificada na key.\n",
    "* os.getpid(): retorna o id do processo atual."
   ]
  },
  {
   "cell_type": "code",
   "execution_count": 2,
   "metadata": {},
   "outputs": [
    {
     "data": {
      "text/plain": [
       "9224"
      ]
     },
     "execution_count": 2,
     "metadata": {},
     "output_type": "execute_result"
    }
   ],
   "source": [
    "import os\n",
    "\n",
    "os.getcwd()\n",
    "os.listdir()\n",
    "os.cpu_count()\n",
    "os.getlogin()\n",
    "os.getenv(key='path')\n",
    "os.getpid()"
   ]
  },
  {
   "attachments": {},
   "cell_type": "markdown",
   "metadata": {},
   "source": [
    "MÓDULO RE\n",
    "\n",
    "O módulo re (regular expression) fornece funções para busca de padrões em um texto. Uma expressão regular especifica um conjunto de strings que corresponde a ela. As funções neste módulo permitem verificar se uma determinada string corresponde a uma determinada expressão regular. Essa técnica de programação é utilizada em diversas linguagens de programação, pois a construção de re depende do conhecimento de padrões. Vamos explorar as funções:\n",
    "\n",
    "* re.search(pattern, string, flags=0): varre a string procurando o primeiro local onde o padrão de expressão regular produz uma correspondência e o retorna. Retorna None se nenhuma correspondência é achada.\n",
    "* re.match(pattern, string, flags=0): procura por um padrão no começo da string. Retorna None se a sequência não corresponder ao padrão.\n",
    "* re.split(pattern, string, maxsplit=0, flags=0): divide uma string pelas ocorrências do padrão."
   ]
  },
  {
   "attachments": {},
   "cell_type": "markdown",
   "metadata": {},
   "source": [
    "Para entendermos o funcionamento da expressão regular, vamos considerar um cenário onde temos um nome de arquivo com a data: meuArquivo_20-01-2020.py. Nosso objetivo é guardar a parte textual do nome em uma variável para a usarmos posteriormente. Vamos utilizar os três métodos para fazer essa separação. O search() faz a procura em toda string, o match() faz a procura somente no começo (razão pela qual, portanto, também encontrará neste caso) e o split() faz a transformação em uma lista. Como queremos somente a parte textual, pegamos a posição 0 da lista."
   ]
  },
  {
   "cell_type": "code",
   "execution_count": 3,
   "metadata": {},
   "outputs": [
    {
     "name": "stdout",
     "output_type": "stream",
     "text": [
      "meuArquivo\n",
      "meuArquivo\n",
      "meuArquivo\n"
     ]
    }
   ],
   "source": [
    "import re\n",
    "\n",
    "string = 'meuArquivo_20-01-2020.py'\n",
    "padrao = \"[a-zA-Z]*\"\n",
    "\n",
    "texto1 = re.search(padrao, string).group()\n",
    "texto2 = re.match(padrao, string).group()\n",
    "texto3 = re.split(\"_\", string)[0]\n",
    "\n",
    "print(texto1)\n",
    "print(texto2)\n",
    "print(texto3)"
   ]
  },
  {
   "attachments": {},
   "cell_type": "markdown",
   "metadata": {},
   "source": [
    "Na linha 4, da entrada 6, construímos uma expressão regular para buscar por sequências de letras maiúsculas e minúsculas [a-zA-Z], que pode variar de tamanho 0 até N (*). Nas linhas 6 e 7 usamos esse padrão para fazer a procura na string. Ambas as funções conseguiram encontrar; e, então, usamos a função group() da re para capturar o resultado. Na linha 8, usamos o padrão \"_\" como a marcação de onde cortar a string, o que resulta em uma lista com dois valores – como o texto é a primeira parte, capturamos essa posição com o [0]."
   ]
  },
  {
   "cell_type": "markdown",
   "metadata": {},
   "source": []
  },
  {
   "attachments": {},
   "cell_type": "markdown",
   "metadata": {},
   "source": [
    "MÓDULO DATETIME\n",
    "\n",
    "Trabalhar com datas é um desafio nas mais diversas linguagens de programação. Em Python há um módulo built-in capaz de lidar com datas e horas. O módulo datetime fornece classes para manipular datas e horas. Uma vez que esse módulo possui classes, então a sintaxe para acessar os métodos deve ser algo similar a: modulo.classe.metodo(). Dada a diversa quantidade de possibilidades de se trabalhar com esse módulo, vamos ver um pouco das classes datetime e timedelta."
   ]
  },
  {
   "cell_type": "code",
   "execution_count": 4,
   "metadata": {},
   "outputs": [],
   "source": [
    "import datetime as dt\n",
    "\n",
    "# Operações com data e hora\n",
    "hoje = dt.datetime.today()\n",
    "ontem = hoje - dt.timedelta(days=1)\n",
    "uma_semana_atras = hoje - dt.timedelta(weeks=1)\n",
    "\n",
    "agora = dt.datetime.now()\n",
    "duas_horas_atras = agora - dt.timedelta(hours=2)\n",
    "\n",
    "# Formatação\n",
    "hoje_formatado = dt.datetime.strftime(hoje, \"%d-%m-%Y\") #https://docs.python.org/3/library/datetime.html#strftime-strptime-behavior\n",
    "ontem_formatado = dt.datetime.strftime(ontem, \"%d de %B de %Y\")\n",
    "\n",
    "# Converção de string para data\n",
    "data_string = '11/06/2019 15:30'\n",
    "data_dt = dt.datetime.strptime(data_string, \"%d/%m/%Y %H:%M\")"
   ]
  },
  {
   "attachments": {},
   "cell_type": "markdown",
   "metadata": {},
   "source": [
    "Na entrada 7, usamos algumas funcionalidades disponíveis no módulo datetime. Repare que fizemos a importação com a utilização do apelido de dt, prática essa que é comum para nomes grandes.\n",
    "\n",
    "Linha 4: usamos o método today() da classe datetime para capturar a data e a hora do sistema.\n",
    "\n",
    "Linha 5: usamos a classe timedelta para subtrair 1 dia de uma data específica.\n",
    "\n",
    "Linha 6: usamos a classe timedelta para subtrair 1 semana de uma data específica.\n",
    "\n",
    "Linha 8: usamos o método now() da classe datetime para captura a data e hora do sistema.\n",
    "\n",
    "Linha 9: usamos a classe timedelta para subtrair 2 horas de uma data específica.\n",
    "\n",
    "Linhas 12 e 13: usamos o método strftime() da classe datetime para formatar a aparência de uma data específica. [Acesse o endereço https://bit.ly/2E33mzR para verificar as possibilidades de formatação.]\n",
    "\n",
    "Linha 17: usamos o método strptime() da classe datetime, para converter uma string em um objeto do tipo datetime. Essa transformação é interessante, pois habilita as operações que vimos."
   ]
  },
  {
   "attachments": {},
   "cell_type": "markdown",
   "metadata": {},
   "source": [
    "MÓDULOS DE TERCEIROS"
   ]
  },
  {
   "attachments": {},
   "cell_type": "markdown",
   "metadata": {},
   "source": [
    "Para utilizar uma biblioteca do repositório PyPI, é preciso instalá-la. Para isso, abra um terminal no sistema operacional e digite: pip install biblioteca [biblioteca é o nome do pacote que deseja instalar. Por exemplo: pip install numpy.]"
   ]
  },
  {
   "attachments": {},
   "cell_type": "markdown",
   "metadata": {},
   "source": [
    "No dia a dia, exitem bibliotecas que têm sido amplamente utilizadas, como as para tratamento e visualização de dados, para implementações de inteligência artificial (deep learning e machine learning), para tratamento de imagens, para conexão com banco de dados, dentre outras. Veja algumas a seguir:"
   ]
  },
  {
   "attachments": {},
   "cell_type": "markdown",
   "metadata": {},
   "source": [
    "**Bibliotecas para tratamento de imagens**\n",
    "\n",
    "Pillow: esta biblioteca oferece amplo suporte aos formatos de arquivo, uma representação interna eficiente e recursos de processamento de imagem bastante poderosos.\n",
    "\n",
    "OpenCV Python: é uma biblioteca de código aberto licenciada por BSD que inclui várias centenas de algoritmos de visão computacional.\n",
    "\n",
    "Luminoth: é um kit de ferramentas de código aberto para visão computacional. Atualmente, atua com a detecção de objetos, mas a ideia é expandi-la.\n",
    "\n",
    "Mahotas: é uma biblioteca de algoritmos rápidos de visão computacional (todos implementados em C++ para ganhar velocidade) que opera com matrizes NumPy.\n",
    "\n",
    "**Bibliotecas para visualização de dados**\n",
    "\n",
    "Matplotlib: é uma biblioteca abrangente para criar visualizações estáticas, animadas e interativas em Python.\n",
    "\n",
    "Bokeh: é uma biblioteca de visualização interativa para navegadores modernos. Oferece interatividade de alto desempenho em conjuntos de dados grandes ou de streaming.\n",
    "\n",
    "Seaborn: é uma biblioteca para criar gráficos estatísticos em Python.\n",
    "\n",
    "Altair: é uma biblioteca declarativa de visualização estatística para Python.\n",
    "\n",
    "**Bibliotecas para tratamento de dados**\n",
    "\n",
    "Pandas: é um pacote Python que fornece estruturas de dados rápidas, flexíveis e expressivas, projetadas para facilitar o trabalho com dados estruturados (em forma de tabela).\n",
    "\n",
    "NumPy: além de seus óbvios usos científicos, a NumPy também pode ser usada como um eficiente recipiente multidimensional de dados genéricos.\n",
    "\n",
    "Pyspark: Spark é um sistema de computação em cluster rápido e geral para Big Data.\n",
    "\n",
    "Pingouin: é um pacote estatístico Python baseado em Pandas.\n",
    "\n",
    "**Bibliotecas para tratamento de textos**\n",
    "\n",
    "Punctuation: esta é uma biblioteca Python que removerá toda a pontuação em uma string.\n",
    "\n",
    "NLTK: o Natural Language Toolkit é um pacote Python para processamento de linguagem natural.\n",
    "\n",
    "FlashText: este módulo pode ser usado para substituir palavras-chave em frases ou extraí-las.\n",
    "\n",
    "TextBlob: é uma biblioteca Python para processamento de dados textuais.\n",
    "\n",
    "**Internet, rede e cloud**\n",
    "\n",
    "Requests: permite que você envie solicitações HTTP/1.1 com extrema facilidade. Não há necessidade de adicionar manualmente queries de consulta aos seus URLs ou de codificar os dados PUT e POST: basta usar o método JSON.\n",
    "\n",
    "BeautifulSoup: é uma biblioteca que facilita a captura de informações de páginas da web.\n",
    "\n",
    "Paramiko: é uma biblioteca para fazer conexões SSH2 (cliente ou servidor). A ênfase está no uso do SSH2 como uma alternativa ao SSL para fazer conexões seguras entre scripts Python.\n",
    "\n",
    "s3fs: é uma interface de arquivos Python para S3 (Amazon Simple Storage Service).\n",
    "\n",
    "**Bibliotecas para acesso a bancos de dados**\n",
    "\n",
    "mysql-connector-python: permite que programas em Python acessem bancos de dados MySQL.\n",
    "\n",
    "cx-Oracle: permite que programas em Python acessem bancos de dados Oracle.\n",
    "\n",
    "psycopg2: permite que programas em Python acessem bancos de dados PostgreSQL.\n",
    "\n",
    "SQLAlchemy: fornece um conjunto completo de padrões de persistência, projetados para acesso eficiente e de alto desempenho a diversos banco de dados, adaptado para uma linguagem de domínio simples e Python.\n",
    "\n",
    "**Deep learning - Machine learning**\n",
    "\n",
    "Keras: é uma biblioteca de rede neural profunda de código aberto.\n",
    "\n",
    "TensorFlow: é uma plataforma de código aberto de ponta a ponta para aprendizado de máquina, desenvolvido originalmente pela Google.\n",
    "\n",
    "PyTorch: é um pacote Python que fornece dois recursos de alto nível: i) computação de tensor (como NumPy) com forte aceleração de GPU; e ii) redes neurais profundas.\n",
    "\n",
    "Scikit Learn: módulo Python para aprendizado de máquina construído sobre o SciPy (SciPy é um software de código aberto para matemática, ciências e engenharia).\n",
    "\n",
    "**Biblioteca para jogos - PyGame**\n",
    "\n",
    "PyGame: é uma biblioteca para a construção de aplicações gráficas e aplicação multimídia, utilizada para desenvolver jogos."
   ]
  },
  {
   "attachments": {},
   "cell_type": "markdown",
   "metadata": {},
   "source": [
    "BIBLIOTECA REQUESTS\n",
    "\n",
    "A biblioteca requests habilita funcionalidades do procotolo HTTP, como o get e o post. Dentre seus métodos, o get() é o responsável por capturar informação da internet. A documentação sobre ela está disponível no endereço https://requests.readthedocs.io/pt_BR/latest/. Essa biblioteca foi construída com o intuito de substituir o módulo urllib2, que demanda muito trabalho para obter os resultados. O método get() permite que você informe a URL de que deseja obter informação. Sua sintaxe é: requests.get('https://XXXXXXX'). Para outros parâmetros dessa função, como autenticação, cabeçalhos, etc., consulte a documentação."
   ]
  },
  {
   "cell_type": "code",
   "execution_count": 7,
   "metadata": {},
   "outputs": [
    {
     "data": {
      "text/plain": [
       "{'Server': 'GitHub.com', 'Date': 'Tue, 14 Mar 2023 22:39:48 GMT', 'Content-Type': 'application/json; charset=utf-8', 'Cache-Control': 'public, max-age=60, s-maxage=60', 'Vary': 'Accept, Accept-Encoding, Accept, X-Requested-With', 'ETag': 'W/\"5572562ea23fe88a170e00bf19fecfc91501fe957d50117e5d1aaa4184baa1a1\"', 'Last-Modified': 'Tue, 14 Mar 2023 22:34:48 GMT', 'X-Poll-Interval': '60', 'X-GitHub-Media-Type': 'github.v3; format=json', 'Link': '<https://api.github.com/events?page=2>; rel=\"next\", <https://api.github.com/events?page=10>; rel=\"last\"', 'x-github-api-version-selected': '2022-11-28', 'Access-Control-Expose-Headers': 'ETag, Link, Location, Retry-After, X-GitHub-OTP, X-RateLimit-Limit, X-RateLimit-Remaining, X-RateLimit-Used, X-RateLimit-Resource, X-RateLimit-Reset, X-OAuth-Scopes, X-Accepted-OAuth-Scopes, X-Poll-Interval, X-GitHub-Media-Type, X-GitHub-SSO, X-GitHub-Request-Id, Deprecation, Sunset', 'Access-Control-Allow-Origin': '*', 'Strict-Transport-Security': 'max-age=31536000; includeSubdomains; preload', 'X-Frame-Options': 'deny', 'X-Content-Type-Options': 'nosniff', 'X-XSS-Protection': '0', 'Referrer-Policy': 'origin-when-cross-origin, strict-origin-when-cross-origin', 'Content-Security-Policy': \"default-src 'none'\", 'Content-Encoding': 'gzip', 'X-RateLimit-Limit': '60', 'X-RateLimit-Remaining': '59', 'X-RateLimit-Reset': '1678837188', 'X-RateLimit-Resource': 'core', 'X-RateLimit-Used': '1', 'Accept-Ranges': 'bytes', 'Transfer-Encoding': 'chunked', 'X-GitHub-Request-Id': '101E:0D3C:307A3D:36A5A8:6410F7B4'}"
      ]
     },
     "execution_count": 7,
     "metadata": {},
     "output_type": "execute_result"
    }
   ],
   "source": [
    "import requests\n",
    "\n",
    "info = requests.get('https://api.github.com/events')\n",
    "info.headers"
   ]
  },
  {
   "cell_type": "code",
   "execution_count": 10,
   "metadata": {},
   "outputs": [
    {
     "name": "stdout",
     "output_type": "stream",
     "text": [
      "Tue, 14 Mar 2023 22:39:48 GMT\n",
      "GitHub.com\n",
      "utf-8\n",
      "Tue, 14 Mar 2023 22:34:48 GMT\n"
     ]
    }
   ],
   "source": [
    "print(info.headers['date']) # Data de extração\n",
    "print(info.headers['server']) # Servidor de origem\n",
    "print(info.encoding) # Encoding do texto\n",
    "print(info.headers['last-modified']) # Data da última modificação da informação"
   ]
  },
  {
   "cell_type": "code",
   "execution_count": 11,
   "metadata": {},
   "outputs": [
    {
     "name": "stdout",
     "output_type": "stream",
     "text": [
      "<class 'str'>\n"
     ]
    },
    {
     "data": {
      "text/plain": [
       "'[{\"id\":\"27723106677\",\"type\":\"CreateEvent\",\"actor\":{\"id\":19557880,\"login\":\"begonaguereca\",\"display_lo'"
      ]
     },
     "execution_count": 11,
     "metadata": {},
     "output_type": "execute_result"
    }
   ],
   "source": [
    "texto_str = info.text\n",
    "print(type(texto_str))\n",
    "texto_str[:100] # exibe somente os 100 primeiros caracteres"
   ]
  },
  {
   "cell_type": "code",
   "execution_count": 12,
   "metadata": {},
   "outputs": [
    {
     "name": "stdout",
     "output_type": "stream",
     "text": [
      "<class 'list'>\n"
     ]
    },
    {
     "data": {
      "text/plain": [
       "{'id': '27723106677',\n",
       " 'type': 'CreateEvent',\n",
       " 'actor': {'id': 19557880,\n",
       "  'login': 'begonaguereca',\n",
       "  'display_login': 'begonaguereca',\n",
       "  'gravatar_id': '',\n",
       "  'url': 'https://api.github.com/users/begonaguereca',\n",
       "  'avatar_url': 'https://avatars.githubusercontent.com/u/19557880?'},\n",
       " 'repo': {'id': 371111447,\n",
       "  'name': 'valet-testing-integration/integration-tests-target',\n",
       "  'url': 'https://api.github.com/repos/valet-testing-integration/integration-tests-target'},\n",
       " 'payload': {'ref': 'convert-integration-tests-designer-freestyle-elephant-to-actions-20230314-223446',\n",
       "  'ref_type': 'branch',\n",
       "  'master_branch': 'main',\n",
       "  'description': None,\n",
       "  'pusher_type': 'user'},\n",
       " 'public': True,\n",
       " 'created_at': '2023-03-14T22:34:48Z',\n",
       " 'org': {'id': 84097682,\n",
       "  'login': 'valet-testing-integration',\n",
       "  'gravatar_id': '',\n",
       "  'url': 'https://api.github.com/orgs/valet-testing-integration',\n",
       "  'avatar_url': 'https://avatars.githubusercontent.com/u/84097682?'}}"
      ]
     },
     "execution_count": 12,
     "metadata": {},
     "output_type": "execute_result"
    }
   ],
   "source": [
    "texto_json = info.json()\n",
    "print(type(texto_json))\n",
    "texto_json[0]"
   ]
  },
  {
   "cell_type": "code",
   "execution_count": 21,
   "metadata": {},
   "outputs": [
    {
     "ename": "JSONDecodeError",
     "evalue": "Expecting value: line 1 column 1 (char 0)",
     "output_type": "error",
     "traceback": [
      "\u001b[1;31m---------------------------------------------------------------------------\u001b[0m",
      "\u001b[1;31mJSONDecodeError\u001b[0m                           Traceback (most recent call last)",
      "File \u001b[1;32mc:\\Users\\ryanj\\AppData\\Local\\Programs\\Python\\Python39\\lib\\site-packages\\requests\\models.py:971\u001b[0m, in \u001b[0;36mResponse.json\u001b[1;34m(self, **kwargs)\u001b[0m\n\u001b[0;32m    970\u001b[0m \u001b[39mtry\u001b[39;00m:\n\u001b[1;32m--> 971\u001b[0m     \u001b[39mreturn\u001b[39;00m complexjson\u001b[39m.\u001b[39mloads(\u001b[39mself\u001b[39m\u001b[39m.\u001b[39mtext, \u001b[39m*\u001b[39m\u001b[39m*\u001b[39mkwargs)\n\u001b[0;32m    972\u001b[0m \u001b[39mexcept\u001b[39;00m JSONDecodeError \u001b[39mas\u001b[39;00m e:\n\u001b[0;32m    973\u001b[0m     \u001b[39m# Catch JSON-related errors and raise as requests.JSONDecodeError\u001b[39;00m\n\u001b[0;32m    974\u001b[0m     \u001b[39m# This aliases json.JSONDecodeError and simplejson.JSONDecodeError\u001b[39;00m\n",
      "File \u001b[1;32mc:\\Users\\ryanj\\AppData\\Local\\Programs\\Python\\Python39\\lib\\json\\__init__.py:346\u001b[0m, in \u001b[0;36mloads\u001b[1;34m(s, cls, object_hook, parse_float, parse_int, parse_constant, object_pairs_hook, **kw)\u001b[0m\n\u001b[0;32m    343\u001b[0m \u001b[39mif\u001b[39;00m (\u001b[39mcls\u001b[39m \u001b[39mis\u001b[39;00m \u001b[39mNone\u001b[39;00m \u001b[39mand\u001b[39;00m object_hook \u001b[39mis\u001b[39;00m \u001b[39mNone\u001b[39;00m \u001b[39mand\u001b[39;00m\n\u001b[0;32m    344\u001b[0m         parse_int \u001b[39mis\u001b[39;00m \u001b[39mNone\u001b[39;00m \u001b[39mand\u001b[39;00m parse_float \u001b[39mis\u001b[39;00m \u001b[39mNone\u001b[39;00m \u001b[39mand\u001b[39;00m\n\u001b[0;32m    345\u001b[0m         parse_constant \u001b[39mis\u001b[39;00m \u001b[39mNone\u001b[39;00m \u001b[39mand\u001b[39;00m object_pairs_hook \u001b[39mis\u001b[39;00m \u001b[39mNone\u001b[39;00m \u001b[39mand\u001b[39;00m \u001b[39mnot\u001b[39;00m kw):\n\u001b[1;32m--> 346\u001b[0m     \u001b[39mreturn\u001b[39;00m _default_decoder\u001b[39m.\u001b[39;49mdecode(s)\n\u001b[0;32m    347\u001b[0m \u001b[39mif\u001b[39;00m \u001b[39mcls\u001b[39m \u001b[39mis\u001b[39;00m \u001b[39mNone\u001b[39;00m:\n",
      "File \u001b[1;32mc:\\Users\\ryanj\\AppData\\Local\\Programs\\Python\\Python39\\lib\\json\\decoder.py:337\u001b[0m, in \u001b[0;36mJSONDecoder.decode\u001b[1;34m(self, s, _w)\u001b[0m\n\u001b[0;32m    333\u001b[0m \u001b[39m\u001b[39m\u001b[39m\"\"\"Return the Python representation of ``s`` (a ``str`` instance\u001b[39;00m\n\u001b[0;32m    334\u001b[0m \u001b[39mcontaining a JSON document).\u001b[39;00m\n\u001b[0;32m    335\u001b[0m \n\u001b[0;32m    336\u001b[0m \u001b[39m\"\"\"\u001b[39;00m\n\u001b[1;32m--> 337\u001b[0m obj, end \u001b[39m=\u001b[39m \u001b[39mself\u001b[39;49m\u001b[39m.\u001b[39;49mraw_decode(s, idx\u001b[39m=\u001b[39;49m_w(s, \u001b[39m0\u001b[39;49m)\u001b[39m.\u001b[39;49mend())\n\u001b[0;32m    338\u001b[0m end \u001b[39m=\u001b[39m _w(s, end)\u001b[39m.\u001b[39mend()\n",
      "File \u001b[1;32mc:\\Users\\ryanj\\AppData\\Local\\Programs\\Python\\Python39\\lib\\json\\decoder.py:355\u001b[0m, in \u001b[0;36mJSONDecoder.raw_decode\u001b[1;34m(self, s, idx)\u001b[0m\n\u001b[0;32m    354\u001b[0m \u001b[39mexcept\u001b[39;00m \u001b[39mStopIteration\u001b[39;00m \u001b[39mas\u001b[39;00m err:\n\u001b[1;32m--> 355\u001b[0m     \u001b[39mraise\u001b[39;00m JSONDecodeError(\u001b[39m\"\u001b[39m\u001b[39mExpecting value\u001b[39m\u001b[39m\"\u001b[39m, s, err\u001b[39m.\u001b[39mvalue) \u001b[39mfrom\u001b[39;00m \u001b[39mNone\u001b[39m\n\u001b[0;32m    356\u001b[0m \u001b[39mreturn\u001b[39;00m obj, end\n",
      "\u001b[1;31mJSONDecodeError\u001b[0m: Expecting value: line 1 column 1 (char 0)",
      "\nDuring handling of the above exception, another exception occurred:\n",
      "\u001b[1;31mJSONDecodeError\u001b[0m                           Traceback (most recent call last)",
      "Cell \u001b[1;32mIn[21], line 6\u001b[0m\n\u001b[0;32m      3\u001b[0m \u001b[39mimport\u001b[39;00m \u001b[39mrequests\u001b[39;00m\n\u001b[0;32m      4\u001b[0m \u001b[39mimport\u001b[39;00m \u001b[39mdatetime\u001b[39;00m \u001b[39mas\u001b[39;00m \u001b[39mdt\u001b[39;00m\n\u001b[1;32m----> 6\u001b[0m jogos \u001b[39m=\u001b[39m requests\u001b[39m.\u001b[39;49mget(\u001b[39m'\u001b[39;49m\u001b[39mhttp://worldcup.sfg.io/matches\u001b[39;49m\u001b[39m'\u001b[39;49m)\u001b[39m.\u001b[39;49mjson()\n\u001b[0;32m      7\u001b[0m \u001b[39mprint\u001b[39m(\u001b[39mtype\u001b[39m(jogos))\n\u001b[0;32m      9\u001b[0m \u001b[39m# segundo passo: percorrer cada dicionário da lista (ou seja, cada jogo) extraindo as informações\u001b[39;00m\n",
      "File \u001b[1;32mc:\\Users\\ryanj\\AppData\\Local\\Programs\\Python\\Python39\\lib\\site-packages\\requests\\models.py:975\u001b[0m, in \u001b[0;36mResponse.json\u001b[1;34m(self, **kwargs)\u001b[0m\n\u001b[0;32m    971\u001b[0m     \u001b[39mreturn\u001b[39;00m complexjson\u001b[39m.\u001b[39mloads(\u001b[39mself\u001b[39m\u001b[39m.\u001b[39mtext, \u001b[39m*\u001b[39m\u001b[39m*\u001b[39mkwargs)\n\u001b[0;32m    972\u001b[0m \u001b[39mexcept\u001b[39;00m JSONDecodeError \u001b[39mas\u001b[39;00m e:\n\u001b[0;32m    973\u001b[0m     \u001b[39m# Catch JSON-related errors and raise as requests.JSONDecodeError\u001b[39;00m\n\u001b[0;32m    974\u001b[0m     \u001b[39m# This aliases json.JSONDecodeError and simplejson.JSONDecodeError\u001b[39;00m\n\u001b[1;32m--> 975\u001b[0m     \u001b[39mraise\u001b[39;00m RequestsJSONDecodeError(e\u001b[39m.\u001b[39mmsg, e\u001b[39m.\u001b[39mdoc, e\u001b[39m.\u001b[39mpos)\n",
      "\u001b[1;31mJSONDecodeError\u001b[0m: Expecting value: line 1 column 1 (char 0)"
     ]
    }
   ],
   "source": [
    "# primeiro passo extrair as informações com o request utilizando o método json().\n",
    "\n",
    "import requests\n",
    "import datetime as dt\n",
    "\n",
    "jogos = requests.get('http://worldcup.sfg.io/matches').json()\n",
    "print(type(jogos))\n",
    "\n",
    "# segundo passo: percorrer cada dicionário da lista (ou seja, cada jogo) extraindo as informações\n",
    "\n",
    "info_relatorio = []\n",
    "file = open('relatorio_jogos.txt', \"w\") # cria um arquivo txt na pasta em que está trabalhando.\n",
    "\n",
    "for jogo in jogos:\n",
    "    data = jogo['datetime'] # extrai a data\n",
    "    data = dt.datetime.strptime(data, \"%Y-%m-%dT%H:%M:%SZ\") # converte de string para data\n",
    "    data = data.strftime(\"%d/%m/%Y\") # formata\n",
    "    \n",
    "    nome_time1 = jogo['home_team_country']\n",
    "    nome_time2 = jogo['away_team_country']\n",
    "\n",
    "    gols_time1 = jogo['home_team']['goals']\n",
    "    gols_time2 = jogo['away_team']['goals']\n",
    "    \n",
    "    linha = f\"({data}) - {nome_time1} x {nome_time2} = {gols_time1} a {gols_time2}\"\n",
    "    file.write(linha + '\\n') # escreve a linha no arquivo txt\n",
    "    info_relatorio.append(linha)\n",
    "\n",
    "file.close() # é preciso fechar o arquivo\n",
    "info_relatorio[:5]"
   ]
  },
  {
   "attachments": {},
   "cell_type": "markdown",
   "metadata": {},
   "source": [
    "MATPLOTLIB\n",
    "\n",
    "Matplotlib é uma biblioteca com funcionalidades para criar gráficos, cuja documentação está disponível no endereço https://matplotlib.org/.  É composta por uma série de exemplos. Vamos utilizar a interface Pyplot para criar um gráfico simples baseado nas informações que salvamos sobre os jogos da Copa do Mundo de Futebol Feminino de 2019."
   ]
  },
  {
   "cell_type": "code",
   "execution_count": 20,
   "metadata": {},
   "outputs": [
    {
     "ename": "FileNotFoundError",
     "evalue": "[Errno 2] No such file or directory: 'relatorio_jogos.txt'",
     "output_type": "error",
     "traceback": [
      "\u001b[1;31m---------------------------------------------------------------------------\u001b[0m",
      "\u001b[1;31mFileNotFoundError\u001b[0m                         Traceback (most recent call last)",
      "Cell \u001b[1;32mIn[20], line 2\u001b[0m\n\u001b[0;32m      1\u001b[0m \u001b[39m# ler o arquivo salvo\u001b[39;00m\n\u001b[1;32m----> 2\u001b[0m file \u001b[39m=\u001b[39m \u001b[39mopen\u001b[39;49m(\u001b[39m'\u001b[39;49m\u001b[39mrelatorio_jogos.txt\u001b[39;49m\u001b[39m'\u001b[39;49m, \u001b[39m'\u001b[39;49m\u001b[39mr\u001b[39;49m\u001b[39m'\u001b[39;49m)\n\u001b[0;32m      3\u001b[0m \u001b[39mprint\u001b[39m(\u001b[39m'\u001b[39m\u001b[39mfile = \u001b[39m\u001b[39m'\u001b[39m, file, \u001b[39m'\u001b[39m\u001b[39m\\n\u001b[39;00m\u001b[39m'\u001b[39m)\n\u001b[0;32m      4\u001b[0m info_relatorio \u001b[39m=\u001b[39m file\u001b[39m.\u001b[39mreadlines()\n",
      "File \u001b[1;32m~\\AppData\\Roaming\\Python\\Python39\\site-packages\\IPython\\core\\interactiveshell.py:282\u001b[0m, in \u001b[0;36m_modified_open\u001b[1;34m(file, *args, **kwargs)\u001b[0m\n\u001b[0;32m    275\u001b[0m \u001b[39mif\u001b[39;00m file \u001b[39min\u001b[39;00m {\u001b[39m0\u001b[39m, \u001b[39m1\u001b[39m, \u001b[39m2\u001b[39m}:\n\u001b[0;32m    276\u001b[0m     \u001b[39mraise\u001b[39;00m \u001b[39mValueError\u001b[39;00m(\n\u001b[0;32m    277\u001b[0m         \u001b[39mf\u001b[39m\u001b[39m\"\u001b[39m\u001b[39mIPython won\u001b[39m\u001b[39m'\u001b[39m\u001b[39mt let you open fd=\u001b[39m\u001b[39m{\u001b[39;00mfile\u001b[39m}\u001b[39;00m\u001b[39m by default \u001b[39m\u001b[39m\"\u001b[39m\n\u001b[0;32m    278\u001b[0m         \u001b[39m\"\u001b[39m\u001b[39mas it is likely to crash IPython. If you know what you are doing, \u001b[39m\u001b[39m\"\u001b[39m\n\u001b[0;32m    279\u001b[0m         \u001b[39m\"\u001b[39m\u001b[39myou can use builtins\u001b[39m\u001b[39m'\u001b[39m\u001b[39m open.\u001b[39m\u001b[39m\"\u001b[39m\n\u001b[0;32m    280\u001b[0m     )\n\u001b[1;32m--> 282\u001b[0m \u001b[39mreturn\u001b[39;00m io_open(file, \u001b[39m*\u001b[39margs, \u001b[39m*\u001b[39m\u001b[39m*\u001b[39mkwargs)\n",
      "\u001b[1;31mFileNotFoundError\u001b[0m: [Errno 2] No such file or directory: 'relatorio_jogos.txt'"
     ]
    }
   ],
   "source": [
    "# ler o arquivo salvo\n",
    "file = open('relatorio_jogos.txt', 'r')\n",
    "print('file = ', file, '\\n')\n",
    "info_relatorio = file.readlines()\n",
    "file.close()\n",
    "\n",
    "print(\"linha 1 = \", info_relatorio[0])\n",
    "\n",
    "# Extrair somente a parta 'dd/mm' da linha\n",
    "datas = [linha[1:6] for linha in info_relatorio]\n",
    "print(sorted(datas))\n",
    "\n",
    "datas_count = [(data, datas.count(data)) for data in set(datas)]\n",
    "print(datas_count)\n",
    "\n",
    "%matplotlib inline\n",
    "import matplotlib.pyplot as plt\n",
    "\n",
    "eixo_x = datas_count.keys()\n",
    "eixo_y = datas_count.values()\n",
    "\n",
    "plt.figure(figsize=(15, 5))\n",
    "plt.xlabel('Dia do mês')\n",
    "plt.ylabel('Quantidade de jogos')\n",
    "plt.xticks(rotation=45)\n",
    "\n",
    "plt.bar(eixo_x, eixo_y)\n",
    "\n",
    "plt.show()"
   ]
  },
  {
   "attachments": {},
   "cell_type": "markdown",
   "metadata": {},
   "source": [
    "### Desafio "
   ]
  },
  {
   "attachments": {},
   "cell_type": "markdown",
   "metadata": {},
   "source": [
    "No Brasil, existe um órgão responsável por gerar as estatísticas da atividade econômica no país. Para tal tarefa, as atividades são classificadas em grupos; por exemplo, as atividades do grupo 262 referem-se à fabricação de equipamentos de informática e periféricos. \"A CNAE, Classificação Nacional de Atividades Econômicas, é a classificação oficialmente adotada pelo Sistema Estatístico Nacional na produção de estatísticas por tipo de atividade econômica, e pela Administração Pública, na identificação da atividade econômica em cadastros e registros de pessoa jurídica.\" (API CNAE, 2017, [s.p.])\n",
    "\n",
    "Como desenvolvedor em uma empresa de consultoria de software, você foi alocado em um projeto com base no qual o cliente deseja automatizar a extração dos dados do CNAE e gerar um relatório. Os dados estão disponíveis no endereço https://servicodados.ibge.gov.br/api/v2/cnae/classes. Você deve extraí-los e gerar as seguintes informações:\n",
    "\n",
    "* Quantas atividades distintas estão registradas?\n",
    "* Quantos grupos de atividades existem?\n",
    "* Quantas atividades estão cadastradas em cada grupo?\n",
    "* Qual grupo ou quais grupos possuem o maior número de atividades vinculadas?"
   ]
  },
  {
   "attachments": {},
   "cell_type": "markdown",
   "metadata": {},
   "source": [
    "RESOLUÇÃO\n",
    "\n",
    "Para automatizar o processo de extração dos dados do CNAE e gerar o relatório, vamos ter de usar bibliotecas. Para fazer a extração dos dados do CNAE, podemos usar a biblioteca requests. Para responder às perguntas, vamos precisar manipular listas e dicionários. Então vamos começar pela extração."
   ]
  },
  {
   "cell_type": "code",
   "execution_count": 3,
   "metadata": {},
   "outputs": [
    {
     "data": {
      "text/plain": [
       "{'id': '01113',\n",
       " 'descricao': 'CULTIVO DE CEREAIS',\n",
       " 'grupo': {'id': '011',\n",
       "  'descricao': 'PRODUÇÃO DE LAVOURAS TEMPORÁRIAS',\n",
       "  'divisao': {'id': '01',\n",
       "   'descricao': 'AGRICULTURA, PECUÁRIA E SERVIÇOS RELACIONADOS',\n",
       "   'secao': {'id': 'A',\n",
       "    'descricao': 'AGRICULTURA, PECUÁRIA, PRODUÇÃO FLORESTAL, PESCA E AQÜICULTURA'}}},\n",
       " 'observacoes': ['Esta classe compreende - o cultivo de alpiste, arroz, aveia, centeio, cevada, milho, milheto, painço, sorgo, trigo, trigo preto, triticale e outros cereais não especificados anteriormente',\n",
       "  'Esta classe compreende ainda - o beneficiamento de cereais em estabelecimento agrícola, quando atividade complementar ao cultivo\\r\\n- a produção de sementes de cereais, quando atividade complementar ao cultivo',\n",
       "  'Esta classe NÃO compreende - a produção de sementes certificadas dos cereais desta classe, inclusive modificadas geneticamente (01.41-5)\\r\\n- os serviços de preparação de terreno, cultivo e colheita realizados sob contrato (01.61-0)\\r\\n- o beneficiamento de cereais em estabelecimento agrícola realizado sob contrato (01.63-6)\\r\\n- o processamento ou beneficiamento de cereais em estabelecimento não-agrícola (grupo 10.4) e (grupo 10.6)\\r\\n- a produção de biocombustível (19.32-2)']}"
      ]
     },
     "execution_count": 3,
     "metadata": {},
     "output_type": "execute_result"
    }
   ],
   "source": [
    "import requests\n",
    "\n",
    "dados = requests.get('https://servicodados.ibge.gov.br/api/v2/cnae/classes').json() #resulta em uma lista de dicionarios\n",
    "dados[0]"
   ]
  },
  {
   "cell_type": "code",
   "execution_count": 4,
   "metadata": {},
   "outputs": [
    {
     "name": "stdout",
     "output_type": "stream",
     "text": [
      "673\n"
     ]
    }
   ],
   "source": [
    "#quantidade distintas de atividades, basta saber o tamanho da lista.\n",
    "\n",
    "qtde_atividades_distintas = len(dados)\n",
    "print(qtde_atividades_distintas)"
   ]
  },
  {
   "cell_type": "code",
   "execution_count": 5,
   "metadata": {},
   "outputs": [
    {
     "data": {
      "text/plain": [
       "['PRODUÇÃO DE LAVOURAS TEMPORÁRIAS',\n",
       " 'PRODUÇÃO DE LAVOURAS TEMPORÁRIAS',\n",
       " 'PRODUÇÃO DE LAVOURAS TEMPORÁRIAS',\n",
       " 'PRODUÇÃO DE LAVOURAS TEMPORÁRIAS',\n",
       " 'PRODUÇÃO DE LAVOURAS TEMPORÁRIAS',\n",
       " 'PRODUÇÃO DE LAVOURAS TEMPORÁRIAS',\n",
       " 'PRODUÇÃO DE LAVOURAS TEMPORÁRIAS',\n",
       " 'HORTICULTURA E FLORICULTURA',\n",
       " 'HORTICULTURA E FLORICULTURA',\n",
       " 'EXTRAÇÃO DE MINERAIS METÁLICOS NÃO-FERROSOS']"
      ]
     },
     "execution_count": 5,
     "metadata": {},
     "output_type": "execute_result"
    }
   ],
   "source": [
    "#criar uma lista dos grupos de atividades, extraindo a descricao\n",
    "\n",
    "grupos = []\n",
    "for registro in dados:\n",
    "    grupos.append(registro['grupo']['descricao'])\n",
    "\n",
    "grupos[:10] #exibe os 10 primeiros registros"
   ]
  },
  {
   "cell_type": "code",
   "execution_count": 7,
   "metadata": {},
   "outputs": [
    {
     "name": "stdout",
     "output_type": "stream",
     "text": [
      "285\n"
     ]
    },
    {
     "data": {
      "text/plain": [
       "[('ATIVIDADES AUXILIARES DOS SEGUROS, DA PREVIDÊNCIA COMPLEMENTAR E DOS PLANOS DE SAÚDE',\n",
       "  3),\n",
       " ('FABRICAÇÃO DE BRINQUEDOS E JOGOS RECREATIVOS', 1),\n",
       " ('EXTRAÇÃO DE MINÉRIO DE FERRO', 1),\n",
       " ('SEDES DE EMPRESAS E UNIDADES ADMINISTRATIVAS LOCAIS', 1),\n",
       " ('ARMAZENAMENTO, CARGA E DESCARGA', 2)]"
      ]
     },
     "execution_count": 7,
     "metadata": {},
     "output_type": "execute_result"
    }
   ],
   "source": [
    "#extraindo a quantidade de grupos de atividades\n",
    "qtde_grupos_distintos = len(set(grupos)) # set cria uma estrutura de dados removendo as duplicações\n",
    "print(qtde_grupos_distintos)\n",
    "\n",
    "grupos_count = [(grupo, grupos.count(grupo)) for grupo in set(grupos)]\n",
    "grupos_count[:5]"
   ]
  },
  {
   "cell_type": "code",
   "execution_count": 9,
   "metadata": {},
   "outputs": [
    {
     "data": {
      "text/plain": [
       "{'ATIVIDADES AUXILIARES DOS SEGUROS, DA PREVIDÊNCIA COMPLEMENTAR E DOS PLANOS DE SAÚDE': 3,\n",
       " 'FABRICAÇÃO DE BRINQUEDOS E JOGOS RECREATIVOS': 1,\n",
       " 'EXTRAÇÃO DE MINÉRIO DE FERRO': 1,\n",
       " 'SEDES DE EMPRESAS E UNIDADES ADMINISTRATIVAS LOCAIS': 1,\n",
       " 'ARMAZENAMENTO, CARGA E DESCARGA': 2,\n",
       " 'EDUCAÇÃO INFANTIL E ENSINO FUNDAMENTAL': 3,\n",
       " 'FABRICAÇÃO DE ARTEFATOS DE CONCRETO, CIMENTO, FIBROCIMENTO, GESSO E MATERIAIS SEMELHANTES': 1,\n",
       " 'FABRICAÇÃO DE MÁQUINAS E EQUIPAMENTOS DE USO INDUSTRIAL ESPECÍFICO': 7,\n",
       " 'ATIVIDADES IMOBILIÁRIAS POR CONTRATO OU COMISSÃO': 2,\n",
       " 'TRANSPORTE RODOVIÁRIO DE PASSAGEIROS': 5,\n",
       " 'COMÉRCIO ATACADISTA DE MÁQUINAS, APARELHOS E EQUIPAMENTOS, EXCETO DE TECNOLOGIAS DE INFORMAÇÃO E COMUNICAÇÃO': 6,\n",
       " 'ATIVIDADES PROFISSIONAIS, CIENTÍFICAS E TÉCNICAS NÃO ESPECIFICADAS ANTERIORMENTE': 1,\n",
       " 'FABRICAÇÃO E REFINO DE AÇÚCAR': 2,\n",
       " 'FABRICAÇÃO DE PRODUTOS FARMACÊUTICOS': 3,\n",
       " 'OUTROS TRANSPORTES AQUAVIÁRIOS': 2,\n",
       " 'ATIVIDADES DE ASSOCIAÇÕES DE DEFESA DE DIREITOS SOCIAIS': 1,\n",
       " 'ATIVIDADES DOS SERVIÇOS DE TECNOLOGIA DA INFORMAÇÃO': 5,\n",
       " 'COLETA DE RESÍDUOS': 2,\n",
       " 'FABRICAÇÃO DE CIMENTO': 1,\n",
       " 'PRODUÇÃO DE TUBOS DE AÇO, EXCETO TUBOS SEM COSTURA': 2,\n",
       " 'SERVIÇOS DE PRÉ-IMPRESSÃO E ACABAMENTOS GRÁFICOS': 2,\n",
       " 'EDUCAÇÃO PROFISSIONAL DE NÍVEL TÉCNICO E TECNOLÓGICO': 2,\n",
       " 'ATIVIDADES DE ATENDIMENTO HOSPITALAR': 1,\n",
       " 'FABRICAÇÃO DE ARTIGOS PARA VIAGEM E DE ARTEFATOS DIVERSOS DE COURO': 2,\n",
       " 'FABRICAÇÃO DE MÓVEIS': 4,\n",
       " 'HOTÉIS E SIMILARES': 1,\n",
       " 'EDUCAÇÃO SUPERIOR': 3,\n",
       " 'CAPTAÇÃO, TRATAMENTO E DISTRIBUIÇÃO DE ÁGUA': 1,\n",
       " 'ABATE E FABRICAÇÃO DE PRODUTOS DE CARNE': 3,\n",
       " 'TRANSPORTE AÉREO DE PASSAGEIROS': 2,\n",
       " 'SEGURIDADE SOCIAL OBRIGATÓRIA': 1,\n",
       " 'FABRICAÇÃO DE MÁQUINAS-FERRAMENTA': 1,\n",
       " 'FABRICAÇÃO DE EQUIPAMENTOS PARA DISTRIBUIÇÃO E CONTROLE DE ENERGIA ELÉTRICA': 3,\n",
       " 'FABRICAÇÃO DE ELETRODOMÉSTICOS': 2,\n",
       " 'DEMOLIÇÃO E PREPARAÇÃO DO TERRENO': 4,\n",
       " 'SERVIÇOS DE CATERING, BUFÊ E OUTROS SERVIÇOS DE COMIDA PREPARADA': 1,\n",
       " 'ACABAMENTOS EM FIOS, TECIDOS E ARTEFATOS TÊXTEIS': 1,\n",
       " 'ATIVIDADES ARTÍSTICAS, CRIATIVAS E DE ESPETÁCULOS': 3,\n",
       " 'EXTRAÇÃO DE OUTROS MINERAIS NÃO-METÁLICOS': 4,\n",
       " 'FABRICAÇÃO DE OUTROS PRODUTOS ALIMENTÍCIOS': 7,\n",
       " 'FABRICAÇÃO DE EQUIPAMENTOS DE INFORMÁTICA E PERIFÉRICOS': 2,\n",
       " 'REPRESENTANTES COMERCIAIS E AGENTES DO COMÉRCIO, EXCETO DE VEÍCULOS AUTOMOTORES E MOTOCICLETAS': 9,\n",
       " 'COMÉRCIO DE PEÇAS E ACESSÓRIOS PARA VEÍCULOS AUTOMOTORES': 1,\n",
       " 'FABRICAÇÃO DE PRODUTOS DE MADEIRA, CORTIÇA E MATERIAL TRANÇADO, EXCETO MÓVEIS': 4,\n",
       " 'OUTROS TIPOS DE ALOJAMENTO NÃO ESPECIFICADOS ANTERIORMENTE': 1,\n",
       " 'OBRAS DE ACABAMENTO': 1,\n",
       " 'PREVIDÊNCIA COMPLEMENTAR': 2,\n",
       " 'GERAÇÃO, TRANSMISSÃO E DISTRIBUIÇÃO DE ENERGIA ELÉTRICA': 4,\n",
       " 'TRATAMENTO E DISPOSIÇÃO DE RESÍDUOS': 2,\n",
       " 'RECONDICIONAMENTO E RECUPERAÇÃO DE MOTORES PARA VEÍCULOS AUTOMOTORES': 1,\n",
       " 'INCORPORAÇÃO DE EMPREENDIMENTOS IMOBILIÁRIOS': 1,\n",
       " 'OPERADORAS DE TELEVISÃO POR ASSINATURA': 3,\n",
       " 'FABRICAÇÃO DE EQUIPAMENTOS DE TRANSPORTE NÃO ESPECIFICADOS ANTERIORMENTE': 3,\n",
       " 'CAÇA E SERVIÇOS RELACIONADOS': 1,\n",
       " 'FABRICAÇÃO DE ÓLEOS E GORDURAS VEGETAIS E ANIMAIS': 3,\n",
       " 'FABRICAÇÃO DE CALÇADOS': 4,\n",
       " 'COMÉRCIO VAREJISTA DE PRODUTOS FARMACÊUTICOS, PERFUMARIA E COSMÉTICOS E ARTIGOS MÉDICOS, ÓPTICOS E ORTOPÉDICOS': 4,\n",
       " 'TELECOMUNICAÇÕES SEM FIO': 1,\n",
       " 'OBRAS DE INFRA-ESTRUTURA PARA ENERGIA ELÉTRICA, TELECOMUNICAÇÕES, ÁGUA, ESGOTO E TRANSPORTE POR DUTOS': 3,\n",
       " 'ATIVIDADES DE SOCIEDADES DE PARTICIPAÇÃO': 3,\n",
       " 'ATIVIDADES DE ASSISTÊNCIA SOCIAL PRESTADAS EM RESIDÊNCIAS COLETIVAS E PARTICULARES': 1,\n",
       " 'LOCAÇÃO DE MÃO-DE-OBRA TEMPORÁRIA': 1,\n",
       " 'FABRICAÇÃO DE PRODUTOS DE MATERIAL PLÁSTICO': 4,\n",
       " 'HORTICULTURA E FLORICULTURA': 2,\n",
       " 'OUTROS SERVIÇOS ESPECIALIZADOS PARA CONSTRUÇÃO': 2,\n",
       " 'SEGUROS-SAÚDE': 1,\n",
       " 'ATIVIDADES LIGADAS AO PATRIMÔNIO CULTURAL E AMBIENTAL': 3,\n",
       " 'COMÉRCIO VAREJISTA DE ARTIGOS CULTURAIS, RECREATIVOS E ESPORTIVOS': 3,\n",
       " 'ATIVIDADES VETERINÁRIAS': 1,\n",
       " 'EDIÇÃO INTEGRADA À IMPRESSÃO DE LIVROS, JORNAIS, REVISTAS E OUTRAS PUBLICAÇÕES': 4,\n",
       " 'CONSTRUÇÃO DE EDIFÍCIOS': 1,\n",
       " 'FABRICAÇÃO DE PRODUTOS CERÂMICOS': 3,\n",
       " 'PRODUÇÃO DE LAVOURAS TEMPORÁRIAS': 7,\n",
       " 'FABRICAÇÃO DE EQUIPAMENTO BÉLICO PESADO, ARMAS E MUNIÇÕES': 1,\n",
       " 'FABRICAÇÃO DE ARTEFATOS TÊXTEIS, EXCETO VESTUÁRIO': 5,\n",
       " 'FABRICAÇÃO DE PAPEL, CARTOLINA E PAPEL-CARTÃO': 2,\n",
       " 'FABRICAÇÃO DE MOTORES, BOMBAS, COMPRESSORES E EQUIPAMENTOS DE TRANSMISSÃO': 5,\n",
       " 'COMÉRCIO VAREJISTA NÃO-ESPECIALIZADO': 3,\n",
       " 'OUTRAS ATIVIDADES DE SERVIÇOS PRESTADOS PRINCIPALMENTE ÀS EMPRESAS': 3,\n",
       " 'SIDERURGIA': 4,\n",
       " 'TRANSPORTE MARÍTIMO DE CABOTAGEM E LONGO CURSO': 2,\n",
       " 'AQÜICULTURA': 2,\n",
       " 'FABRICAÇÃO DE PRODUTOS DERIVADOS DO PETRÓLEO': 2,\n",
       " 'METALURGIA DOS METAIS NÃO-FERROSOS': 4,\n",
       " 'SERVIÇOS DE RESERVAS E OUTROS SERVIÇOS DE TURISMO NÃO ESPECIFICADOS ANTERIORMENTE': 1,\n",
       " 'ATIVIDADES AUXILIARES DOS TRANSPORTES AQUAVIÁRIOS': 3,\n",
       " 'FABRICAÇÃO DE RESINAS E ELASTÔMEROS': 3,\n",
       " 'INTERMEDIAÇÃO MONETÁRIA - DEPÓSITOS À VISTA': 4,\n",
       " 'PRODUÇÃO E DISTRIBUIÇÃO DE VAPOR, ÁGUA QUENTE E AR CONDICIONADO': 1,\n",
       " 'ATIVIDADES DE ADMINISTRAÇÃO DE FUNDOS POR CONTRATO OU COMISSÃO': 1,\n",
       " 'ALUGUEL DE OBJETOS PESSOAIS E DOMÉSTICOS': 4,\n",
       " 'ATIVIDADES DE SERVIÇOS FINANCEIROS NÃO ESPECIFICADAS ANTERIORMENTE': 4,\n",
       " 'AGÊNCIAS DE VIAGENS E OPERADORES TURÍSTICOS': 2,\n",
       " 'COQUERIAS': 1,\n",
       " 'FABRICAÇÃO DE TINTAS, VERNIZES, ESMALTES, LACAS E PRODUTOS AFINS': 3,\n",
       " 'FABRICAÇÃO DE APARELHOS DE RECEPÇÃO, REPRODUÇÃO, GRAVAÇÃO E AMPLIFICAÇÃO DE ÁUDIO E VÍDEO': 1,\n",
       " 'FABRICAÇÃO DE EQUIPAMENTOS E APARELHOS ELÉTRICOS NÃO ESPECIFICADOS ANTERIORMENTE': 1,\n",
       " 'TRANSPORTE DUTOVIÁRIO': 1,\n",
       " 'FABRICAÇÃO DE INSTRUMENTOS MUSICAIS': 1,\n",
       " 'SOCIEDADES DE CAPITALIZAÇÃO': 1,\n",
       " 'FABRICAÇÃO DE MÁQUINAS E EQUIPAMENTOS DE USO NA EXTRAÇÃO MINERAL E NA CONSTRUÇÃO': 4,\n",
       " 'DESCONTAMINAÇÃO E OUTROS SERVIÇOS DE GESTÃO DE RESÍDUOS': 1,\n",
       " 'FABRICAÇÃO DE PRODUTOS DE BORRACHA': 3,\n",
       " 'PESQUISAS DE MERCADO E DE OPINIÃO PÚBLICA': 1,\n",
       " 'ATIVIDADES DE APOIO À EXTRAÇÃO DE MINERAIS, EXCETO PETRÓLEO E GÁS NATURAL': 1,\n",
       " 'PROCESSAMENTO INDUSTRIAL DO FUMO': 1,\n",
       " 'ATIVIDADES DE VIGILÂNCIA, SEGURANÇA PRIVADA E TRANSPORTE DE VALORES': 2,\n",
       " 'ADMINISTRAÇÃO DO ESTADO E DA POLÍTICA ECONÔMICA E SOCIAL': 3,\n",
       " 'ATIVIDADES DE SERVIÇOS DE COMPLEMENTAÇÃO DIAGNÓSTICA E TERAPÊUTICA': 1,\n",
       " 'TESTES E ANÁLISES TÉCNICAS': 1,\n",
       " 'PESCA': 2,\n",
       " 'ATIVIDADES DE CONTABILIDADE, CONSULTORIA E AUDITORIA CONTÁBIL E TRIBUTÁRIA': 1,\n",
       " 'GESTÃO DE ATIVOS INTANGÍVEIS NÃO-FINANCEIROS': 1,\n",
       " 'FABRICAÇÃO DE EMBALAGENS DE PAPEL, CARTOLINA, PAPEL-CARTÃO E PAPELÃO ONDULADO': 3,\n",
       " 'PREPARAÇÃO E FIAÇÃO DE FIBRAS TÊXTEIS': 4,\n",
       " 'ATIVIDADES PAISAGÍSTICAS': 1,\n",
       " 'FABRICAÇÃO DE VEÍCULOS MILITARES DE COMBATE': 1,\n",
       " 'TRANSPORTE AÉREO DE CARGA': 1,\n",
       " 'FABRICAÇÃO DE CAMINHÕES E ÔNIBUS': 1,\n",
       " 'COMÉRCIO VAREJISTA DE MATERIAL DE CONSTRUÇÃO': 4,\n",
       " 'ATIVIDADES DE PROFISSIONAIS DA ÁREA DE SAÚDE, EXCETO MÉDICOS E ODONTÓLOGOS': 1,\n",
       " 'RECUPERAÇÃO DE MATERIAIS': 3,\n",
       " 'ATIVIDADES DE ORGANIZAÇÕES ASSOCIATIVAS PATRONAIS, EMPRESARIAIS E PROFISSIONAIS': 2,\n",
       " 'TRENS TURÍSTICOS, TELEFÉRICOS E SIMILARES': 1,\n",
       " 'FABRICAÇÃO DE INSTRUMENTOS E MATERIAIS PARA USO MÉDICO E ODONTOLÓGICO E DE ARTIGOS ÓPTICOS': 1,\n",
       " 'FABRICAÇÃO DE PRODUTOS FARMOQUÍMICOS': 1,\n",
       " 'ATIVIDADES DE CORREIO': 1,\n",
       " 'COMÉRCIO ATACADISTA DE MADEIRA, FERRAGENS, FERRAMENTAS, MATERIAL ELÉTRICO E MATERIAL DE CONSTRUÇÃO': 5,\n",
       " 'FABRICAÇÃO DE TECIDOS DE MALHA': 1,\n",
       " 'CONSTRUÇÃO DE RODOVIAS, FERROVIAS, OBRAS URBANAS E OBRAS-DE-ARTE ESPECIAIS': 3,\n",
       " 'ATIVIDADES DE MONITORAMENTO DE SISTEMAS DE SEGURANÇA': 1,\n",
       " 'ATIVIDADES CINEMATOGRÁFICAS, PRODUÇÃO DE VÍDEOS E DE PROGRAMAS DE TELEVISÃO': 4,\n",
       " 'EXTRAÇÃO DE PEDRA, AREIA E ARGILA': 1,\n",
       " 'CURTIMENTO E OUTRAS PREPARAÇÕES DE COURO': 1,\n",
       " 'DESDOBRAMENTO DE MADEIRA': 1,\n",
       " 'ATIVIDADES DE MALOTE E DE ENTREGA': 1,\n",
       " 'ATIVIDADES ESPORTIVAS': 4,\n",
       " 'FABRICAÇÃO DE ARTIGOS DE JOALHERIA, BIJUTERIA E SEMELHANTES': 2,\n",
       " 'FABRICAÇÃO DE AERONAVES': 2,\n",
       " 'EXTRAÇÃO DE CARVÃO MINERAL': 1,\n",
       " 'FABRICAÇÃO DE APARELHOS ELETROMÉDICOS E ELETROTERAPÊUTICOS E EQUIPAMENTOS DE IRRADIAÇÃO': 1,\n",
       " 'FABRICAÇÃO DE PEÇAS E ACESSÓRIOS PARA VEÍCULOS AUTOMOTORES': 6,\n",
       " 'EDIÇÃO DE LIVROS, JORNAIS, REVISTAS E OUTRAS ATIVIDADES DE EDIÇÃO': 4,\n",
       " 'EXTRAÇÃO DE MINERAIS METÁLICOS NÃO-FERROSOS': 6,\n",
       " 'OUTRAS ATIVIDADES DE ENSINO': 4,\n",
       " 'COMÉRCIO DE VEÍCULOS AUTOMOTORES': 2,\n",
       " 'ATIVIDADES DE ASSISTÊNCIA A IDOSOS, DEFICIENTES FÍSICOS, IMUNODEPRIMIDOS E CONVALESCENTES, E DE INFRA-ESTRUTURA E APOIO A PACIENTES PRESTADAS EM RESIDÊNCIAS COLETIVAS E PARTICULARES': 2,\n",
       " 'FABRICAÇÃO DE VEÍCULOS FERROVIÁRIOS': 2,\n",
       " 'TELECOMUNICAÇÕES POR FIO': 1,\n",
       " 'ATIVIDADES JURÍDICAS': 2,\n",
       " 'FABRICAÇÃO DE PILHAS, BATERIAS E ACUMULADORES ELÉTRICOS': 2,\n",
       " 'SERVIÇOS DE ESCRITÓRIO E APOIO ADMINISTRATIVO': 2,\n",
       " 'FABRICAÇÃO DE CONSERVAS DE FRUTAS, LEGUMES E OUTROS VEGETAIS': 3,\n",
       " 'FABRICAÇÃO DE TRATORES E DE MÁQUINAS E EQUIPAMENTOS PARA A AGRICULTURA E PECUÁRIA': 3,\n",
       " 'ATIVIDADES AUXILIARES DOS TRANSPORTES AÉREOS': 1,\n",
       " 'SERVIÇOS COMBINADOS PARA APOIO A EDIFÍCIOS': 2,\n",
       " 'ATIVIDADES DE ATENÇÃO AMBULATORIAL EXECUTADAS POR MÉDICOS E ODONTÓLOGOS': 1,\n",
       " 'RESSEGUROS': 1,\n",
       " 'FABRICAÇÃO DE AUTOMÓVEIS, CAMIONETAS E UTILITÁRIOS': 1,\n",
       " 'ATIVIDADES DE CONSULTORIA EM GESTÃO EMPRESARIAL': 1,\n",
       " 'CONSTRUÇÃO DE OUTRAS OBRAS DE INFRA-ESTRUTURA': 3,\n",
       " 'FABRICAÇÃO DE PRODUTOS DIVERSOS DE PAPEL, CARTOLINA, PAPEL-CARTÃO E PAPELÃO ONDULADO': 3,\n",
       " 'ALUGUEL DE MÁQUINAS E EQUIPAMENTOS SEM OPERADOR': 4,\n",
       " 'ATIVIDADES DE ORGANIZAÇÕES ASSOCIATIVAS NÃO ESPECIFICADAS ANTERIORMENTE': 4,\n",
       " 'ATIVIDADES DE GRAVAÇÃO DE SOM E DE EDIÇÃO DE MÚSICA': 1,\n",
       " 'TELECOMUNICAÇÕES POR SATÉLITE': 1,\n",
       " 'OUTRAS ATIVIDADES DE SERVIÇOS PESSOAIS': 4,\n",
       " 'MOAGEM, FABRICAÇÃO DE PRODUTOS AMILÁCEOS E DE ALIMENTOS PARA ANIMAIS': 7,\n",
       " 'FABRICAÇÃO DE TANQUES, RESERVATÓRIOS METÁLICOS E CALDEIRAS': 2,\n",
       " 'COMÉRCIO ATACADISTA ESPECIALIZADO EM PRODUTOS ALIMENTÍCIOS, BEBIDAS E FUMO': 8,\n",
       " 'ATIVIDADES DE APOIO À PRODUÇÃO FLORESTAL': 1,\n",
       " 'FABRICAÇÃO DE EQUIPAMENTOS DE COMUNICAÇÃO': 2,\n",
       " 'FABRICAÇÃO DE BEBIDAS ALCOÓLICAS': 3,\n",
       " 'ATIVIDADES DE APOIO À GESTÃO DE SAÚDE': 1,\n",
       " 'ATIVIDADES FOTOGRÁFICAS E SIMILARES': 1,\n",
       " 'COMÉRCIO ATACADISTA DE MATÉRIAS-PRIMAS AGRÍCOLAS E ANIMAIS VIVOS': 3,\n",
       " 'ATIVIDADES AUXILIARES DOS TRANSPORTES TERRESTRES': 4,\n",
       " 'SEGUROS DE VIDA E NÃO-VIDA': 2,\n",
       " 'FABRICAÇÃO DE VIDRO E DE PRODUTOS DO VIDRO': 3,\n",
       " 'BANCO CENTRAL': 1,\n",
       " 'FABRICAÇÃO DE BEBIDAS NÃO-ALCOÓLICAS': 2,\n",
       " 'ATIVIDADE DE IMPRESSÃO': 3,\n",
       " 'MANUTENÇÃO E REPARAÇÃO DE VEÍCULOS AUTOMOTORES': 1,\n",
       " 'FORJARIA, ESTAMPARIA, METALURGIA DO PÓ E SERVIÇOS DE TRATAMENTO DE METAIS': 3,\n",
       " 'FABRICAÇÃO DE ARTIGOS DE CUTELARIA, DE SERRALHERIA E FERRAMENTAS': 3,\n",
       " 'COMÉRCIO VAREJISTA DE PRODUTOS NOVOS NÃO ESPECIFICADOS ANTERIORMENTE E DE PRODUTOS USADOS': 6,\n",
       " 'PRODUÇÃO DE SEMENTES E MUDAS CERTIFICADAS': 2,\n",
       " 'PRODUÇÃO DE FERRO-GUSA E DE FERROLIGAS': 2,\n",
       " 'RESTAURANTES E OUTROS SERVIÇOS DE ALIMENTAÇÃO E BEBIDAS': 2,\n",
       " 'ATIVIDADES DE APOIO À AGRICULTURA E À PECUÁRIA; ATIVIDADES DE PÓS-COLHEITA': 3,\n",
       " 'TRANSPORTE ESPACIAL': 1,\n",
       " 'FABRICAÇÃO DE DEFENSIVOS AGRÍCOLAS E DESINFESTANTES DOMISSANITÁRIOS': 2,\n",
       " 'FABRICAÇÃO DE BIOCOMBUSTÍVEIS': 2,\n",
       " 'ATIVIDADES DE RÁDIO': 1,\n",
       " 'OUTRAS ATIVIDADES DE PRESTAÇÃO DE SERVIÇOS DE INFORMAÇÃO': 2,\n",
       " 'FABRICAÇÃO DE PRODUTOS QUÍMICOS ORGÂNICOS': 3,\n",
       " 'SERVIÇOS DE ARQUITETURA E ENGENHARIA E ATIVIDADES TÉCNICAS RELACIONADAS': 3,\n",
       " 'SERVIÇOS DE ASSISTÊNCIA SOCIAL SEM ALOJAMENTO': 1,\n",
       " 'EXTRAÇÃO DE PETRÓLEO E GÁS NATURAL': 1,\n",
       " 'FABRICAÇÃO DE CELULOSE E OUTRAS PASTAS PARA A FABRICAÇÃO DE PAPEL': 1,\n",
       " 'FABRICAÇÃO DE ARTIGOS DE MALHARIA E TRICOTAGEM': 2,\n",
       " 'FABRICAÇÃO DE PARTES PARA CALÇADOS, DE QUALQUER MATERIAL': 1,\n",
       " 'ORGANISMOS INTERNACIONAIS E OUTRAS INSTITUIÇÕES EXTRATERRITORIAIS': 1,\n",
       " 'ATIVIDADES DE RECREAÇÃO E LAZER': 2,\n",
       " 'LATICÍNIOS': 3,\n",
       " 'COMÉRCIO ATACADISTA ESPECIALIZADO EM OUTROS PRODUTOS': 8,\n",
       " 'FABRICAÇÃO DE EQUIPAMENTOS E INSTRUMENTOS ÓPTICOS, FOTOGRÁFICOS E CINEMATOGRÁFICOS': 1,\n",
       " 'PUBLICIDADE': 3,\n",
       " 'ARRENDAMENTO MERCANTIL': 1,\n",
       " 'REPRODUÇÃO DE MATERIAIS GRAVADOS EM QUALQUER SUPORTE': 1,\n",
       " 'CONSTRUÇÃO DE EMBARCAÇÕES': 2,\n",
       " 'ATIVIDADES RELACIONADAS À ORGANIZAÇÃO DO TRANSPORTE DE CARGA': 1,\n",
       " 'FUNDIÇÃO': 2,\n",
       " 'FABRICAÇÃO DE COMPONENTES ELETRÔNICOS': 1,\n",
       " 'PRESERVAÇÃO DO PESCADO E FABRICAÇÃO DE PRODUTOS DO PESCADO': 1,\n",
       " 'PLANOS DE SAÚDE': 1,\n",
       " 'SELEÇÃO E AGENCIAMENTO DE MÃO-DE-OBRA': 1,\n",
       " 'FORNECIMENTO E GESTÃO DE RECURSOS HUMANOS PARA TERCEIROS': 1,\n",
       " 'ESGOTO E ATIVIDADES RELACIONADAS': 2,\n",
       " 'REPARAÇÃO E MANUTENÇÃO DE EQUIPAMENTOS DE INFORMÁTICA E COMUNICAÇÃO': 2,\n",
       " 'FABRICAÇÃO DE APARELHOS E INSTRUMENTOS DE MEDIDA, TESTE E CONTROLE; CRONÔMETROS E RELÓGIOS': 2,\n",
       " 'FABRICAÇÃO DE LÂMPADAS E OUTROS EQUIPAMENTOS DE ILUMINAÇÃO': 1,\n",
       " 'ATIVIDADES DE TELEVISÃO': 2,\n",
       " 'FABRICAÇÃO DE MÍDIAS VIRGENS, MAGNÉTICAS E ÓPTICAS': 1,\n",
       " 'OUTRAS ATIVIDADES DE TELECOMUNICAÇÕES': 1,\n",
       " 'ATIVIDADES DE ORGANIZAÇÃO DE EVENTOS, EXCETO CULTURAIS E ESPORTIVOS': 1,\n",
       " 'FABRICAÇÃO DE CABINES, CARROCERIAS E REBOQUES PARA VEÍCULOS AUTOMOTORES': 1,\n",
       " 'TRANSPORTE RODOVIÁRIO DE CARGA': 1,\n",
       " 'REPARAÇÃO E MANUTENÇÃO DE OBJETOS E EQUIPAMENTOS PESSOAIS E DOMÉSTICOS': 2,\n",
       " 'ATIVIDADES DE ORGANIZAÇÕES SINDICAIS': 1,\n",
       " 'TRANSPORTE POR NAVEGAÇÃO INTERIOR': 2,\n",
       " 'COMÉRCIO ATACADISTA DE PRODUTOS DE CONSUMO NÃO-ALIMENTAR': 8,\n",
       " 'SERVIÇOS COLETIVOS PRESTADOS PELA ADMINISTRAÇÃO PÚBLICA': 5,\n",
       " 'SERVIÇOS DOMÉSTICOS': 1,\n",
       " 'FABRICAÇÃO DE GERADORES, TRANSFORMADORES E MOTORES ELÉTRICOS': 1,\n",
       " 'FABRICAÇÃO DE PRODUTOS DO FUMO': 1,\n",
       " 'ATIVIDADES DE ATENÇÃO À SAÚDE HUMANA NÃO ESPECIFICADAS ANTERIORMENTE': 1,\n",
       " 'NAVEGAÇÃO DE APOIO': 1,\n",
       " 'ATIVIDADES DE LIMPEZA': 3,\n",
       " 'COMÉRCIO VAREJISTA DE PRODUTOS ALIMENTÍCIOS, BEBIDAS E FUMO': 5,\n",
       " 'COMÉRCIO, MANUTENÇÃO E REPARAÇÃO DE MOTOCICLETAS, PEÇAS E ACESSÓRIOS': 3,\n",
       " 'FABRICAÇÃO DE PRODUTOS DIVERSOS': 3,\n",
       " 'ATIVIDADES DE APOIO À EDUCAÇÃO': 1,\n",
       " 'PRODUÇÃO DE LAVOURAS PERMANENTES': 6,\n",
       " 'LOCAÇÃO DE MEIOS DE TRANSPORTE SEM CONDUTOR': 2,\n",
       " 'FABRICAÇÃO DE ESTRUTURAS METÁLICAS E OBRAS DE CALDEIRARIA PESADA': 3,\n",
       " 'ATIVIDADES IMOBILIÁRIAS DE IMÓVEIS PRÓPRIOS': 1,\n",
       " 'ATIVIDADES DE INVESTIGAÇÃO PARTICULAR': 1,\n",
       " 'PRODUÇÃO FLORESTAL - FLORESTAS PLANTADAS': 1,\n",
       " 'TRANSPORTE FERROVIÁRIO E METROFERROVIÁRIO': 2,\n",
       " 'PECUÁRIA': 6,\n",
       " 'COMÉRCIO VAREJISTA DE EQUIPAMENTOS DE INFORMÁTICA E COMUNICAÇÃO; EQUIPAMENTOS E ARTIGOS DE USO DOMÉSTICO': 8,\n",
       " 'PESQUISA E DESENVOLVIMENTO EXPERIMENTAL EM CIÊNCIAS SOCIAIS E HUMANAS': 1,\n",
       " 'FABRICAÇÃO DE PRODUTOS E PREPARADOS QUÍMICOS DIVERSOS': 5,\n",
       " 'PRODUÇÃO E DISTRIBUIÇÃO DE COMBUSTÍVEIS GASOSOS POR REDES URBANAS': 1,\n",
       " 'COMÉRCIO AMBULANTE E OUTROS TIPOS DE COMÉRCIO VAREJISTA': 1,\n",
       " 'ENSINO MÉDIO': 1,\n",
       " 'TORREFAÇÃO E MOAGEM DE CAFÉ': 2,\n",
       " 'CONFECÇÃO DE ARTIGOS DO VESTUÁRIO E ACESSÓRIOS': 4,\n",
       " 'FABRICAÇÃO DE PRODUTOS DE METAL NÃO ESPECIFICADOS ANTERIORMENTE': 4,\n",
       " 'INSTALAÇÕES ELÉTRICAS, HIDRÁULICAS E OUTRAS INSTALAÇÕES EM CONSTRUÇÕES': 3,\n",
       " 'FABRICAÇÃO DE ARTEFATOS PARA PESCA E ESPORTE': 1,\n",
       " 'TRATAMENTO DE DADOS, HOSPEDAGEM NA INTERNET E OUTRAS ATIVIDADES RELACIONADAS': 2,\n",
       " 'FABRICAÇÃO DE SABÕES, DETERGENTES, PRODUTOS DE LIMPEZA, COSMÉTICOS, PRODUTOS DE PERFUMARIA E DE HIGIENE PESSOAL': 3,\n",
       " 'COMÉRCIO ATACADISTA NÃO-ESPECIALIZADO': 3,\n",
       " 'SERVIÇOS MÓVEIS DE ATENDIMENTO A URGÊNCIAS E DE REMOÇÃO DE PACIENTES': 2,\n",
       " 'ATIVIDADES AUXILIARES DOS SERVIÇOS FINANCEIROS': 4,\n",
       " 'ATIVIDADES DE TELEATENDIMENTO': 1,\n",
       " 'TECELAGEM, EXCETO MALHA': 3,\n",
       " 'FABRICAÇÃO DE FIBRAS ARTIFICIAIS E SINTÉTICAS': 1,\n",
       " 'PRODUÇÃO FLORESTAL - FLORESTAS NATIVAS': 1,\n",
       " 'FABRICAÇÃO DE PRODUTOS QUÍMICOS INORGÂNICOS': 5,\n",
       " 'INSTALAÇÃO DE MÁQUINAS E EQUIPAMENTOS': 2,\n",
       " 'INTERMEDIAÇÃO NÃO-MONETÁRIA - OUTROS INSTRUMENTOS DE CAPTAÇÃO': 8,\n",
       " 'ATIVIDADES DE APOIO À EXTRAÇÃO DE PETRÓLEO E GÁS NATURAL': 1,\n",
       " 'APARELHAMENTO DE PEDRAS E FABRICAÇÃO DE OUTROS PRODUTOS DE MINERAIS NÃO-METÁLICOS': 3,\n",
       " 'ATIVIDADES DE ASSISTÊNCIA PSICOSSOCIAL E À SAÚDE A PORTADORES DE DISTÚRBIOS PSÍQUICOS, DEFICIÊNCIA MENTAL E DEPENDÊNCIA QUÍMICA': 1,\n",
       " 'COMÉRCIO VAREJISTA DE COMBUSTÍVEIS PARA VEÍCULOS AUTOMOTORES': 2,\n",
       " 'COMÉRCIO ATACADISTA DE EQUIPAMENTOS E PRODUTOS DE TECNOLOGIAS DE INFORMAÇÃO E COMUNICAÇÃO': 2,\n",
       " 'ATIVIDADES DE EXPLORAÇÃO DE JOGOS DE AZAR E APOSTAS': 1,\n",
       " 'DESIGN E DECORAÇÃO DE INTERIORES': 1,\n",
       " 'PESQUISA E DESENVOLVIMENTO EXPERIMENTAL EM CIÊNCIAS FÍSICAS E NATURAIS': 1,\n",
       " 'MANUTENÇÃO E REPARAÇÃO DE MÁQUINAS E EQUIPAMENTOS': 8,\n",
       " 'FABRICAÇÃO DE MÁQUINAS E EQUIPAMENTOS DE USO GERAL': 6,\n",
       " 'FUNDOS DE INVESTIMENTO': 1}"
      ]
     },
     "execution_count": 9,
     "metadata": {},
     "output_type": "execute_result"
    }
   ],
   "source": [
    "#transformando a lista em dicionario\n",
    "grupos_count = dict(grupos_count)\n",
    "grupos_count"
   ]
  },
  {
   "cell_type": "code",
   "execution_count": 11,
   "metadata": {},
   "outputs": [
    {
     "name": "stdout",
     "output_type": "stream",
     "text": [
      "1\n"
     ]
    },
    {
     "data": {
      "text/plain": [
       "['REPRESENTANTES COMERCIAIS E AGENTES DO COMÉRCIO, EXCETO DE VEÍCULOS AUTOMOTORES E MOTOCICLETAS']"
      ]
     },
     "execution_count": 11,
     "metadata": {},
     "output_type": "execute_result"
    }
   ],
   "source": [
    "# descobrindo quais grupos possuem mais atividades\n",
    "valor_maximo = max(grupos_count.values())\n",
    "grupos_mais_atividades = [chave for (chave, valor) in grupos_count.items() if valor == valor_maximo]\n",
    "print(len(grupos_mais_atividades))\n",
    "grupos_mais_atividades"
   ]
  },
  {
   "cell_type": "code",
   "execution_count": 12,
   "metadata": {},
   "outputs": [],
   "source": [
    "import requests\n",
    "\n",
    "from datetime import datetime\n",
    "\n",
    "\n",
    "class ETL:\n",
    "    def __init__(self):\n",
    "        self.url = None\n",
    "\n",
    "    def extract_cnae_data(self, url):\n",
    "        self.url = url\n",
    "        data_extracao = datetime.today().strftime(\"%Y/%m/%d - %H:%M:%S\")\n",
    "        # Faz extração\n",
    "        dados = requests.get(self.url).json()\n",
    "        \n",
    "        # Extrai os grupos dos registros\n",
    "        grupos = []\n",
    "        for registro in dados:\n",
    "            grupos.append(registro['grupo']['descricao'])\n",
    "\n",
    "        # Cria uma lista de tuplas (grupo, quantidade_atividades)\n",
    "        grupos_count = [(grupo, grupos.count(grupo)) for grupo in set(grupos)]\n",
    "        grupos_count = dict(grupos_count)  # transforma a lista em dicionário\n",
    "\n",
    "        valor_maximo = max(grupos_count.values())  # Captura o valor máximo de atividades\n",
    "        # Gera uma lista com os grupos que possuem a quantidade máxima de atividades\n",
    "        grupos_mais_atividades = [chave for (chave, valor) in grupos_count.items() if valor == valor_maximo]\n",
    "        \n",
    "        # informações\n",
    "        qtde_atividades_distintas = len(dados)\n",
    "        qtde_grupos_distintos = len(set(grupos))\n",
    "        \n",
    "        print(f\"Dados extraídos em: {data_extracao}\")\n",
    "        print(f\"Quantidade de atividades distintas = {qtde_atividades_distintas}\")\n",
    "        print(f\"Quantidade de grupos distintos = {qtde_grupos_distintos}\")\n",
    "        print(f\"Grupos com o maior número de atividades = {grupos_mais_atividades}, atividades = {valor_maximo}\")\n",
    "        \n",
    "        return None"
   ]
  },
  {
   "cell_type": "code",
   "execution_count": 13,
   "metadata": {},
   "outputs": [
    {
     "name": "stdout",
     "output_type": "stream",
     "text": [
      "Dados extraídos em: 2023/03/14 - 20:15:26\n",
      "Quantidade de atividades distintas = 673\n",
      "Quantidade de grupos distintos = 285\n",
      "Grupos com o maior número de atividades = ['REPRESENTANTES COMERCIAIS E AGENTES DO COMÉRCIO, EXCETO DE VEÍCULOS AUTOMOTORES E MOTOCICLETAS'], atividades = 9\n"
     ]
    }
   ],
   "source": [
    "# Usando a classe ETL\n",
    "\n",
    "ETL().extract_cnae_data('https://servicodados.ibge.gov.br/api/v2/cnae/classes')"
   ]
  },
  {
   "attachments": {},
   "cell_type": "markdown",
   "metadata": {},
   "source": [
    "## Aplicação de banco de dados com python"
   ]
  },
  {
   "attachments": {},
   "cell_type": "markdown",
   "metadata": {},
   "source": [
    "### LINGUAGEM DE CONSULTA ESTRUTURADA - SQL"
   ]
  },
  {
   "attachments": {},
   "cell_type": "markdown",
   "metadata": {},
   "source": [
    "NTRODUÇÃO A BANCO DE DADOS\n",
    "\n",
    "Grande parte dos softwares que são desenvolvidos (se não todos) acessa algum tipo de mecanismo para armazenar dados. Podem ser dados da aplicação, como cadastro de clientes, ou então dados sobre a execução da solução, os famosos logs. Esses dados podem ser armazenados em arquivos, cenário no qual se destacam os arquivos delimitados, com extensão CSV (comma separated values), os arquivos JSON (JavaScript Object Notation) e os arquivos XML (Extensible Markup Language). Outra opção para persistir os dados é utilizar um sistema de banco de dados."
   ]
  },
  {
   "attachments": {},
   "cell_type": "markdown",
   "metadata": {},
   "source": [
    "CONEXÃO COM BANCO DE DADOS RELACIONAL\n",
    "\n",
    "Ao criar uma aplicação em uma linguagem de programação que precisa acessar um sistema gerenciador de banco de dados relacional (RDBMS), uma vez que são processos distintos, é preciso criar uma conexão entre eles. Após estabelecida a conexão, é possível (de alguma forma) enviar comandos SQL para efetuar as ações no banco (RAMAKRISHNAN; GEHRKE, 2003). Para fazer a conexão e permitir que uma linguagem de programação se comunique com um banco de dados com a utilização da linguagem SQL, podemos usar as tecnologias ODBC (Open Database Connectivity) e JDBC (Java Database Connectivity). "
   ]
  },
  {
   "attachments": {},
   "cell_type": "markdown",
   "metadata": {},
   "source": [
    "CONEXÃO DE BANCO DADOS SQL EM PYTHON\n",
    "\n",
    "Agora que já sabemos que para acessar esse tipo de tecnologia precisamos de um mecanismo de conexão (ODBC ou JDBC) e uma linguagem para nos comunicarmos com ele (SQL), vamos ver como atuar em Python.\n",
    "\n",
    "Para se comunicar com um RDBMS em Python, podemos utilizar bibliotecas já disponíveis, com uso das quais, por meio do driver de um determinado fornecedor, será possível fazer a conexão e a execução de comandos SQL no banco. Por exemplo, para se conectar com um banco de dados Oracle, podemos usar a biblioteca cx-Oracle, ou, para se conectar a um PostgreSQL, temos como opção o psycopg2. Visando à padronização entre todos os módulos de conexão com um RDBMS e o envio de comandos, o PEP 249 (Python Database API Specification v2.0) elenca um conjunto de regras que os fornecedores devem seguir na construção de módulos para acesso a banco de dados. Por exemplo, a documentação diz que todos módulos devem implementar o método connect(parameters...) para se conectar a um banco."
   ]
  },
  {
   "attachments": {},
   "cell_type": "markdown",
   "metadata": {},
   "source": [
    "BANCO DE DADOS SQLITE\n",
    "\n",
    "Essa tecnologia pode ser embutida em telefones celulares e computadores e vem incluída em inúmeros outros aplicativos que as pessoas usam todos os dias. Ao passo que a maioria dos bancos de dados SQL usa um servidor para rodar e gerenciar, o SQLite não possui um processo de servidor separado. O SQLite lê e grava diretamente em arquivos de disco, ou seja, um banco de dados SQL completo com várias tabelas, índices, triggers e visualizações está contido em um único arquivo de disco.\n",
    "\n",
    "O interpretador Python possui o módulo built-in sqlite3, que permite utilizar o mecanismo de banco de dados SQLite. "
   ]
  },
  {
   "attachments": {},
   "cell_type": "markdown",
   "metadata": {},
   "source": [
    "CRIANDO UM BANCO DE DADOS\n",
    "\n",
    "O primeiro passo é importar o módulo sqlite3. Como o módulo está baseado na especificação DB-API 2.0 descrita pelo PEP 249, ele utiliza o método connnect() para se conectar a um banco de dados. Em razão da natureza do SQLite (ser um arquivo no disco rígido), ao nos conectarmos a um banco, o arquivo é imediatamente criado na pasta do projeto (se estiver usando o projeto Anaconda, o arquivo é criado na mesma pasta em que está o Jupyter Notebook). Se desejar criar o arquivo em outra pasta, basta especificar o caminho juntamente com o nome, por exemplo: C:/Users/Documents/meu_projeto/meus_bancos/bancoDB.db. Observe do código a seguir."
   ]
  },
  {
   "cell_type": "code",
   "execution_count": 14,
   "metadata": {},
   "outputs": [
    {
     "name": "stdout",
     "output_type": "stream",
     "text": [
      "<class 'sqlite3.Connection'>\n"
     ]
    }
   ],
   "source": [
    "import sqlite3\n",
    "\n",
    "conn = sqlite3.connect('aulaDB.db')\n",
    "print(type(conn))"
   ]
  },
  {
   "cell_type": "code",
   "execution_count": 15,
   "metadata": {},
   "outputs": [
    {
     "name": "stdout",
     "output_type": "stream",
     "text": [
      "<class 'sqlite3.Cursor'>\n",
      "Tabela criada!\n",
      "Descrição do cursor:  None\n",
      "Linhas afetadas:  -1\n"
     ]
    }
   ],
   "source": [
    "ddl_create = \"\"\" \n",
    "  CREATE TABLE fornecedor (\n",
    "    id_fornecedor INTEGER NOT NULL PRIMARY KEY AUTOINCREMENT,\n",
    "    nome_fornecedor TEXT NOT NULL,\n",
    "    cnpj VARCHAR(18) NOT NULL,\n",
    "    cidade TEXT,\n",
    "    estado VARCHAR(2) NOT NULL,\n",
    "    cep VARCHAR(9) NOT NULL,\n",
    "    data_cadastro DATE NOT NULL\n",
    ");\n",
    "\"\"\"\n",
    "\n",
    "cursor = conn.cursor()\n",
    "cursor.execute(ddl_create)\n",
    "print(type(cursor))\n",
    "\n",
    "print(\"Tabela criada!\")\n",
    "print(\"Descrição do cursor: \", cursor.description)\n",
    "print(\"Linhas afetadas: \", cursor.rowcount)\n",
    "cursor.close()\n",
    "conn.close()\n"
   ]
  },
  {
   "attachments": {},
   "cell_type": "markdown",
   "metadata": {},
   "source": [
    "CRUD - CREATE, READ, UPDATE, DELETE\n",
    "\n",
    "CRUD é um acrônimo para as quatro operações de DML que podemos fazer em uma tabela no banco de dados. Podemos inserir informações (create), ler (read), atualizar (update) e apagar (delete). Os passos necessários para efetuar uma das operações do CRUD são sempre os mesmos: (i) estabelecer a conexão com um banco; (ii) criar um cursor e executar o comando; (iii) gravar a operação; (iv) fechar o cursor e a conexão."
   ]
  },
  {
   "cell_type": "code",
   "execution_count": 2,
   "metadata": {},
   "outputs": [
    {
     "name": "stdout",
     "output_type": "stream",
     "text": [
      "Dados inseridos!\n",
      "Descrição do cursor:  None\n",
      "Linhas afetadas:  1\n"
     ]
    }
   ],
   "source": [
    "# Só é preciso importar a biblioteca uma vez. Importamos novamente para manter todo o código em uma única célula\n",
    "import sqlite3\n",
    "\n",
    "conn = sqlite3.connect('aulaDB.db')\n",
    "cursor = conn.cursor()\n",
    "\n",
    "cursor.execute(\"\"\"\n",
    "INSERT INTO fornecedor (nome_fornecedor, cnpj, cidade, estado, cep, data_cadastro)\n",
    "VALUES ('Empresa A', '11.111.111/1111-11', 'São Paulo', 'SP', '11111-111', '2020-01-01')\n",
    "\"\"\")\n",
    "\n",
    "cursor.execute(\"\"\"\n",
    "INSERT INTO fornecedor (nome_fornecedor, cnpj, cidade, estado, cep, data_cadastro)\n",
    "VALUES ('Empresa B', '22.222.222/2222-22', 'Rio de Janeiro', 'RJ', '22222-222', '2020-01-01')\n",
    "\"\"\")\n",
    "\n",
    "cursor.execute(\"\"\"\n",
    "INSERT INTO fornecedor (nome_fornecedor, cnpj, cidade, estado, cep, data_cadastro)\n",
    "VALUES ('Empresa C', '33.333.333/3333-33', 'Curitiba', 'PR', '33333-333', '2020-01-01')\n",
    "\"\"\")\n",
    "\n",
    "conn.commit()\n",
    "\n",
    "print(\"Dados inseridos!\")\n",
    "print(\"Descrição do cursor: \", cursor.description)\n",
    "print(\"Linhas afetadas: \", cursor.rowcount)\n",
    "cursor.close()\n",
    "conn.close()"
   ]
  },
  {
   "attachments": {},
   "cell_type": "markdown",
   "metadata": {},
   "source": [
    "READ\n",
    "\n",
    "Agora que temos dados na tabela fornecedor, podemos avançar para a segunda operação, que é recuperar os dados. Também precisamos estabelecer uma conexão e criar um objeto cursor para executar a instrução de seleção. Ao executar a seleção, podemos usar o método fetchall() para capturar todas as linhas, através de uma lista de tuplas. Observe o código a seguir."
   ]
  },
  {
   "cell_type": "code",
   "execution_count": 3,
   "metadata": {},
   "outputs": [
    {
     "name": "stdout",
     "output_type": "stream",
     "text": [
      "Descrição do cursor:  (('id_fornecedor', None, None, None, None, None, None), ('nome_fornecedor', None, None, None, None, None, None), ('cnpj', None, None, None, None, None, None), ('cidade', None, None, None, None, None, None), ('estado', None, None, None, None, None, None), ('cep', None, None, None, None, None, None), ('data_cadastro', None, None, None, None, None, None))\n",
      "Linhas afetadas:  -1\n"
     ]
    },
    {
     "data": {
      "text/plain": [
       "[(1,\n",
       "  'Empresa A',\n",
       "  '11.111.111/1111-11',\n",
       "  'São Paulo',\n",
       "  'SP',\n",
       "  '11111-111',\n",
       "  '2020-01-01'),\n",
       " (2,\n",
       "  'Empresa B',\n",
       "  '22.222.222/2222-22',\n",
       "  'Rio de Janeiro',\n",
       "  'RJ',\n",
       "  '22222-222',\n",
       "  '2020-01-01')]"
      ]
     },
     "execution_count": 3,
     "metadata": {},
     "output_type": "execute_result"
    }
   ],
   "source": [
    "import sqlite3\n",
    "\n",
    "conn = sqlite3.connect('aulaDB.db')\n",
    "cursor = conn.cursor()\n",
    "\n",
    "cursor.execute(\"SELECT * FROM fornecedor\")\n",
    "resultado = cursor.fetchall()\n",
    "\n",
    "print(\"Descrição do cursor: \", cursor.description)\n",
    "print(\"Linhas afetadas: \", cursor.rowcount)\n",
    "\n",
    "resultado[:2]"
   ]
  },
  {
   "cell_type": "code",
   "execution_count": 4,
   "metadata": {},
   "outputs": [
    {
     "name": "stdout",
     "output_type": "stream",
     "text": [
      "[]\n"
     ]
    }
   ],
   "source": [
    "cursor.execute(\"SELECT * FROM fornecedor WHERE id_fornecedor = 5\")\n",
    "resultado = cursor.fetchall()\n",
    "print(resultado)\n",
    "\n",
    "cursor.close()\n",
    "conn.close()"
   ]
  },
  {
   "attachments": {},
   "cell_type": "markdown",
   "metadata": {},
   "source": [
    "UPDATE\n",
    "\n",
    "Ao inserir um registro no banco, pode ser necessário alterar o valor de uma coluna, o que pode ser feito por meio da instrução SQL UPDATE. Observe o código a seguir."
   ]
  },
  {
   "cell_type": "code",
   "execution_count": 5,
   "metadata": {},
   "outputs": [
    {
     "name": "stdout",
     "output_type": "stream",
     "text": [
      "(1, 'Empresa A', '11.111.111/1111-11', 'São Paulo', 'SP', '11111-111', '2020-01-01')\n",
      "(2, 'Empresa B', '22.222.222/2222-22', 'Rio de Janeiro', 'RJ', '22222-222', '2020-01-01')\n",
      "(3, 'Empresa C', '33.333.333/3333-33', 'Curitiba', 'PR', '33333-333', '2020-01-01')\n"
     ]
    }
   ],
   "source": [
    "import sqlite3\n",
    "\n",
    "conn = sqlite3.connect('aulaDB.db')\n",
    "cursor = conn.cursor()\n",
    "\n",
    "cursor.execute(\"UPDATE fornecedor SET cidade = 'Campinas' WHERE id_fornecedor = 5\")\n",
    "conn.commit()\n",
    "\n",
    "cursor.execute(\"SELECT * FROM fornecedor\")\n",
    "for linha in cursor.fetchall():\n",
    "    print(linha)\n",
    "\n",
    "cursor.close()\n",
    "conn.close()"
   ]
  },
  {
   "attachments": {},
   "cell_type": "markdown",
   "metadata": {},
   "source": [
    "DELETE\n",
    "\n",
    "Ao inserir um registro no banco, pode ser necessário removê-lo no futuro, o que pode ser feito por meio da instrução SQL DELETE. Observe o código a seguir."
   ]
  },
  {
   "cell_type": "code",
   "execution_count": 6,
   "metadata": {},
   "outputs": [
    {
     "name": "stdout",
     "output_type": "stream",
     "text": [
      "(1, 'Empresa A', '11.111.111/1111-11', 'São Paulo', 'SP', '11111-111', '2020-01-01')\n",
      "(3, 'Empresa C', '33.333.333/3333-33', 'Curitiba', 'PR', '33333-333', '2020-01-01')\n"
     ]
    }
   ],
   "source": [
    "import sqlite3\n",
    "\n",
    "conn = sqlite3.connect('aulaDB.db')\n",
    "cursor = conn.cursor()\n",
    "\n",
    "cursor.execute(\"DELETE FROM fornecedor WHERE id_fornecedor = 2\")\n",
    "conn.commit()\n",
    "\n",
    "cursor.execute(\"SELECT * FROM fornecedor\")\n",
    "for linha in cursor.fetchall():\n",
    "    print(linha)\n",
    "\n",
    "cursor.close()\n",
    "conn.close()"
   ]
  },
  {
   "attachments": {},
   "cell_type": "markdown",
   "metadata": {},
   "source": [
    "INFORMAÇÕES DO BANCO DE DADOS E DAS TABELAS\n",
    "\n",
    "Além das operações de CRUD, é importante sabermos extrair informações estruturais do banco de dados e das tabelas. Por exemplo, considerado um banco de dados, quais tabelas existem ali? Quais são os campos de uma tabela? Qual é a estrutura da tabela, ou seja, qual DDL foi usada para gerá-la? Os comandos necessários para extrair essas informações podem mudar entre os bancos, mas vamos ver como extraí-las do SQLite. No código a seguir (entrada 11), temos uma instrução SQL capaz de retornar as tabelas no banco SQLite (linha 8) e outra capaz de extrair as DDLs usadas para gerar as tabelas (linha 15)."
   ]
  },
  {
   "cell_type": "code",
   "execution_count": 7,
   "metadata": {},
   "outputs": [
    {
     "name": "stdout",
     "output_type": "stream",
     "text": [
      "Tabelas:\n",
      "('fornecedor',)\n",
      "('sqlite_sequence',)\n",
      "\n",
      "DDL da tabela fornecedor:\n",
      "CREATE TABLE fornecedor (\n",
      "    id_fornecedor INTEGER NOT NULL PRIMARY KEY AUTOINCREMENT,\n",
      "    nome_fornecedor TEXT NOT NULL,\n",
      "    cnpj VARCHAR(18) NOT NULL,\n",
      "    cidade TEXT,\n",
      "    estado VARCHAR(2) NOT NULL,\n",
      "    cep VARCHAR(9) NOT NULL,\n",
      "    data_cadastro DATE NOT NULL\n",
      ")\n"
     ]
    }
   ],
   "source": [
    "import sqlite3\n",
    "\n",
    "conn = sqlite3.connect('aulaDB.db')\n",
    "cursor = conn.cursor()\n",
    "\n",
    "# Lista as tabelas do banco de dados\n",
    "cursor.execute(\"\"\"SELECT name FROM sqlite_master WHERE type='table' ORDER BY name\"\"\")\n",
    "print('Tabelas:')\n",
    "for tabela in cursor.fetchall():\n",
    "    print(tabela)\n",
    "\n",
    "# Captura a DDL usada para criar a tabela\n",
    "tabela = 'fornecedor'\n",
    "cursor.execute(f\"\"\"SELECT sql FROM sqlite_master WHERE type='table' AND name='{tabela}'\"\"\")\n",
    "print(f'\\nDDL da tabela {tabela}:')\n",
    "for schema in cursor.fetchall():\n",
    "    print(\"%s\" % (schema))\n",
    "    \n",
    "cursor.close()\n",
    "conn.close()"
   ]
  },
  {
   "attachments": {},
   "cell_type": "markdown",
   "metadata": {},
   "source": [
    "DESAFIO\n",
    "\n",
    "Como desenvolvedor em uma empresa de consultoria de software, você foi alocado para construir uma solução parametrizável capaz de criar banco de dados na tecnologia SQLite, criar e apagar tabelas, o nome do banco, das tabelas e a DDL necessária para criar uma tabela (tudo deve ser parametrizável). Você também deve construir uma solução capaz de fazer um CRUD em um banco SQLite – veja que o componente deve funcionar para qualquer nome de banco e de tabela, ou seja, parâmetros. As regras que lhe foram passadas são as seguintes:\n",
    "\n",
    "* Para criar uma nova base de dados, é necessário informar o nome.\n",
    "* Para criar uma nova tabela, é necessário informar o nome do banco que receberá a tabela e a DDL de criação.\n",
    "* Para excluir uma tabela, é necessário informar o nome do banco e da tabela.\n",
    "* Para inserir um novo registro em uma tabela, é preciso informar: o nome do banco e da tabela e um dicionário contendo a chave e o valor a ser inserido. Por exemplo, {'nome': 'João', 'idade': 30}.\n",
    "* Para recuperar, os dados é preciso informar o nome do banco e da tabela.\n",
    "* Para atualizar um novo registro em uma tabela é preciso informar: o nome do banco e da tabela e dois dicionários, um contendo a chave e o valor a ser atualizado e outro contendo a chave e o valor da condição do registro que será atualizado.\n",
    "* Para excluir um registro em uma tabela, é preciso informar: o nome do banco e da tabela e um dicionário contendo a chave e o valor da condição para localizar o registro a ser inserido. Por exemplo, {'id_cliente': 10}."
   ]
  },
  {
   "cell_type": "markdown",
   "metadata": {},
   "source": []
  }
 ],
 "metadata": {
  "kernelspec": {
   "display_name": "Python 3",
   "language": "python",
   "name": "python3"
  },
  "language_info": {
   "codemirror_mode": {
    "name": "ipython",
    "version": 3
   },
   "file_extension": ".py",
   "mimetype": "text/x-python",
   "name": "python",
   "nbconvert_exporter": "python",
   "pygments_lexer": "ipython3",
   "version": "3.9.2"
  },
  "orig_nbformat": 4
 },
 "nbformat": 4,
 "nbformat_minor": 2
}
