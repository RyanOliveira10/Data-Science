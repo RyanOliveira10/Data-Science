{
 "cells": [
  {
   "attachments": {},
   "cell_type": "markdown",
   "metadata": {},
   "source": [
    "# Aprendendo python - Unidade 1"
   ]
  },
  {
   "attachments": {},
   "cell_type": "markdown",
   "metadata": {},
   "source": [
    "## Primeiros passos com python"
   ]
  },
  {
   "cell_type": "code",
   "execution_count": 7,
   "metadata": {},
   "outputs": [
    {
     "name": "stdout",
     "output_type": "stream",
     "text": [
      "hello world!!!\n"
     ]
    }
   ],
   "source": [
    "print(\"hello world!!!\")"
   ]
  },
  {
   "attachments": {},
   "cell_type": "markdown",
   "metadata": {},
   "source": [
    "##### variáveis e tipos básicos em python"
   ]
  },
  {
   "cell_type": "code",
   "execution_count": 8,
   "metadata": {},
   "outputs": [],
   "source": [
    "x = 10 #inteiro\n",
    "nome = 'aluno' #caractere\n",
    "nota = 8.75 #float\n",
    "fez_inscricao = True #boleano"
   ]
  },
  {
   "cell_type": "code",
   "execution_count": 9,
   "metadata": {},
   "outputs": [
    {
     "name": "stdout",
     "output_type": "stream",
     "text": [
      "<class 'int'>\n",
      "<class 'str'>\n",
      "<class 'float'>\n",
      "<class 'bool'>\n"
     ]
    }
   ],
   "source": [
    "print(type(x))\n",
    "print(type(nome))\n",
    "print(type(nota))\n",
    "print(type(fez_inscricao))"
   ]
  },
  {
   "cell_type": "code",
   "execution_count": 10,
   "metadata": {},
   "outputs": [
    {
     "name": "stdout",
     "output_type": "stream",
     "text": [
      "Ryan\n"
     ]
    }
   ],
   "source": [
    "nome = input(\"Digite o seu nome: \")\n",
    "print(nome)"
   ]
  },
  {
   "attachments": {},
   "cell_type": "markdown",
   "metadata": {},
   "source": [
    "Em python, temos uma variedade de formas de imprimir texto com variaveis. podemos usar formatadores de caracteres como na linguagem C, usar a função format(), ou criar uma string formatada, veja exemplos."
   ]
  },
  {
   "cell_type": "code",
   "execution_count": 11,
   "metadata": {},
   "outputs": [
    {
     "name": "stdout",
     "output_type": "stream",
     "text": [
      "Olá Ryan, bem vindo a disciplina de programação. Parabéns pelo seu primeiro hello world\n",
      "Olá Ryan, bem vindo a disciplina de programação. Parabéns pelo seu primeiro hello world\n",
      "Olá Ryan, bem vindo a disciplina de programação. Parabéns pelo seu primeiro hello world\n"
     ]
    }
   ],
   "source": [
    "# Modo 1 - usando formatadores de caracteres (igual na linguagem C) para imprimir variável e texto\n",
    "print(\"Olá %s, bem vindo a disciplina de programação. Parabéns pelo seu primeiro hello world\" % (nome))\n",
    "\n",
    "# Modo 2 - usando a função format() para imprimir variável e texto\n",
    "print(\"Olá {}, bem vindo a disciplina de programação. Parabéns pelo seu primeiro hello world\".format(nome))\n",
    "\n",
    "# Modo 3 - usando strings formatadas\n",
    "print(f\"Olá {nome}, bem vindo a disciplina de programação. Parabéns pelo seu primeiro hello world\")"
   ]
  },
  {
   "attachments": {},
   "cell_type": "markdown",
   "metadata": {},
   "source": [
    "##### Operações matemáticas em python"
   ]
  },
  {
   "attachments": {},
   "cell_type": "markdown",
   "metadata": {},
   "source": [
    "Operação\n",
    "\n",
    "Resultado\n",
    "\n",
    "x + y\n",
    "\n",
    "soma de x e y\n",
    "\n",
    "x - y\n",
    "\n",
    "Diferença de x e y\n",
    "\n",
    "x * y\n",
    "\n",
    "Produto de x e y\n",
    "\n",
    "x / y\n",
    "\n",
    "Quociente de x e y\n",
    "\n",
    "x // y\n",
    "\n",
    "Parte inteira do quociente de x e y\n",
    "\n",
    "x % y\n",
    "\n",
    "Resto de x / y\n",
    "\n",
    "abs(x)\n",
    "\n",
    "Valor absoluto de x\n",
    "\n",
    "pow(x, y)\n",
    "\n",
    "x elevado a y\n",
    "\n",
    "x ** y\n",
    "\n",
    "x elevado a y"
   ]
  },
  {
   "cell_type": "code",
   "execution_count": 12,
   "metadata": {},
   "outputs": [
    {
     "name": "stdout",
     "output_type": "stream",
     "text": [
      "Resultado em operacao_1 = 17\n",
      "Resultado em operacao_2 = 25\n",
      "Resultado em operacao_3 = 1.0\n",
      "Resultado em operacao_4 = 5\n"
     ]
    }
   ],
   "source": [
    "# Qual o resultado armazendo na variável operacao_1: 25 ou 17? \n",
    "operacao_1 = 2 + 3 * 5\n",
    "\n",
    "# Qual o resultado armazendo na variável operacao_2: 25 ou 17? \n",
    "operacao_2 = (2 + 3) * 5\n",
    "\n",
    "# Qual o resultado armazendo na variável operacao_3: 4 ou 1?\n",
    "operacao_3 = 4 / 2 ** 2\n",
    "\n",
    "# Qual o resultado armazendo na variável operacao_4: 1 ou 5?\n",
    "operacao_4 = 13 % 3 + 4\n",
    "\n",
    "print(f\"Resultado em operacao_1 = {operacao_1}\")\n",
    "print(f\"Resultado em operacao_2 = {operacao_2}\")\n",
    "print(f\"Resultado em operacao_3 = {operacao_3}\")\n",
    "print(f\"Resultado em operacao_4 = {operacao_4}\")"
   ]
  },
  {
   "attachments": {},
   "cell_type": "markdown",
   "metadata": {},
   "source": [
    "### Desafio"
   ]
  },
  {
   "cell_type": "code",
   "execution_count": 13,
   "metadata": {},
   "outputs": [],
   "source": [
    "primeiro_mes = 200\n",
    "#segundo mes = 400\n",
    "#terceiro mes = 600\n",
    "#quarto mes = 800\n",
    "#quinto mes = 1000\n",
    "#sexto mes = 1200\n",
    "\n",
    "mes_previsao = int(input(\"Digite o número correspondente ao mês que voçê quer saber a previsao: \"))\n",
    "previsao = mes_previsao * primeiro_mes\n",
    "print(f\"O número de vendas previsto no mes {mes_previsao} é de {previsao} peças!\")\n",
    "\n"
   ]
  },
  {
   "attachments": {},
   "cell_type": "markdown",
   "metadata": {},
   "source": [
    "## Estruturas lógicas, condicionais e de repetição em python"
   ]
  },
  {
   "attachments": {},
   "cell_type": "markdown",
   "metadata": {},
   "source": [
    "##### IF, ELIF E ELSE"
   ]
  },
  {
   "cell_type": "code",
   "execution_count": null,
   "metadata": {},
   "outputs": [
    {
     "name": "stdout",
     "output_type": "stream",
     "text": [
      "2 é menor que 5\n"
     ]
    }
   ],
   "source": [
    "a = int(input(\"Digite o valor de A: \"))\n",
    "b = int(input(\"Digite o valor de B: \"))\n",
    "\n",
    "if a < b:\n",
    "    print(f\"{a} é menor que {b}\")\n",
    "else:\n",
    "    print(f\"{a} não é menor que {b}\")"
   ]
  },
  {
   "cell_type": "code",
   "execution_count": null,
   "metadata": {},
   "outputs": [
    {
     "name": "stdout",
     "output_type": "stream",
     "text": [
      "Compra a vista!\n"
     ]
    }
   ],
   "source": [
    "codigo_compra = 5111\n",
    "\n",
    "if codigo_compra == 5111:\n",
    "    print(\"Compra a vista!\")\n",
    "elif codigo_compra == 5222:\n",
    "    print(\"Compra a prazo no cartao!\")\n",
    "elif codigo_compra == 5333:\n",
    "    print(\"Compra a prazo no boleto!\")\n",
    "else:\n",
    "    print(\"Código não cadastrado\")"
   ]
  },
  {
   "attachments": {},
   "cell_type": "markdown",
   "metadata": {},
   "source": [
    "##### AND, OR, NOT"
   ]
  },
  {
   "attachments": {},
   "cell_type": "markdown",
   "metadata": {},
   "source": [
    "Além dos operadores relacionais, podemos usar os operadores booleanos para construir estruturas de decisões mais complexas.\n",
    "\n",
    "Operador booleano and: Esse operador faz a operação lógica E, ou seja, dada a expressão (a and b), o resultado será True, somente quando os dois argumentos forem verdadeiros.\n",
    "\n",
    "Operador booleano or: Esse operador faz a operação lógica OU, ou seja, dada a expressão (a or b), o resultado será True, quando pelo menos um dos argumentos for verdadeiro.\n",
    "\n",
    "Operador booleano not: Esse operador faz a operação lógica NOT, ou seja, dada a expressão (not a), ele irá inverter o valor do argumento. Portanto, se o argumento for verdadeiro, a operação o transformará em falso e vice-versa."
   ]
  },
  {
   "cell_type": "code",
   "execution_count": null,
   "metadata": {},
   "outputs": [
    {
     "name": "stdout",
     "output_type": "stream",
     "text": [
      "Aprovado!\n"
     ]
    }
   ],
   "source": [
    "qtde_faltas = int(input(\"Digite a quantidade de faltas: \"))\n",
    "media_final = float(input(\"Digite a média final: \"))\n",
    "\n",
    "if qtde_faltas <= 5 and media_final >= 6:\n",
    "    print(\"Aprovado!\")\n",
    "elif qtde_faltas <= 5 and media_final < 6:\n",
    "    print(\"Recuperação!\")\n",
    "else:\n",
    "    print(\"Reprovado!\")"
   ]
  },
  {
   "attachments": {},
   "cell_type": "markdown",
   "metadata": {},
   "source": [
    "##### WHILE E FOR"
   ]
  },
  {
   "attachments": {},
   "cell_type": "markdown",
   "metadata": {},
   "source": [
    "O comando while deve ser utilizado para construir e controlar a estrutura decisão, sempre que o número de repetições não seja conhecido. "
   ]
  },
  {
   "cell_type": "code",
   "execution_count": null,
   "metadata": {},
   "outputs": [
    {
     "name": "stdout",
     "output_type": "stream",
     "text": [
      "Numero par!\n",
      "Numero impar!\n",
      "Numero par!\n"
     ]
    }
   ],
   "source": [
    "numero = 1\n",
    "while numero != 0:\n",
    "    numero = int(input(\"Digite um numero: \"))\n",
    "    if numero % 2 == 0:\n",
    "        print(\"Numero par!\")\n",
    "    else:\n",
    "        print(\"Numero impar!\")"
   ]
  },
  {
   "attachments": {},
   "cell_type": "markdown",
   "metadata": {},
   "source": [
    "Outro comando muito utilizado para construir as estruturas de repetição é o for. A instrução for em Python difere um pouco do que ocorre em outras linguagens, como C ou Java, com as quais você pode estar acostumado."
   ]
  },
  {
   "cell_type": "code",
   "execution_count": null,
   "metadata": {},
   "outputs": [
    {
     "name": "stdout",
     "output_type": "stream",
     "text": [
      "r\n",
      "y\n",
      "a\n",
      "n\n"
     ]
    }
   ],
   "source": [
    "nome = \"ryan\"\n",
    "for c in nome:\n",
    "    print(c)"
   ]
  },
  {
   "cell_type": "code",
   "execution_count": null,
   "metadata": {},
   "outputs": [
    {
     "name": "stdout",
     "output_type": "stream",
     "text": [
      "posicao: 0, valor: c\n",
      "posicao: 1, valor: a\n",
      "posicao: 2, valor: r\n",
      "posicao: 3, valor: l\n",
      "posicao: 4, valor: o\n",
      "posicao: 5, valor: s\n"
     ]
    }
   ],
   "source": [
    "nome = \"carlos\"\n",
    "for index, c in enumerate(nome):\n",
    "    print(f\"posicao: {index}, valor: {c}\")"
   ]
  },
  {
   "attachments": {},
   "cell_type": "markdown",
   "metadata": {},
   "source": [
    "RANGE, BREAK E CONTINUE"
   ]
  },
  {
   "attachments": {},
   "cell_type": "markdown",
   "metadata": {},
   "source": [
    "Para criar uma sequência numérica de iteração em Python, podemos usar a função range()."
   ]
  },
  {
   "attachments": {},
   "cell_type": "markdown",
   "metadata": {},
   "source": [
    "Método 1: passando um único argumento que representa a quantidade de vezes que o laço deve repetir;\n",
    "\n",
    "Método 2: passando dois argumentos, um que representa o início das repetições e outro o limite superior (NÃO INCLUÍDO) do valor da variável de controle;\n",
    "\n",
    "Método 3: Passando três argumentos, um que representa o início das repetições; outro, o limite superior (NÃO INCLUÍDO) do valor da variável de controle e um que representa o incremento. Observe as três maneiras a seguir."
   ]
  },
  {
   "cell_type": "code",
   "execution_count": null,
   "metadata": {},
   "outputs": [
    {
     "name": "stdout",
     "output_type": "stream",
     "text": [
      "0\n",
      "5\n",
      "10\n",
      "15\n",
      "20\n",
      "25\n",
      "30\n",
      "35\n",
      "40\n",
      "45\n",
      "50\n",
      "55\n",
      "60\n",
      "65\n",
      "70\n",
      "75\n",
      "80\n",
      "85\n",
      "90\n",
      "95\n"
     ]
    }
   ],
   "source": [
    "for x in range(0,100, 5):\n",
    "    print(x)"
   ]
  },
  {
   "attachments": {},
   "cell_type": "markdown",
   "metadata": {},
   "source": [
    "Além de controlar as iterações com o tamanho da sequência, outra forma de influenciar no fluxo é por meio dos comandos \"break\" e \"continue\". O comando break para a execução de uma estrutura de repetição, já com o comando continue, conseguimos \"pular\" algumas execuções, dependendo de uma condição."
   ]
  },
  {
   "cell_type": "code",
   "execution_count": null,
   "metadata": {},
   "outputs": [
    {
     "name": "stdout",
     "output_type": "stream",
     "text": [
      "L\n",
      "i\n",
      "n\n",
      "g\n",
      "u\n"
     ]
    }
   ],
   "source": [
    "#exemplo de uso do break\n",
    "disciplina = \"Linguagem de programação\"\n",
    "\n",
    "for c in disciplina:\n",
    "    if c == 'a':\n",
    "        break\n",
    "    else:\n",
    "        print(c)"
   ]
  },
  {
   "cell_type": "code",
   "execution_count": null,
   "metadata": {},
   "outputs": [
    {
     "name": "stdout",
     "output_type": "stream",
     "text": [
      "L\n",
      "i\n",
      "n\n",
      "g\n",
      "u\n",
      "g\n",
      "e\n",
      "m\n",
      " \n",
      "d\n",
      "e\n",
      " \n",
      "p\n",
      "r\n",
      "o\n",
      "g\n",
      "r\n",
      "m\n",
      "ç\n",
      "ã\n",
      "o\n"
     ]
    }
   ],
   "source": [
    "#exemplo de uso do continue\n",
    "for c in disciplina:\n",
    "    if c == 'a':\n",
    "        continue\n",
    "    else:\n",
    "        print(c)"
   ]
  },
  {
   "cell_type": "code",
   "execution_count": null,
   "metadata": {},
   "outputs": [
    {
     "name": "stdout",
     "output_type": "stream",
     "text": [
      "Vogal 'e' encontrada, na posição 6\n",
      "Vogal 'e' encontrada, na posição 13\n",
      "Vogal 'e' encontrada, na posição 18\n",
      "Vogal 'a' encontrada, na posição 45\n",
      "Vogal 'a' encontrada, na posição 47\n",
      "Vogal 'a' encontrada, na posição 53\n",
      "Vogal 'a' encontrada, na posição 61\n",
      "Vogal 'a' encontrada, na posição 67\n",
      "Vogal 'a' encontrada, na posição 91\n",
      "Vogal 'a' encontrada, na posição 98\n",
      "Vogal 'e' encontrada, na posição 100\n",
      "Vogal 'e' encontrada, na posição 104\n",
      "Vogal 'a' encontrada, na posição 111\n",
      "Vogal 'a' encontrada, na posição 113\n",
      "Vogal 'e' encontrada, na posição 119\n",
      "Vogal 'a' encontrada, na posição 122\n",
      "Vogal 'a' encontrada, na posição 127\n",
      "Vogal 'a' encontrada, na posição 130\n",
      "Vogal 'e' encontrada, na posição 132\n",
      "Vogal 'a' encontrada, na posição 135\n",
      "Vogal 'e' encontrada, na posição 138\n",
      "Vogal 'e' encontrada, na posição 141\n",
      "Vogal 'e' encontrada, na posição 151\n",
      "Vogal 'e' encontrada, na posição 156\n",
      "Vogal 'e' encontrada, na posição 166\n",
      "Vogal 'a' encontrada, na posição 168\n",
      "Vogal 'e' encontrada, na posição 174\n",
      "Vogal 'a' encontrada, na posição 190\n",
      "Vogal 'a' encontrada, na posição 192\n",
      "Vogal 'e' encontrada, na posição 201\n",
      "Vogal 'a' encontrada, na posição 209\n",
      "Vogal 'a' encontrada, na posição 216\n",
      "Vogal 'e' encontrada, na posição 220\n",
      "Vogal 'e' encontrada, na posição 227\n",
      "Vogal 'e' encontrada, na posição 230\n",
      "Vogal 'a' encontrada, na posição 234\n",
      "Vogal 'e' encontrada, na posição 237\n",
      "Vogal 'e' encontrada, na posição 252\n",
      "Vogal 'a' encontrada, na posição 254\n",
      "Vogal 'a' encontrada, na posição 257\n",
      "Vogal 'a' encontrada, na posição 259\n",
      "Vogal 'e' encontrada, na posição 266\n",
      "Vogal 'a' encontrada, na posição 278\n",
      "Vogal 'a' encontrada, na posição 280\n",
      "Vogal 'a' encontrada, na posição 282\n",
      "Vogal 'a' encontrada, na posição 289\n",
      "Vogal 'a' encontrada, na posição 294\n",
      "Vogal 'e' encontrada, na posição 297\n",
      "Vogal 'a' encontrada, na posição 309\n",
      "Vogal 'e' encontrada, na posição 323\n",
      "Vogal 'e' encontrada, na posição 325\n",
      "Vogal 'a' encontrada, na posição 328\n"
     ]
    }
   ],
   "source": [
    "texto = \"\"\"\n",
    "A inserção de comentários no código do programa é uma prática normal.\n",
    "Em função disso, toda linguagem de programação tem alguma maneira de permitir que comentários sejam inseridos nos programas.\n",
    "O objetivo é adicionar descrições em partes do código, seja para documentá-lo ou para adicionar uma descrição do algoritmo implementado (BANIN, p. 45, 2018).\"\n",
    "\"\"\"\n",
    "for i, c in enumerate(texto):\n",
    "    if c == 'a' or c == 'e':\n",
    "        print(f\"Vogal '{c}' encontrada, na posição {i}\")\n",
    "    else:\n",
    "        continue\n"
   ]
  },
  {
   "attachments": {},
   "cell_type": "markdown",
   "metadata": {},
   "source": [
    "##### Desafio"
   ]
  },
  {
   "attachments": {},
   "cell_type": "markdown",
   "metadata": {},
   "source": [
    "Dando continuidade ao seu trabalho na empresa de consultoria de software, o cliente que fabrica peças automotivas requisitou uma nova funcionalidade para o sistema: calcular o imposto de renda a ser deduzido do salário dos colaboradores. O imposto de renda \"Incide sobre a renda e os proventos de contribuintes residentes no País ou residentes no exterior que recebam rendimentos de fontes no Brasil. Apresenta alíquotas variáveis conforme a renda dos contribuintes, de forma que os de menor renda não sejam alcançados pela tributação.\" (IRPF, 2020)\n",
    "\n",
    "Você foi designado para pesquisar a tabela de valores para o imposto de renda do ano de 2020, pensar no algoritmo e implementar a primeira versão da solução. Quando o cliente aprovar, a versão passará para o time de produção. Nessa primeira versão, o programa deve solicitar o salário do colaborador e então, informar qual o valor do imposto que será deduzido do salário."
   ]
  },
  {
   "attachments": {},
   "cell_type": "markdown",
   "metadata": {},
   "source": [
    "<img src=\"tabela_imposto.png\" />"
   ]
  },
  {
   "cell_type": "code",
   "execution_count": null,
   "metadata": {},
   "outputs": [
    {
     "name": "stdout",
     "output_type": "stream",
     "text": [
      "Aliquota = 22.5% , Parcela a deduzir: R$ 636.13\n",
      "Aliquota = 27.5% , Parcela a deduzir: R$ 869.36\n"
     ]
    }
   ],
   "source": [
    "def verifica_salario(salario):\n",
    "    aliquota = 'isento'\n",
    "    deducao = 'isento'\n",
    "\n",
    "    if salario <= 1903.98:\n",
    "        print(f\"Aliquota = {aliquota} , Parcela a deduzir: {deducao}\")\n",
    "\n",
    "    elif salario >= 1903.99 and salario <= 2826.65:\n",
    "        aliquota = float(7.5)\n",
    "        deducao = float(142.80)\n",
    "        print(f\"Aliquota = {aliquota}% , Parcela a deduzir: R$ {deducao}\")\n",
    "\n",
    "    elif salario >= 2826.66 and salario <= 3751.05:\n",
    "        aliquota = float(15)\n",
    "        deducao = float(354.80)\n",
    "        print(f\"Aliquota = {aliquota}% , Parcela a deduzir: R$ {deducao}\")\n",
    "\n",
    "    elif salario >= 3751.06 and salario <= 4664.68:\n",
    "        aliquota = float(22.5)\n",
    "        deducao = float(636.13)\n",
    "        print(f\"Aliquota = {aliquota}% , Parcela a deduzir: R$ {deducao}\")\n",
    "    else:\n",
    "        aliquota = float(27.5)\n",
    "        deducao = float(869.36)\n",
    "        print(f\"Aliquota = {aliquota}% , Parcela a deduzir: R$ {deducao}\")\n",
    "\n",
    "\n",
    "def pegar_dados_usuario():\n",
    "    salario_usuario = float(input(\"Digite o seu salário: \"))\n",
    "    verifica_salario(salario_usuario)\n",
    "\n",
    "\n",
    "decisao = 1\n",
    "while (decisao == 1):\n",
    "    pegar_dados_usuario()\n",
    "    decisao = int(input(\"Digite 1 para continuar e 0 para sair\"))\n"
   ]
  },
  {
   "attachments": {},
   "cell_type": "markdown",
   "metadata": {},
   "source": [
    "# Funções em python"
   ]
  },
  {
   "attachments": {},
   "cell_type": "markdown",
   "metadata": {},
   "source": [
    "### IMPLEMENTANDO SOLUÇÕES EM PYTHON MEDIANTE FUNÇÕES"
   ]
  },
  {
   "attachments": {},
   "cell_type": "markdown",
   "metadata": {},
   "source": [
    "FUNÇÕES BUILT-IN EM PYTHON\n",
    "\n",
    "Desde que escrevemos nossa primeira linha de código nessa disciplina >>print(\"hello world\"), já começamos a usar funções, pois print() é uma função built-in do interpretador Python. Uma função built-in é um objeto que está integrado ao núcleo do interpretador, ou seja, não precisa ser feita nenhuma instalação adicional, já está pronto para uso. O interpretador Python possui várias funções disponíveis"
   ]
  },
  {
   "attachments": {},
   "cell_type": "markdown",
   "metadata": {},
   "source": [
    "\n",
    "* abs()\n",
    "* delattr()\t\n",
    "* hash()\t\n",
    "* memoryview()\t\n",
    "* set()\n",
    "* all()\t\n",
    "* dict()\t\n",
    "* help()\t\n",
    "* min()\t\n",
    "* setattr()\n",
    "* any()\t\n",
    "* dir()\t\n",
    "* hex()\t\n",
    "* next()\t\n",
    "* slice()\n",
    "* ascii()\t\n",
    "* divmod()\t\n",
    "* id()\t\n",
    "* object()\t\n",
    "* sorted()\n",
    "* bin()\t\n",
    "* enumerate()\t\n",
    "* input()\t\n",
    "* oct()\t\n",
    "* staticmethod()\n",
    "* bool()\t\n",
    "* eval()\t\n",
    "* int()\t\n",
    "* open()\t\n",
    "* str()\n",
    "* breakpoint()\t\n",
    "* exec()\t\n",
    "* isinstance()\t\n",
    "* ord()\t\n",
    "* sum()\n",
    "* bytearray()\t\n",
    "* filter()\t\n",
    "* issubclass()\t\n",
    "* pow()\t\n",
    "* super()\n",
    "* bytes()\t\n",
    "* float()\t\n",
    "* iter()\t\n",
    "* print()\t\n",
    "* tuple()\n",
    "* callable()\t\n",
    "* format()\t\n",
    "* len()\t\n",
    "* property()\t\n",
    "* type()\n",
    "* chr()\t\n",
    "* frozenset()\t\n",
    "* list()\t\n",
    "* range()\t\n",
    "* vars()\n",
    "* classmethod()\t\n",
    "* getattr()\t\n",
    "* locals()\t\n",
    "* repr()\t\n",
    "* zip()\n",
    "* compile()\t\n",
    "* globals()\t\n",
    "* map()\t\n",
    "* reversed()\t\n",
    "* __import__()\n",
    "* complex()\t\n",
    "* hasattr()\t\n",
    "* max()\t\n",
    "* round()\t\n"
   ]
  },
  {
   "attachments": {},
   "cell_type": "markdown",
   "metadata": {},
   "source": [
    "Funções criadas"
   ]
  },
  {
   "cell_type": "code",
   "execution_count": null,
   "metadata": {},
   "outputs": [
    {
     "name": "stdout",
     "output_type": "stream",
     "text": [
      "A sua diciplina é Linguagem de programação e o seu curso é ciencia de dados\n",
      "A sua diciplina é Programação orientada a objetos e o seu curso é Ciência de dados\n"
     ]
    }
   ],
   "source": [
    "def imprimir_mensagem(disciplina, curso):\n",
    "    print(f\"A sua diciplina é {disciplina} e o seu curso é {curso}\")\n",
    "\n",
    "def pegar_mensagem():\n",
    "    disciplina = input(\"Qual o nome da sua disciplina?: \")\n",
    "    curso = input(\"Qual o nome do seu curso?: \")\n",
    "    imprimir_mensagem(disciplina=disciplina, curso=curso)\n",
    "\n",
    "pegar_mensagem()\n",
    "imprimir_mensagem('Programação orientada a objetos','Ciência de dados')"
   ]
  },
  {
   "cell_type": "code",
   "execution_count": null,
   "metadata": {},
   "outputs": [
    {
     "name": "stdout",
     "output_type": "stream",
     "text": [
      "15 de julho de 2002\n"
     ]
    }
   ],
   "source": [
    "#converter mes para extenso\n",
    "\n",
    "def converter_mes_para_extenso(data):\n",
    "    mes = '''janeiro fevereiro marco abril maio junho julho agosto setembro outubro novembro dezembro'''.split()\n",
    "\n",
    "    d, m, a = data.split('/')\n",
    "    mes_extenso = mes[int(m) - 1]\n",
    "    return f'{d} de {mes_extenso} de {a}'\n",
    "\n",
    "print(converter_mes_para_extenso('15/07/2002'))"
   ]
  },
  {
   "cell_type": "code",
   "execution_count": null,
   "metadata": {},
   "outputs": [
    {
     "name": "stdout",
     "output_type": "stream",
     "text": [
      "\n",
      "Dados a serem cadastrados: \n",
      "Nome: Joao\n",
      "Idade: 23\n",
      "Cidade: Ipatinga\n",
      "\n",
      "\n",
      "\n",
      "Dados a serem cadastrados: \n",
      "Nome: Ryan\n",
      "Idade: 20\n",
      "Cidade: Coronel Fabriciano\n",
      "\n",
      "\n"
     ]
    }
   ],
   "source": [
    "#parametros indefinidos\n",
    "def cadastrar_pessoa(nome, idade, cidade):\n",
    "    print(\"\\nDados a serem cadastrados: \")\n",
    "    print(f\"Nome: {nome}\")\n",
    "    print(f\"Idade: {idade}\")\n",
    "    print(f\"Cidade: {cidade}\")\n",
    "    print(\"\\n\")\n",
    "\n",
    "cadastrar_pessoa(\"Joao\", 23, \"Ipatinga\")\n",
    "cadastrar_pessoa(\"Ryan\", 20, \"Coronel Fabriciano\")"
   ]
  },
  {
   "cell_type": "code",
   "execution_count": null,
   "metadata": {},
   "outputs": [
    {
     "name": "stdout",
     "output_type": "stream",
     "text": [
      "\n",
      "Chamada 1\n",
      "Quantidade de parâmetros = 4\n",
      "Posição = 0, valor = São Paulo\n",
      "Posição = 1, valor = 10\n",
      "Posição = 2, valor = 23.78\n",
      "Posição = 3, valor = João\n",
      "\n",
      "Chamada 2\n",
      "Quantidade de parâmetros = 2\n",
      "Posição = 0, valor = 10\n",
      "Posição = 1, valor = São Paulo\n"
     ]
    }
   ],
   "source": [
    "def imprimir_parametros(*args):\n",
    "    qtde_parametros = len(args)\n",
    "    print(f\"Quantidade de parâmetros = {qtde_parametros}\")\n",
    "    \n",
    "    for i, valor in enumerate(args):\n",
    "        print(f\"Posição = {i}, valor = {valor}\")\n",
    "\n",
    "        \n",
    "print(\"\\nChamada 1\")        \n",
    "imprimir_parametros(\"São Paulo\", 10, 23.78, \"João\")\n",
    "\n",
    "print(\"\\nChamada 2\")        \n",
    "imprimir_parametros(10, \"São Paulo\")"
   ]
  },
  {
   "attachments": {},
   "cell_type": "markdown",
   "metadata": {},
   "source": [
    "FUNÇÕES ANÔNIMAS EM PYTHON"
   ]
  },
  {
   "cell_type": "code",
   "execution_count": null,
   "metadata": {},
   "outputs": [
    {
     "data": {
      "text/plain": [
       "6"
      ]
     },
     "execution_count": 34,
     "metadata": {},
     "output_type": "execute_result"
    }
   ],
   "source": [
    "(lambda x, y: x+y)(x=3, y=3)"
   ]
  },
  {
   "attachments": {},
   "cell_type": "markdown",
   "metadata": {},
   "source": [
    "### Desafio"
   ]
  },
  {
   "attachments": {},
   "cell_type": "markdown",
   "metadata": {},
   "source": [
    "Dando continuidade ao seu trabalho na empresa de consultora de software, o cliente que fabrica peças automotivas requisitou uma nova funcionalidade para o sistema: calcular o total de vendas. Como seus negócios estão expandindo, o cliente solicitou que o sistema seja capaz de receber valores em reais, dolár ou euro, e que seja feita a conversão para o valor em reais. Como essa entrega demanda a construção de uma interface gráfica, além da comunicação com banco de dados, dentre outros requisitos técnicos, você foi alocado em uma equipe ágil para criar a função que fará o cálculo do valor.\n",
    "\n",
    "Após uma primeira reunião, a equipe fez um levantamento de requisitos e concluiu que a função a ser construída precisa considerar os seguintes itens:\n",
    "\n",
    "* O valor do produto (obrigatório). - Concluido\n",
    "* A quantidade do produto (obrigatório). - Concluido\n",
    "* A moeda em que deve ser feito o cálculo (obrigatório, sendo padrão o real). - Concluido\n",
    "* A porcentagem do desconto que será concedida na compra (opcional). - Concluido\n",
    "* A porcentagem de acréscimo, que depende da forma de pagamento (opcional). - Concluido"
   ]
  },
  {
   "cell_type": "code",
   "execution_count": 3,
   "metadata": {},
   "outputs": [
    {
     "name": "stdout",
     "output_type": "stream",
     "text": [
      "Valor padrão para moedas : Real\n",
      "Valor 144.00, Desconto de 10.0%, valor a pagar R$129.60, modalidade de pagamento 1 - A vista\n"
     ]
    }
   ],
   "source": [
    "# Calculo do total de vendas\n",
    "\n",
    "def converter_valores(valor, tipo_moeda, qtde_produto):\n",
    "    dolar = 5.20\n",
    "    euro = 6\n",
    "\n",
    "    pagamento = int(input(\n",
    "        \"Forma de pagamento -> \\n1 - a vista \\n2 - a prazo no boleto \\n3 - a prazo no cartao\"))\n",
    "\n",
    "    if tipo_moeda == \"1\":\n",
    "        valor_real = valor * qtde_produto\n",
    "        forma_de_pagamento(pagamento=pagamento, valor=valor_real)\n",
    "    elif tipo_moeda == \"2\":\n",
    "        valor_real = (valor * dolar) * qtde_produto\n",
    "        forma_de_pagamento(pagamento=pagamento, valor=valor_real)\n",
    "    elif tipo_moeda == \"3\":\n",
    "        valor_real = (valor * euro) * qtde_produto\n",
    "        forma_de_pagamento(pagamento=pagamento, valor=valor_real)\n",
    "    else:\n",
    "        print('Valor padrão para moedas : Real')\n",
    "        valor_real = valor * qtde_produto\n",
    "        forma_de_pagamento(pagamento=pagamento, valor=valor_real)\n",
    "\n",
    "\n",
    "def valida_valores(valor, tipo_moeda, qtde_produto):\n",
    "\n",
    "    valor_produto = valor\n",
    "    moeda = tipo_moeda\n",
    "    qtde = qtde_produto\n",
    "\n",
    "    if valor_produto == \"\" or moeda == \"\" or qtde == \"\":\n",
    "        print(\"\\nObrigatorio informar o todos os dados!\")\n",
    "    else:\n",
    "        converter_valores(valor=float(valor_produto),\n",
    "                          tipo_moeda=int(moeda), qtde_produto=int(qtde))\n",
    "\n",
    "\n",
    "def forma_de_pagamento(pagamento, valor):\n",
    "    if pagamento == 1:\n",
    "        porcentagem = 0.10\n",
    "        desconto = valor * porcentagem\n",
    "        valor_a_vista = valor - desconto\n",
    "        print(\n",
    "            f\"Valor {valor:.2f}, Desconto de {porcentagem * 100}%, valor a pagar R${valor_a_vista:.2f}, modalidade de pagamento {pagamento} - A vista\")\n",
    "    elif pagamento == 2:\n",
    "        porcentagem = 0.10\n",
    "        acrecimo = valor * porcentagem\n",
    "        valor_no_boleto = valor + acrecimo\n",
    "        print(\n",
    "            f\"Valor {valor:.2f}, Acrécimo de {porcentagem * 100}%, valor a pagar R${valor_no_boleto:.2f}, modalidade de pagamento {pagamento} - A prazo no boleto\")\n",
    "    elif pagamento == 3:\n",
    "        porcentagem = 0.15\n",
    "        acrecimo = valor * porcentagem\n",
    "        valor_no_cartao = valor + acrecimo\n",
    "        print(\n",
    "            f\"Valor {valor:.2f}, Acrécimo de {porcentagem * 100}%, valor a pagar R${valor_no_cartao:.2f}, modalidade de pagamento {pagamento} - A prazo no cartão\")\n",
    "\n",
    "\n",
    "def pegar_valores():\n",
    "    valor = input(\"Valor do produto: \")\n",
    "    tipo_moeda = input(\"Tipo de moeda \\n1-real \\n2-dolar \\n3-euro): \")\n",
    "    qtde_produto = input(\"Quantidade: \")\n",
    "    valida_valores(valor=valor, tipo_moeda=tipo_moeda,\n",
    "                   qtde_produto=qtde_produto)\n",
    "\n",
    "    while (valor == \"\" or tipo_moeda == \"\" or qtde_produto == \"\"):\n",
    "        valor = input(\"Valor do produto: \")\n",
    "        tipo_moeda = input(\"Tipo de moeda \\n1-real \\n2-dolar \\n3-euro): \")\n",
    "        qtde_produto = input(\"Quantidade: \")\n",
    "        valida_valores(valor=valor, tipo_moeda=tipo_moeda,\n",
    "                       qtde_produto=qtde_produto)\n",
    "\n",
    "\n",
    "pegar_valores()\n"
   ]
  },
  {
   "cell_type": "markdown",
   "metadata": {},
   "source": []
  },
  {
   "cell_type": "markdown",
   "metadata": {},
   "source": []
  },
  {
   "cell_type": "markdown",
   "metadata": {},
   "source": []
  },
  {
   "cell_type": "markdown",
   "metadata": {},
   "source": []
  }
 ],
 "metadata": {
  "kernelspec": {
   "display_name": "Python 3",
   "language": "python",
   "name": "python3"
  },
  "language_info": {
   "codemirror_mode": {
    "name": "ipython",
    "version": 3
   },
   "file_extension": ".py",
   "mimetype": "text/x-python",
   "name": "python",
   "nbconvert_exporter": "python",
   "pygments_lexer": "ipython3",
   "version": "3.9.2"
  },
  "orig_nbformat": 4
 },
 "nbformat": 4,
 "nbformat_minor": 2
}
