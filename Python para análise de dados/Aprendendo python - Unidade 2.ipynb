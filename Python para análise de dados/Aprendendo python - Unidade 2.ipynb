{
 "cells": [
  {
   "attachments": {},
   "cell_type": "markdown",
   "metadata": {},
   "source": [
    "# Aprendendo python - Unidade 2"
   ]
  },
  {
   "attachments": {},
   "cell_type": "markdown",
   "metadata": {},
   "source": [
    "## Estruturas de dados"
   ]
  },
  {
   "attachments": {},
   "cell_type": "markdown",
   "metadata": {},
   "source": [
    "ESTRUTURAS DE DADOS EM PYTHON\n",
    "\n",
    "Em Python, existem objetos que são usados para armazenar mais de um valor, também chamados de estruturas de dados. Cada objeto é capaz de armazenar um tipo de estrutura de dados, particularidade essa que habilita funções diferentes para cada tipo. Portanto, a escolha da estrutura depende do problema a ser resolvido. Para nosso estudo, vamos dividir as estruturas de dados em objetos do tipo sequência, do tipo set, do tipo mapping e do tipo array NumPy. Cada grupo pode possuir mais de um objeto. Vamos estudar esses objetos na seguinte ordem:\n",
    "\n",
    "* Objetos do tipo sequência: texto, listas e tuplas.\n",
    "* Objetos do tipo set (conjunto).\n",
    "* Objetos do tipo mapping (dicionário).\n",
    "* Objetos do tipo array NumPy."
   ]
  },
  {
   "attachments": {},
   "cell_type": "markdown",
   "metadata": {},
   "source": [
    "SEQUÊNCIA DE CARACTERES\n",
    "\n",
    "Um texto é um objeto da classe str (strings), que é um tipo de sequência. Os objetos da classe str possuem todas as operações apresentadas no Quadro 2.1, mas são objetos imutáveis, razão pela qual não é possível atribuir um novo valor a uma posição específica. Vamos testar algumas operações. Observe o código a seguir."
   ]
  },
  {
   "cell_type": "code",
   "execution_count": 1,
   "metadata": {},
   "outputs": [
    {
     "name": "stdout",
     "output_type": "stream",
     "text": [
      "Tamanho do texto = 60\n",
      "Python in texto = True\n",
      "Quantidade de y no texto = 1\n",
      "As 5 primeiras letras são: Aprend\n"
     ]
    }
   ],
   "source": [
    "texto = \"Aprendendo Python na disciplina de linguagem de programação.\"\n",
    "\n",
    "print(f\"Tamanho do texto = {len(texto)}\")\n",
    "print(f\"Python in texto = {'Python' in texto}\")\n",
    "print(f\"Quantidade de y no texto = {texto.count('y')}\")\n",
    "print(f\"As 5 primeiras letras são: {texto[0:6]}\")"
   ]
  },
  {
   "cell_type": "code",
   "execution_count": 2,
   "metadata": {},
   "outputs": [
    {
     "name": "stdout",
     "output_type": "stream",
     "text": [
      "APRENDENDO PYTHON NA DISCIPLINA DE LINGUAGEM DE PROGRAMAÇÃO.\n",
      "Aprendendo Python na dXXscXXplXXna de lXXnguagem de programação.\n"
     ]
    }
   ],
   "source": [
    "print(texto.upper())\n",
    "print(texto.replace(\"i\", 'XX'))"
   ]
  },
  {
   "cell_type": "code",
   "execution_count": 3,
   "metadata": {},
   "outputs": [
    {
     "name": "stdout",
     "output_type": "stream",
     "text": [
      "texto = Aprendendo Python na disciplina de linguagem de programação.\n",
      "Tamanho do texto = 60\n",
      "\n",
      "palavras = ['Aprendendo', 'Python', 'na', 'disciplina', 'de', 'linguagem', 'de', 'programação.']\n",
      "Tamanho de palavras = 8\n"
     ]
    }
   ],
   "source": [
    "print(f\"texto = {texto}\")\n",
    "print(f\"Tamanho do texto = {len(texto)}\\n\")\n",
    "\n",
    "palavras = texto.split()\n",
    "print(f\"palavras = {palavras}\")\n",
    "print(f\"Tamanho de palavras = {len(palavras)}\")"
   ]
  },
  {
   "cell_type": "code",
   "execution_count": 4,
   "metadata": {},
   "outputs": [
    {
     "name": "stdout",
     "output_type": "stream",
     "text": [
      "Tamanho do texto = 348\n",
      "Tamanho da lista de palavras = 58\n",
      "Quantidade de vezes que string ou strings aparecem = 4\n"
     ]
    }
   ],
   "source": [
    "texto = \"\"\"Operadores de String\n",
    "Python oferece operadores para processar texto (ou seja, valores de string).\n",
    "Assim como os números, as strings podem ser comparadas usando operadores de comparação:\n",
    "==, !=, <, > e assim por diante.\n",
    "O operador ==, por exemplo, retorna True se as strings nos dois lados do operador tiverem o mesmo valor (Perkovic, p. 23, 2016).\n",
    "\"\"\"\n",
    "print(f\"Tamanho do texto = {len(texto)}\")\n",
    "texto = texto.lower()\n",
    "texto = texto.replace(\",\", \"\").replace(\".\", \"\").replace(\"(\", \"\").replace(\")\", \"\").replace(\"\\n\", \" \")\n",
    "lista_palavras = texto.split()\n",
    "print(f\"Tamanho da lista de palavras = {len(lista_palavras)}\")\n",
    "\n",
    "total = lista_palavras.count(\"string\") + lista_palavras.count(\"strings\")\n",
    "\n",
    "print(f\"Quantidade de vezes que string ou strings aparecem = {total}\")"
   ]
  },
  {
   "attachments": {},
   "cell_type": "markdown",
   "metadata": {},
   "source": [
    "LISTAS\n",
    "\n",
    "Lista é uma estrutura de dados do tipo sequencial que possui como principal característica ser mutável. Ou seja, novos valores podem ser adicionados ou removidos da sequência. Em Python, as listas podem ser construídas de várias maneiras:\n",
    "\n",
    "* Usando um par de colchetes para denotar uma lista vazia: lista1 = []\n",
    "* Usando um par de colchetes e elementos separados por vírgulas: lista2 = ['a', 'b', 'c']\n",
    "* Usando uma \"list comprehension\": [x for x in iterable]\n",
    "* Usando o construtor de tipo: list()"
   ]
  },
  {
   "cell_type": "code",
   "execution_count": 5,
   "metadata": {},
   "outputs": [
    {
     "name": "stdout",
     "output_type": "stream",
     "text": [
      "Posição = 0, valor = a\n",
      "Posição = 1, valor = e\n",
      "Posição = 2, valor = i\n",
      "Posição = 3, valor = o\n",
      "Posição = 4, valor = u\n"
     ]
    }
   ],
   "source": [
    "vogais = ['a', 'e', 'i', 'o', 'u'] # também poderia ter sido criada usando aspas duplas\n",
    "\n",
    "for vogal in vogais:\n",
    "    print (f'Posição = {vogais.index(vogal)}, valor = {vogal}')"
   ]
  },
  {
   "cell_type": "code",
   "execution_count": 6,
   "metadata": {},
   "outputs": [
    {
     "name": "stdout",
     "output_type": "stream",
     "text": [
      "Tipo do objeto vogais = <class 'list'>\n",
      "Posição = 0, valor = a\n",
      "Posição = 1, valor = e\n",
      "Posição = 2, valor = i\n",
      "Posição = 3, valor = o\n",
      "Posição = 4, valor = u\n"
     ]
    }
   ],
   "source": [
    "# Mesmo resultado.\n",
    "\n",
    "vogais = []\n",
    "print(f\"Tipo do objeto vogais = {type(vogais)}\")\n",
    "\n",
    "vogais.append('a')\n",
    "vogais.append('e')\n",
    "vogais.append('i')\n",
    "vogais.append('o')\n",
    "vogais.append('u')\n",
    "\n",
    "for p, x in enumerate(vogais):\n",
    "    print(f\"Posição = {p}, valor = {x}\")"
   ]
  },
  {
   "cell_type": "code",
   "execution_count": 7,
   "metadata": {},
   "outputs": [
    {
     "name": "stdout",
     "output_type": "stream",
     "text": [
      "Tamanho da lista = 6\n",
      "Posição = 0,\t valor = Python -----------------> tipo individual = <class 'str'>\n",
      "Posição = 1,\t valor = 30.61 -----------------> tipo individual = <class 'float'>\n",
      "Posição = 2,\t valor = Java -----------------> tipo individual = <class 'str'>\n",
      "Posição = 3,\t valor = 51 -----------------> tipo individual = <class 'int'>\n",
      "Posição = 4,\t valor = ['a', 'b', 20] -----------------> tipo individual = <class 'list'>\n",
      "Posição = 5,\t valor = maça -----------------> tipo individual = <class 'str'>\n",
      "\n",
      "Exemplos de slices:\n",
      "\n",
      "lista[1] =  30.61\n",
      "lista[0:2] =  ['Python', 30.61]\n",
      "lista[:2] =  ['Python', 30.61]\n",
      "lista[3:5] =  [51, ['a', 'b', 20]]\n",
      "lista[3:6] =  [51, ['a', 'b', 20], 'maça']\n",
      "lista[3:] =  [51, ['a', 'b', 20], 'maça']\n",
      "lista[-2] =  ['a', 'b', 20]\n",
      "lista[-1] =  maça\n",
      "lista[4][1] =  b\n"
     ]
    }
   ],
   "source": [
    "lista = ['Python', 30.61, \"Java\", 51 , ['a', 'b', 20], \"maça\"]\n",
    "\n",
    "print(f\"Tamanho da lista = {len(lista)}\")\n",
    "\n",
    "for i, item in enumerate(lista):\n",
    "    print(f\"Posição = {i},\\t valor = {item} -----------------> tipo individual = {type(item)}\")\n",
    "\n",
    "print(\"\\nExemplos de slices:\\n\")\n",
    "\n",
    "print(\"lista[1] = \", lista[1])\n",
    "print(\"lista[0:2] = \", lista[0:2])\n",
    "print(\"lista[:2] = \", lista[:2])\n",
    "print(\"lista[3:5] = \", lista[3:5])\n",
    "print(\"lista[3:6] = \", lista[3:6])\n",
    "print(\"lista[3:] = \", lista[3:])\n",
    "print(\"lista[-2] = \", lista[-2])\n",
    "print(\"lista[-1] = \", lista[-1])\n",
    "print(\"lista[4][1] = \", lista[4][1])"
   ]
  },
  {
   "attachments": {},
   "cell_type": "markdown",
   "metadata": {},
   "source": [
    "LIST COMPREHENSION (COMPREENSÕES DE LISTA)\n",
    "\n",
    "A list comprehension, também chamada de listcomp, é uma forma pythônica de criar uma lista com base em um objeto iterável. Esse tipo de técnica é utilizada quando, dada uma sequência, deseja-se criar uma nova sequência, porém com as informações originais transformadas ou filtradas por um critério. Para entender essa técnica, vamos supor que tenhamos uma lista de palavras e desejamos padronizá-las para minúsculo. Observe o código a seguir."
   ]
  },
  {
   "cell_type": "code",
   "execution_count": 8,
   "metadata": {},
   "outputs": [
    {
     "name": "stdout",
     "output_type": "stream",
     "text": [
      "Antes da listcomp =  ['Python', 'Java', 'JavaScript', 'C', 'C#', 'C++', 'Swift', 'Go', 'Kotlin']\n",
      "\n",
      "Depois da listcomp =  ['python', 'java', 'javascript', 'c', 'c#', 'c++', 'swift', 'go', 'kotlin']\n"
     ]
    }
   ],
   "source": [
    "linguagens = [\"Python\", \"Java\", \"JavaScript\", \"C\", \"C#\", \"C++\", \"Swift\", \"Go\", \"Kotlin\"]\n",
    "#linguagens = '''Python Java JavaScript C C# C++ Swift Go Kotlin'''.split() # Essa sintaxe produz o mesmo resultado que a linha 1\n",
    "\n",
    "print(\"Antes da listcomp = \", linguagens)\n",
    "\n",
    "linguagens = [item.lower() for item in linguagens]\n",
    "\n",
    "print(\"\\nDepois da listcomp = \", linguagens)"
   ]
  },
  {
   "attachments": {},
   "cell_type": "markdown",
   "metadata": {},
   "source": [
    "FUNÇÕES MAP() E FILTER()\n",
    "\n",
    "Não poderíamos falar de listas sem mencionar duas funções built-in que são usadas por esse tipo de estrutura de dados: map() e filter(). A função map() é utilizada para aplicar uma determinada função em cada item de um objeto iterável. Para que essa transformação seja feita, a função map() exige que sejam passados dois parâmetros: a função e o objeto iterável. "
   ]
  },
  {
   "cell_type": "code",
   "execution_count": 9,
   "metadata": {},
   "outputs": [
    {
     "name": "stdout",
     "output_type": "stream",
     "text": [
      "Exemplo 1\n",
      "A nova lista é = <map object at 0x000001CF73C0DF10>\n",
      "\n",
      "Agora sim, a nova lista é = ['python', 'java', 'javascript', 'c', 'c#', 'c++', 'swift', 'go', 'kotlin']\n",
      "\n",
      "\n",
      "Exemplo 2\n",
      "Lista com o número elevado a ele mesmo = [0, 1, 4, 9, 16, 25]\n",
      "\n"
     ]
    }
   ],
   "source": [
    "# Exemplo 1\n",
    "print(\"Exemplo 1\")\n",
    "linguagens = '''Python Java JavaScript C C# C++ Swift Go Kotlin'''.split()\n",
    "\n",
    "nova_lista = map(lambda x: x.lower(), linguagens)\n",
    "print(f\"A nova lista é = {nova_lista}\\n\")\n",
    "\n",
    "nova_lista = list(nova_lista)\n",
    "print(f\"Agora sim, a nova lista é = {nova_lista}\")\n",
    "\n",
    "\n",
    "# Exemplo 2\n",
    "print(\"\\n\\nExemplo 2\")\n",
    "numeros = [0, 1, 2, 3, 4, 5]\n",
    "\n",
    "quadrados = list(map(lambda x: x*x, numeros))\n",
    "print(f\"Lista com o número elevado a ele mesmo = {quadrados}\\n\")"
   ]
  },
  {
   "attachments": {},
   "cell_type": "markdown",
   "metadata": {},
   "source": [
    "TUPLAS\n",
    "\n",
    "As tuplas também são estruturas de dados do grupo de objetos do tipo sequência. A grande diferença entre listas e tuplas é que as primeiras são mutáveis, razão pela qual, com elas, conseguimos fazer atribuições a posições específicas: por exemplo, lista[2] = 'maça'. Por sua vez, nas tuplas isso não é possível, uma vez que são objetos imutáveis.\n",
    "\n",
    "Em Python, as tuplas podem ser construídas de três maneiras:\n",
    "\n",
    "* Usando um par de parênteses para denotar uma tupla vazia: tupla1 = ()\n",
    "* Usando um par de parênteses e elementos separados por vírgulas: tupla2 = ('a', 'b', 'c')\n",
    "* Usando o construtor de tipo: tuple()"
   ]
  },
  {
   "cell_type": "code",
   "execution_count": 10,
   "metadata": {},
   "outputs": [
    {
     "name": "stdout",
     "output_type": "stream",
     "text": [
      "Tipo do objeto vogais = <class 'tuple'>\n",
      "Posição = 0, valor = a\n",
      "Posição = 1, valor = e\n",
      "Posição = 2, valor = i\n",
      "Posição = 3, valor = o\n",
      "Posição = 4, valor = u\n"
     ]
    }
   ],
   "source": [
    "vogais = ('a', 'e', 'i', 'o', 'u')\n",
    "print(f\"Tipo do objeto vogais = {type(vogais)}\")\n",
    "\n",
    "for p, x in enumerate(vogais):\n",
    "    print(f\"Posição = {p}, valor = {x}\")"
   ]
  },
  {
   "attachments": {},
   "cell_type": "markdown",
   "metadata": {},
   "source": [
    "OBJETOS DO TIPO SET\n",
    "\n",
    "A tradução\"conjunto\" para set  nos leva diretamente à essência desse tipo de estrutura de dados em Python. Um objeto do tipo set habilita operações matemáticas de conjuntos, tais como: união, intersecção, diferenteça, etc. Esse tipo de estrutura pode ser usado, portanto, em testes de associação e remoção de valores duplicados de uma sequência (PSF, 2020c).\n",
    "\n",
    "Das operações que já conhecemos sobre sequências, conseguimos usar nessa nova estrutura:\n",
    "\n",
    "* len(s)\n",
    "* x in s\n",
    "* x not in s"
   ]
  },
  {
   "cell_type": "code",
   "execution_count": 11,
   "metadata": {},
   "outputs": [
    {
     "name": "stdout",
     "output_type": "stream",
     "text": [
      "<class 'set'> {'aeiou'}\n",
      "<class 'set'> {'e', 'u', 'i', 'a', 'o'}\n",
      "<class 'set'> {'e', 'u', 'i', 'a', 'o'}\n",
      "<class 'set'> {'e', 'u', 'i', 'a', 'o'}\n",
      "{'n', 'a', 'b'}\n"
     ]
    }
   ],
   "source": [
    "vogais_1 = {'aeiou'} # sem uso do construtor\n",
    "print(type(vogais_1), vogais_1)\n",
    "\n",
    "vogais_2 = set('aeiouaaaaaa') # construtor com string\n",
    "print(type(vogais_2), vogais_2)\n",
    "\n",
    "vogais_3 = set(['a', 'e', 'i', 'o', 'u']) # construtor com lista\n",
    "print(type(vogais_3), vogais_3)\n",
    "\n",
    "vogais_4 = set(('a', 'e', 'i', 'o', 'u')) # construtor com tupla\n",
    "print(type(vogais_4), vogais_4)\n",
    "\n",
    "print(set('banana'))"
   ]
  },
  {
   "cell_type": "code",
   "execution_count": 12,
   "metadata": {},
   "outputs": [
    {
     "name": "stdout",
     "output_type": "stream",
     "text": [
      "Foram verificados 23 componentes.\n",
      "\n",
      "4 componentes apresentaram defeito.\n",
      "\n",
      "Os componentes que podem ser vendidos são:\n",
      "cpu\n",
      "placa mãe\n",
      "joystick\n",
      "caixas de som\n",
      "teclado\n",
      "hub\n",
      "modem\n",
      "estabilizador\n",
      "placa de captura\n",
      "placa de vídeo\n",
      "gabinete\n",
      "memória ram\n",
      "impressora\n",
      "dissipador de calor\n",
      "mouse\n",
      "microfone\n",
      "cooler\n",
      "webcam\n",
      "no-break\n"
     ]
    }
   ],
   "source": [
    "def create_report():\n",
    "    componentes_verificados = set(['caixas de som', 'cooler', 'dissipador de calor', 'cpu', 'hd', 'estabilizador', 'gabinete', 'hub', 'impressora', 'joystick', 'memória ram', 'microfone', 'modem', 'monitor', 'mouse', 'no-break', 'placa de captura', 'placa de som', 'placa de vídeo', 'placa mãe', 'scanner', 'teclado', 'webcam'])\n",
    "    componentes_com_defeito = set(['hd', 'monitor', 'placa de som', 'scanner'])\n",
    "    \n",
    "    qtde_componentes_verificados = len(componentes_verificados)\n",
    "    qtde_componentes_com_defeito = len(componentes_com_defeito)\n",
    "    \n",
    "    componentes_ok = componentes_verificados.difference(componentes_com_defeito)\n",
    "    \n",
    "    print(f\"Foram verificados {qtde_componentes_verificados} componentes.\\n\")\n",
    "    print(f\"{qtde_componentes_com_defeito} componentes apresentaram defeito.\\n\")\n",
    "    \n",
    "    print(\"Os componentes que podem ser vendidos são:\")\n",
    "    for item in componentes_ok:\n",
    "        print(item)\n",
    "\n",
    "\n",
    "create_report()"
   ]
  },
  {
   "attachments": {},
   "cell_type": "markdown",
   "metadata": {},
   "source": [
    "OBJETOS DO TIPO MAPPING\n",
    "\n",
    "As estruturas de dados que possuem um mapeamento entre uma chave e um valor são consideradas objetos do tipo mapping. Em Python, o objeto que possui essa propriedade é o dict (dicionário). Uma vez que esse objeto é mutável,  conseguimos atribuir um novo valor a uma chave já existente.\n",
    "\n",
    "Podemos construir dicionários em Python das seguintes maneiras:\n",
    "\n",
    "* Usando um par de chaves para denotar um dict vazio: dicionario1 = {}\n",
    "* Usando um par de elementos na forma, chave : valor separados por vírgulas: dicionario2 = {'one': 1, 'two': 2, 'three': 3}\n",
    "* Usando o construtor de tipo: dict()"
   ]
  },
  {
   "cell_type": "code",
   "execution_count": 13,
   "metadata": {},
   "outputs": [
    {
     "name": "stdout",
     "output_type": "stream",
     "text": [
      "True\n"
     ]
    }
   ],
   "source": [
    "# Exemplo 1 - Criação de dicionário vazio, com atribuição posterior de chave e valor \n",
    "dici_1 = {}\n",
    "dici_1['nome'] = \"João\"\n",
    "dici_1['idade'] = 30\n",
    "\n",
    "# Exemplo 2 - Criação de dicionário usando um par elementos na forma, chave : valor\n",
    "dici_2 = {'nome': 'João', 'idade': 30}\n",
    "\n",
    "# Exemplo 3 - Criação de dicionário com uma lista de tuplas. Cada tupla representa um par chave : valor\n",
    "dici_3 = dict([('nome', \"João\"), ('idade', 30)])\n",
    "\n",
    "# Exemplo 4 - Criação de dicionário com a função built-in zip() e duas listas, uma com as chaves, outra com os valores.\n",
    "dici_4 = dict(zip(['nome', 'idade'], [\"João\", 30]))\n",
    "\n",
    "\n",
    "print(dici_1 == dici_2 == dici_3 == dici_4) # Testando se as diferentes construções resultamo em objetos iguais."
   ]
  },
  {
   "attachments": {},
   "cell_type": "markdown",
   "metadata": {},
   "source": [
    "OBJETOS DO TIPO ARRAY NUMPY\n",
    "\n",
    "Quando o assunto é estrutura de dados em Python, não podemos deixar de falar dos objetos array numpy. Primeiramente, todas os objetos e funções que usamos até o momento fazem parte do core do interpretador Python, o que quer dizer que tudo está já instalado e pronto para usar. Além desses inúmeros recursos já disponíveis, podemos fazer um certo tipo de instalação e usar objetos e funções que outras pessoas/organizações desenvolveram e disponibilizaram de forma gratuita. Esse é o caso da biblioteca NumPy, criada especificamente para a computação científica com Python. O NumPy contém, entre outras coisas:\n",
    "\n",
    "* Um poderoso objeto de matriz (array) N-dimensional.\n",
    "* Funções sofisticadas.\n",
    "* Ferramentas para integrar código C/C++ e Fortran.\n",
    "* Recursos úteis de álgebra linear, transformação de Fourier e números aleatórios."
   ]
  },
  {
   "cell_type": "code",
   "execution_count": 15,
   "metadata": {},
   "outputs": [
    {
     "name": "stdout",
     "output_type": "stream",
     "text": [
      "<class 'numpy.ndarray'>\n",
      "\n",
      " matriz_1_1 =  [1 2 3]\n",
      "\n",
      " matriz_2_2 = \n",
      " [[1 2]\n",
      " [3 4]]\n",
      "\n",
      " matriz_3_2 = \n",
      " [[1 2]\n",
      " [3 4]\n",
      " [5 6]]\n",
      "\n",
      " matriz_2_3 = \n",
      " [[1 2 3]\n",
      " [4 5 6]]\n"
     ]
    }
   ],
   "source": [
    "import numpy\n",
    "\n",
    "matriz_1_1 = numpy.array([1, 2, 3]) # Cria matriz 1 linha e 1 coluna\n",
    "matriz_2_2 = numpy.array([[1, 2], [3, 4]]) # Cria matriz 2 linhas e 2 colunas\n",
    "matriz_3_2 = numpy.array([[1, 2], [3, 4], [5, 6]]) # Cria matriz 3 linhas e 2 colunas\n",
    "matriz_2_3 = numpy.array([[1, 2, 3], [4, 5, 6]]) # Cria matriz 2 linhas e 3 colunas\n",
    "\n",
    "print(type(matriz_1_1))\n",
    "\n",
    "print('\\n matriz_1_1 = ', matriz_1_1)\n",
    "print('\\n matriz_2_2 = \\n', matriz_2_2)\n",
    "print('\\n matriz_3_2 = \\n', matriz_3_2)\n",
    "print('\\n matriz_2_3 = \\n', matriz_2_3)"
   ]
  },
  {
   "attachments": {},
   "cell_type": "markdown",
   "metadata": {},
   "source": [
    "### Desafio"
   ]
  },
  {
   "attachments": {},
   "cell_type": "markdown",
   "metadata": {},
   "source": [
    "Como desenvolvedor em uma empresa de consultoria, você foi alocado para atender um cliente que organiza processos seletivos (concurso público, vestibular, etc.). Essa empresa possui um sistema web no qual os candidatos de um certo processo seletivo fazem a inscrição e acompanham as informações. Um determinado concurso precisou ser adiado, razão pela qual um processo no servidor começou a enviar e-mails para todos os candidatos inscritos. Porém, em virtude da grande quantidade de acessos, o servidor e a API saíram do ar por alguns segundos, o que gerou um rompimento na criação do arquivo JSON com a lista dos candidatos já avisados da alteração.\n",
    "\n",
    "Por causa do rompimento do arquivo, foram gerados dois novos arquivos, razão pela qual, desde então, não se sabe nem quem nem quantas pessoas já receberam o aviso. Seu trabalho, neste caso, é criar uma função que, com base nas informações que lhe serão fornecidas, retorne uma lista com os e-mails que ainda precisam ser enviados.\n",
    "\n",
    "Para esse projeto, você e mais um desenvolvedor foram alocados. Enquanto seu colega trabalha na extração dos dados da API, você cria a lógica para gerar a função. Foi combinado, entre vocês, que o programa receberá dois dicionários referentes aos dois arquivos que foram gerados. O dicionário terá a seguinte estrutura: três chaves (nome, email, enviado), cada uma das quais recebe uma lista de informações; ou seja, as chaves nome e email estarão, respectivamente, associadas a uma lista de nomes e uma de emails. por sua vez, a chave enviado estará associada a uma lista de valores booleanos (True-False) que indicará se o e-mail já foi ou não enviado.\n",
    "Veja um exemplo."
   ]
  },
  {
   "attachments": {},
   "cell_type": "markdown",
   "metadata": {},
   "source": [
    "~~~python\n",
    "dict_1 = {\n",
    "  'nome': ['nome_1'],\n",
    "  'email': ['email_1'],\n",
    "  'enviado': [False]\n",
    "}\n",
    "~~~"
   ]
  },
  {
   "attachments": {},
   "cell_type": "markdown",
   "metadata": {},
   "source": [
    "Você foi alocado para um projeto no qual precisa implementar uma função que, com base em dois dicionários, retorne uma lista com os e-mails que precisam ser enviados aos condidatos de um concurso. Os dicionários serão fornecidos para você no formato combinado previamente. Ao mesmo tempo em que seu colega trabalha na extração dos dados da API, foi-lhe passado uma amostra dos dados para que você comece a trabalhar na lógica da função. Os dados passados foram:"
   ]
  },
  {
   "cell_type": "code",
   "execution_count": 17,
   "metadata": {},
   "outputs": [],
   "source": [
    "dados_1 = {\n",
    "  'nome': ['Sonia Weber', 'Daryl Lowe', 'Vernon Carroll', 'Basil Gilliam', 'Mechelle Cobb', 'Edan Booker', 'Igor Wyatt', 'Ethan Franklin', 'Reed Williamson', 'Price Singleton'],\n",
    "  'email': ['Lorem.ipsum@cursusvestibulumMauris.com', 'auctor@magnis.org', 'at@magnaUttincidunt.org', 'mauris.sagittis@sem.com', 'nec.euismod.in@mattis.co.uk', 'egestas@massaMaurisvestibulum.edu', 'semper.auctor.Mauris@Crasdolordolor.edu', 'risus.Quisque@condimentum.com', 'Donec@nislMaecenasmalesuada.net', 'Aenean.gravida@atrisus.edu'],\n",
    "  'enviado': [False, False, False, False, False, False, False, True, False, False]\n",
    "}\n",
    "\n",
    "dados_2 = {\n",
    "  'nome': ['Travis Shepherd', 'Hoyt Glass', 'Jennifer Aguirre', 'Cassady Ayers', 'Colin Myers', 'Herrod Curtis', 'Cecilia Park', 'Hop Byrd', 'Beatrice Silva', 'Alden Morales'],\n",
    "  'email': ['at@sed.org', 'ac.arcu.Nunc@auctor.edu', 'nunc.Quisque.ornare@nibhAliquam.co.uk', 'non.arcu@mauriseu.com', 'fringilla.cursus.purus@erategetipsum.ca', 'Fusce.fermentum@tellus.co.uk', 'dolor.tempus.non@ipsum.net', 'blandit.congue.In@libero.com', 'nec.tempus.mauris@Suspendisse.com', 'felis@urnaconvalliserat.org'],\n",
    "  'enviado': [False, False, False, True, True, True, False, True, True, False]\n",
    "}"
   ]
  },
  {
   "attachments": {},
   "cell_type": "markdown",
   "metadata": {},
   "source": [
    "Mãos ão codigo|"
   ]
  },
  {
   "cell_type": "code",
   "execution_count": 37,
   "metadata": {},
   "outputs": [
    {
     "name": "stdout",
     "output_type": "stream",
     "text": [
      "Amostra da lista 1 = ('Sonia Weber', 'Lorem.ipsum@cursusvestibulumMauris.com', False)\n",
      "\n",
      "Amostra dos dados = \n",
      "[('Sonia Weber', 'Lorem.ipsum@cursusvestibulumMauris.com', False), ('Daryl Lowe', 'auctor@magnis.org', False)]\n",
      "\n",
      "\n",
      "E-mails a serem enviados = \n",
      " ['Lorem.ipsum@cursusvestibulumMauris.com', 'auctor@magnis.org', 'at@magnaUttincidunt.org', 'mauris.sagittis@sem.com', 'nec.euismod.in@mattis.co.uk', 'egestas@massaMaurisvestibulum.edu', 'semper.auctor.Mauris@Crasdolordolor.edu', 'Donec@nislMaecenasmalesuada.net', 'Aenean.gravida@atrisus.edu', 'at@sed.org', 'ac.arcu.Nunc@auctor.edu', 'nunc.Quisque.ornare@nibhAliquam.co.uk', 'dolor.tempus.non@ipsum.net', 'felis@urnaconvalliserat.org']\n"
     ]
    }
   ],
   "source": [
    "def extrair_lista_email(dict_1, dict_2):\n",
    "    lista_1 = list(zip(dict_1['nome'], dict_1['email'], dict_1['enviado']))\n",
    "    print(f\"Amostra da lista 1 = {lista_1[0]}\")\n",
    "\n",
    "    lista_2 = list(zip(dict_2['nome'], dict_2['email'], dict_2['enviado']))\n",
    "\n",
    "    dados = lista_1 + lista_2\n",
    "\n",
    "    print(f\"\\nAmostra dos dados = \\n{dados[:2]}\\n\\n\")\n",
    "    \n",
    "    # Queremos uma lista com o email de quem ainda não recebeu o aviso\n",
    "    emails = [item[1] for item in dados if not item[2]]\n",
    "    \n",
    "    return emails\n",
    "\n",
    "emails = extrair_lista_email(dict_1=dados_1, dict_2=dados_2)\n",
    "print(f\"E-mails a serem enviados = \\n {emails}\")"
   ]
  },
  {
   "attachments": {},
   "cell_type": "markdown",
   "metadata": {},
   "source": [
    "## Algoritimos de busca"
   ]
  },
  {
   "attachments": {},
   "cell_type": "markdown",
   "metadata": {},
   "source": [
    "### Analisando os comandos dos mecanicos de buscas"
   ]
  },
  {
   "attachments": {},
   "cell_type": "markdown",
   "metadata": {},
   "source": [
    "BUSCA LINEAR (OU BUSCA SEQUENCIAL)\n",
    "\n",
    "Como o nome sugere, uma busca linear (ou exaustiva) simplesmente percorre os elementos da sequência procurando aquele de destino"
   ]
  },
  {
   "cell_type": "code",
   "execution_count": 38,
   "metadata": {},
   "outputs": [
    {
     "name": "stdout",
     "output_type": "stream",
     "text": [
      "[11, 22, 74, 103, 104, 108, 118, 137, 195, 208, 231, 245, 274, 285, 308, 314, 327, 330, 336, 363, 387, 404, 412, 448, 477, 490, 507, 536, 537, 540, 551, 562, 684, 716, 730, 766, 784, 814, 840, 868, 870, 871, 872, 892, 905, 910, 932, 938, 968, 977]\n"
     ]
    },
    {
     "data": {
      "text/plain": [
       "False"
      ]
     },
     "execution_count": 38,
     "metadata": {},
     "output_type": "execute_result"
    }
   ],
   "source": [
    "import random\n",
    "\n",
    "def busca_linear(lista, valor):\n",
    "    for x in lista:\n",
    "        if x == valor:\n",
    "            return True\n",
    "    return False\n",
    "\n",
    "lista = random.sample(range(1000), 50)\n",
    "print(sorted(lista))\n",
    "busca_linear(lista, 50)"
   ]
  },
  {
   "cell_type": "code",
   "execution_count": 39,
   "metadata": {},
   "outputs": [
    {
     "name": "stdout",
     "output_type": "stream",
     "text": [
      "valor encontrado na posicao 0\n"
     ]
    }
   ],
   "source": [
    "def procura_valor(lista, valor):\n",
    "    tamanho_lista = len(lista)\n",
    "    for i in range(tamanho_lista):\n",
    "        if valor == lista[i]:\n",
    "            return i\n",
    "    return None\n",
    "\n",
    "resultado = procura_valor(lista=vogais, valor='a')\n",
    "\n",
    "if resultado != None:\n",
    "    print(f\"valor encontrado na posicao {resultado}\")\n",
    "else:\n",
    "    print(\"valor nao encontrado\")"
   ]
  },
  {
   "attachments": {},
   "cell_type": "markdown",
   "metadata": {},
   "source": [
    "BUSCA BINARIA"
   ]
  },
  {
   "attachments": {},
   "cell_type": "markdown",
   "metadata": {},
   "source": [
    "Outro algoritmo usado para buscar um valor em uma sequência é o de busca binária. A primeira grande diferença entre o algoritmo de busca linear e o algoritmo de busca binária é que, com este último, os valores precisam estar ordenados. A lógica é a seguinte:\n",
    "\n",
    "* Encontra o item no meio da sequência (meio da lista).\n",
    "* Se o valor procurado for igual ao item do meio, a busca se encerra.\n",
    "* Se não for, verifica-se se o valor buscado é maior ou menor que o valor central.\n",
    "* Se for maior, então a busca acontecerá na metade superior da sequência (a inferior é descartada); se não for, a busca acontecerá na metada inferior da sequência (a superior é descartada)."
   ]
  },
  {
   "cell_type": "code",
   "execution_count": 4,
   "metadata": {},
   "outputs": [
    {
     "name": "stdout",
     "output_type": "stream",
     "text": [
      "[1, 2, 3, 4, 5, 6, 7, 8, 9, 10, 11, 12, 13, 14, 15, 16, 17, 18, 19, 20, 21, 22, 23, 24, 25, 26, 27, 28, 29, 30, 31, 32, 33, 34, 35, 36, 37, 38, 39, 40, 41, 42, 43, 44, 45, 46, 47, 48, 49, 50]\n",
      "\n",
      " True\n",
      "\n",
      " False\n"
     ]
    }
   ],
   "source": [
    "def busca_binaria(lista, valor):\n",
    "    minimo = 0\n",
    "    maximo = len(lista)-1\n",
    "    while minimo <= maximo:\n",
    "        #encontra o elemento que divide a lista no meio\n",
    "        meio = (minimo + maximo) // 2\n",
    "        #verifica se o valor procurado está a esquerda ou direita do valor central\n",
    "        if valor < lista[meio]:\n",
    "            maximo = meio + 1\n",
    "        elif valor > lista[meio]:\n",
    "            minimo = meio + 1\n",
    "        else:\n",
    "            return True #valor foi encontrado aqui\n",
    "    return False # significa que o valor nao foi encontrado\n",
    "\n",
    "lista = list(range(1, 51))\n",
    "print(lista)\n",
    "\n",
    "print('\\n',busca_binaria(lista=lista, valor=10))\n",
    "print('\\n',busca_binaria(lista=lista, valor=200))"
   ]
  },
  {
   "attachments": {},
   "cell_type": "markdown",
   "metadata": {},
   "source": [
    "### Desafio"
   ]
  },
  {
   "attachments": {},
   "cell_type": "markdown",
   "metadata": {},
   "source": [
    "Como desenvolvedor em uma empresa de consultoria, você foi alocado para atender um cliente que precisa fazer a ingestão de dados de uma nova fonte e tratá-los. Alocado em uma equipe ágil, você se responsabilizou por implementar uma solução que recebe uma lista de CPFs e a retorna com a transformação de dedup. Além de fazer o dedup, também foi solicitado a você retornar somente a parte numérica do CPF e verificar se eles possuem 11 dígitos. Se não não possuírem, o CPF deve ser eliminado da lista."
   ]
  },
  {
   "cell_type": "code",
   "execution_count": 6,
   "metadata": {},
   "outputs": [
    {
     "name": "stdout",
     "output_type": "stream",
     "text": [
      "None\n"
     ]
    }
   ],
   "source": [
    "#algoritimo de busca_linear\n",
    "def busca_linear(lista, valor):\n",
    "    tamanho_lista = len(lista)\n",
    "    for i in range(tamanho_lista):\n",
    "        if valor == lista[i]:\n",
    "            return True\n",
    "    return False\n",
    "\n",
    "#função que fará o dedup e os tratamentos no cpf\n",
    "def criar_lista_dedup(lista):\n",
    "    lista_dedup = []\n",
    "    for cpf in lista:\n",
    "        cpf = str(cpf)\n",
    "        cpf = cpf.replace(\"-\", \"\").replace(\".\", \"\")\n",
    "        if len(cpf) == 11:\n",
    "            if not busca_linear(lista_dedup, cpf):\n",
    "                lista_dedup.append(cpf)\n",
    "\n",
    "def testa_funcao(lista_cpfs):\n",
    "    lista_dedup = criar_lista_dedup(lista_cpfs)\n",
    "    print(lista_dedup)\n",
    "\n",
    "lista_cpfs = ['111.111.111-11', '11111111111', '222.222.222-22', '333.333.333-33', '22222222222', '444.44444']\n",
    "testa_funcao(lista_cpfs)"
   ]
  },
  {
   "attachments": {},
   "cell_type": "markdown",
   "metadata": {},
   "source": [
    "## Algoritimos de ordenação"
   ]
  },
  {
   "attachments": {},
   "cell_type": "markdown",
   "metadata": {},
   "source": [
    "APLICAÇÕES DOS ALGORITMOS DE BUSCA\n",
    "\n",
    "São inúmeras as aplicações que envolvem a necessidade de dados ordenados. Podemos começar mecionando o algoritmo de busca binária, que exige que os dados estejam ordenados. No dia a dia, podemos mencionar a própria lista de chamadas, que possui dados ordenados que facilitam a localização dos nomes. Levando em consideração o hype da área de dados, podemos enfatizar a importância de algoritmos de ordenação, visto que alguns algoritmos de aprendizado de máquina exigem que os dados estejam ordenados para que possam fazer a previsão de um resultado, como a regressão linear.\n",
    "\n",
    "Em Python, existem duas formas já programadas que nos permitem ordenar uma sequência: a função built-in sorted() e o método sort(), presente nos objetos da classe list. Observe o código a seguir."
   ]
  },
  {
   "cell_type": "code",
   "execution_count": 7,
   "metadata": {},
   "outputs": [
    {
     "name": "stdout",
     "output_type": "stream",
     "text": [
      "lista =  [-3, 1, 4, 10, 15] \n",
      "\n",
      "lista_ordenada1 =  [-3, 1, 4, 10, 15]\n",
      "lista_ordenada2 =  None\n",
      "lista =  [-3, 1, 4, 10, 15]\n"
     ]
    }
   ],
   "source": [
    "lista = [10, 4, 1, 15, -3]\n",
    "\n",
    "lista_ordenada1 = sorted(lista)\n",
    "lista_ordenada2 = lista.sort()\n",
    "\n",
    "print('lista = ', lista, '\\n')\n",
    "print('lista_ordenada1 = ', lista_ordenada1)\n",
    "print('lista_ordenada2 = ', lista_ordenada2)\n",
    "print('lista = ', lista)"
   ]
  },
  {
   "attachments": {},
   "cell_type": "markdown",
   "metadata": {},
   "source": [
    "como \"programadores usuários\", temos essas duas opções para ordenar uma lista em Python, certo? E como profissionais de tecnologia que entendem o algoritmo que está por trás de uma função? Para alcançarmos esse mérito, vamos então conhecer cinco algoritmos de ordenação.\n",
    "A essência dos algoritmos de ordenação consiste em comparar dois valores, verificar qual é menor e colocar na posição correta. O que vai mudar, neste caso, é como e quando a comparação é feita. Para que possamos começar a entender a essência dos algoritmos de ordenação, observemos o código a seguir."
   ]
  },
  {
   "cell_type": "code",
   "execution_count": 1,
   "metadata": {},
   "outputs": [
    {
     "name": "stdout",
     "output_type": "stream",
     "text": [
      "[4, 7, 5]\n"
     ]
    }
   ],
   "source": [
    "lista = [7, 4]\n",
    "\n",
    "if lista[0] > lista[1]:\n",
    "    aux = lista[1]\n",
    "    lista[1] = lista[0]\n",
    "    lista[0] = aux\n",
    "\n",
    "print(lista)"
   ]
  },
  {
   "attachments": {},
   "cell_type": "markdown",
   "metadata": {},
   "source": [
    "SELECTION SORT (ORDENAÇÃO POR SELEÇÃO)\n",
    "\n",
    "O algoritmo selection sort recebe esse nome, porque faz a ordenação sempre escolhendo o menor valor para ocupar uma determinada posição. Para entendermos como funciona o algoritmo, suponha que exista uma fila de pessoas, mas que, por algum motivo, elas precisem ser colocadas por ordem de tamanho, do menor para o maior. Essa ordenação será feita por um supervisor. Segundo o algoritmo selection sort, esse supervisor olhará para cada uma das pessoas na fila e procurará a menor delas. Quando encontrá-la, essa pessoa trocará de posição com a primeira. Veja que, agora, a primeira pessoa da fila está na posição correta, pois é a menor. Em seguida, o supervisor precisa olhar para as demais e escolher a segunda menor pessoa; quando encontrá-la, a pessoa troca de lugar com a segunda. Agora as duas primeiras pessoas da fila estão ordenadas. Esse mecanismo é feito até que todos estejam em suas devidas posições. Portanto, a lógica do algoritmo é a seguinte:\n",
    "\n",
    "* Iteração 1: percorre toda a lista, procurando o menor valor para ocupar a posição 0.\n",
    "* Iteração 2: a partir da posição 1, percorre toda a lista, procurando o menor valor para ocupar a posição 1.\n",
    "* Iteração 3: a partir da posição 2, percorre toda a lista, procurando o menor valor para ocupar a posição 2.\n",
    "* Esse processo é repetido N-1 vezes, sendo N o tamanho da lista."
   ]
  },
  {
   "cell_type": "code",
   "execution_count": 2,
   "metadata": {},
   "outputs": [
    {
     "data": {
      "text/plain": [
       "[-1, 3, 5, 8, 9, 10, 11]"
      ]
     },
     "execution_count": 2,
     "metadata": {},
     "output_type": "execute_result"
    }
   ],
   "source": [
    "def selection_sort(lista):\n",
    "    n = len(lista)\n",
    "\n",
    "    for i in range(0, n):\n",
    "        index_menor = i\n",
    "        for j in range(i+1, n):\n",
    "            if lista[j] < lista[index_menor]:\n",
    "                index_menor = j\n",
    "        lista[i], lista[index_menor] = lista[index_menor], lista[i]\n",
    "    return lista\n",
    "lista = [10, 9, 5, 8, 11, -1, 3]\n",
    "selection_sort(lista)\n"
   ]
  },
  {
   "attachments": {},
   "cell_type": "markdown",
   "metadata": {},
   "source": [
    "No código da entrada 4, temos uma variável que guarda o tamanho da lista (n). Precisamos de duas estruturas de controle para iterar, tanto para ir atualizando a posição de inserção quanto para achar o menor valor da lista. Usamos a variável i para controlar a posição de inserção e a variável j para iterar sobre os valores da lista, procurando o menor valor. A busca pelo menor valor é feita com o auxílio de uma variável com a qual, quando o menor valor for encontrado, a variável index_menor guardará a posição para a troca dos valores. Quando o valor na posição i já for o menor, então index_menor não se atualiza pelo j. Na linha 9, usamos a atribuição múltipla para fazer a troca dos valores, quando necessário.\n",
    "\n",
    "Para ajudar na compreensão, veja essa versão do selection sort, na qual criamos uma lista vazia e, dentro de uma estrutura de repetição, usamos a função built-in min() para, a cada iteração, encontrar o menor valor da sequência e adicioná-lo na lista_ordenada. Veja que, a cada iteração, o valor adicionado à nova lista é removido da lista original."
   ]
  },
  {
   "attachments": {},
   "cell_type": "markdown",
   "metadata": {},
   "source": [
    "BUBBLE SORT (ORDENAÇÃO POR \"BOLHA\")\n",
    "\n",
    "O algoritmo bubble sort (algoritmo da bolha) recebe esse nome porque faz a ordenação sempre a partir do ínicio da lista, comparando um valor com seu vizinho. Para entendermos como funciona o algoritmo, suponha que exista uma fila de pessoas, mas que, por algum motivo, elas precisem ser colocadas por ordem de tamanho, do menor para o maior. Segundo o algoritmo bubble sort, a primeira pessoa da fila (pessoa A), perguntará para o segundo a altura – se o segundo for menor, então eles trocam de lugar. Novamente, a pessoa A perguntará para seu próximo vizinho qual é a altura deste – se esta for menor, eles trocam. Esse processo é repetido até que a pessoa A encontre alguém que é maior, contexto no qual essa nova pessoa vai percorrer a fila até o final fazendo a mesma pergunta. Esse processo é repetido até que todas as pessoas estejam na posição correta. A lógica do algoritmo é a seguinte:\n",
    "\n",
    "* Iteração 1: seleciona o valor na posição 0 e o compara com seu vizinho – se for menor, há troca; se não for, seleciona o próximo e compara, repentindo o processo.\n",
    "* Iteração 2: seleciona o valor na posição 0 e compara ele com seu vizinho, se for menor troca, senão seleciona o próximo e compara, repentindo o processo.\n",
    "* Iteração N - 1: seleciona o valor na posição 0 e o compara com seu vizinho – se for menor, há troca; se não for, seleciona o próximo e compara, repentindo o processo."
   ]
  },
  {
   "attachments": {},
   "cell_type": "markdown",
   "metadata": {},
   "source": [
    "A variável i é usada para controlar a repetição de todo processo; e a variável j é usada para fazer as comparações entre os elementos. Na iteração 1, o valor 10 ocupará a posição 0, sendo, então, comparado ao valor da posição 1 (9) – como 10 é maior, então é feita a troca. Em seguida, o valor 10 é comparado a seu novo vizinho (5) – como é maior, é feita a troca. Em seguida, o valor 10 é comparado ao novo vizinho (8) – como é menor, é feita a troca. Em seguida, como não há mais vizinhos, a primeira iteração encerra. A segunda iteração, começa novamente com a comparação do valor das posições 0 e 1 – novamente, o valor 9 (posição 0) é maior que 5 (posição 1), então é feita a troca. Em seguida, 9 é comparado ao próximo vizinho 8 – como é maior, é feita a troca. Em seguida, 9 é comparado ao seu novo vizinho 10, como é menor, não é feita a troca. A terceira iteração começa novamente comparando o valor das posições 0 e 1, porém, agora, 5 é menor que 8, razão pela qual não se faz a troca. Na sequência, o valor 8 é comparado ao seu vizinho 9 – como é menor, não é feita a troca. Na sequência, o valor 9 é comparado ao seu vizinho 10 – como é menor, não é feita a troca, quando, então, se encerra o algoritmo."
   ]
  },
  {
   "cell_type": "code",
   "execution_count": 3,
   "metadata": {},
   "outputs": [
    {
     "data": {
      "text/plain": [
       "[-1, 3, 5, 8, 9, 10, 11]"
      ]
     },
     "execution_count": 3,
     "metadata": {},
     "output_type": "execute_result"
    }
   ],
   "source": [
    "def executar_bubble_sort(lista):\n",
    "    n = len(lista)\n",
    "    for i in range(n-1):\n",
    "        for j in range(n-1):\n",
    "            if lista[j] > lista[j + 1]:\n",
    "                lista[j], lista[j + 1] = lista[j + 1], lista[j]\n",
    "    return lista\n",
    "\n",
    "lista = [10, 9, 5, 8, 11, -1, 3]\n",
    "executar_bubble_sort(lista)"
   ]
  },
  {
   "attachments": {},
   "cell_type": "markdown",
   "metadata": {},
   "source": [
    "INSERTION SORT (ORDENAÇÃO POR INSERÇÃO)\n",
    "\n",
    "O algoritmo insertion sort (algoritmo de inserção) recebe esse nome porque faz a ordenação pela simulação da inserção de novos valores na lista. Para entendermos como funciona o algoritmo, imagine um jogo de cartas para a execução do qual cada jogador começa com cinco cartas e, a cada rodada, deve pegar e inserir uma nova carta na mão. Para facilitar, o jogador opta por deixar as cartas ordenadas em sua mão, razão pela qual, a cada nova carta que precisar inserir, ele olha a sequência da esquerda para a direita, procurando a posição exata para fazer a inserção. A lógica do algoritmo é a seguinte:\n",
    "\n",
    "* Início: parte-se do princípio de que a lista possui um único valor e, consequentemente, está ordenada.\n",
    "* Iteração 1: parte-se do princípio de que um novo valor precisa ser inserido na lista; nesse caso, ele é comparado com o valor já existente para saber se precisa ser feita uma troca de posição.\n",
    "* Iteração 2: parte-se do princípio de que um novo valor precisa ser inserido na lista; nesse caso, ele é comparado com os valores já existentes para saber se precisam ser feitas trocas de posição.\n",
    "* Iteração N: parte-se do princípio de que um novo valor precisa ser inserido na lista; nesse caso, ele é comparado com todos os valores já existentes (desde o início) para saber se precisam ser feitas trocas de posição."
   ]
  },
  {
   "attachments": {},
   "cell_type": "markdown",
   "metadata": {},
   "source": [
    " variável i é usada para guardar a posição do elemento que queremos inserir, e a variável j é usada para encontrar a posição correta a ser inserida. Ou seja, j será usada para percorrer as posições já preenchidas. O primeiro valor da lista é 10, razão pela qual se parte do princípio de que a lista só possui esse valor e está ordenada. \n",
    " \n",
    " Na primeira iteração, em que o valor 9 precisa ser inserido na lista, ele deve ser inserido na posição 0 ou 1? Como é menor, é feita a troca com o 10. Na segunda iteração, queremos inserir o valor 5, razão pela qual ele é comparado a todos seus antecessores para encontrar a posição correta – como é menor que todos eles, então 5 é alocado na posição 0 e todos os demais são deslocados \"para frente\". Na terceira iteração, queremos inserir o valor 8, razão pela qual ele é comparado a todos seus antecessores para encontrar a posição correta e, então, é alocado para a posição 1. Todos os outros valores são deslocados \"para frente\"."
   ]
  },
  {
   "cell_type": "code",
   "execution_count": 4,
   "metadata": {},
   "outputs": [
    {
     "data": {
      "text/plain": [
       "[-1, 3, 5, 8, 9, 10, 11]"
      ]
     },
     "execution_count": 4,
     "metadata": {},
     "output_type": "execute_result"
    }
   ],
   "source": [
    "def executar_insertion_sort(lista):\n",
    "    n = len(lista)\n",
    "    for i in range(1, n):\n",
    "        valor_inserir = lista[i] \n",
    "        j = i - 1\n",
    "        \n",
    "        while j >= 0 and lista[j] > valor_inserir:\n",
    "            lista[j + 1] = lista[j]\n",
    "            j -= 1\n",
    "        lista[j + 1] = valor_inserir\n",
    "    \n",
    "    return lista\n",
    "\n",
    "\n",
    "lista = [10, 9, 5, 8, 11, -1, 3]\n",
    "executar_insertion_sort(lista)"
   ]
  },
  {
   "attachments": {},
   "cell_type": "markdown",
   "metadata": {},
   "source": [
    "MERGE SORT (ORDENAÇÃO POR JUNÇÃO)\n",
    "\n",
    "O algoritmo merge sort recebe esse nome porque faz a ordenação em duas etapa: (i) divide a lista em sublistas; e (ii) junta (merge) as sublistas já ordenadas. Esse algoritmo é conhecido por usar a estratégia \"dividir para conquistar\" (STEPHENS, 2013). Essa estratégia é usada por algoritmos de estrutura recursiva: para resolver um determinado problema, eles se chamam recursivamente uma ou mais vezes para lidar com subproblemas intimamente relacionados. Esses algoritmos geralmente seguem uma abordagem de dividir e conquistar: eles dividem o problema em vários subproblemas semelhantes ao problema original, mas menores em tamanho, resolvem os subproblemas recursivamente e depois combinam essas soluções para criar uma solução para o problema original (CORMEN et al., 2001). O paradigma de dividir e conquistar envolve três etapas em cada nível da recursão: (i) dividir o problema em vários subproblemas; (ii) conquistar os subproblemas, resolvendo-os recursivamente – se os tamanhos dos subproblemas forem pequenos o suficiente, apenas resolva os subproblemas de maneira direta; (iii) combine as soluções dos subproblemas na solução do problema original.\n",
    "\n",
    "Etapa de divisão:\n",
    "* Com base na lista original, encontre o meio e separe-a em duas listas: esquerda_1 e direita_2.\n",
    "* Com base na sublista esquerda_1, se a quantidade de elementos for maior que 1, encontre o meio e separe-a em duas listas: esquerda_1_1 e direta_1_1.\n",
    "* Com base na sublista esquerda_1_1, se a quantidade de elementos for maior que 1, encontre o meio e separe-a em duas listas: esquerda_1_2 e direta_1_2.\n",
    "* Repita o processo até encontrar uma lista com tamanho 1.\n",
    "* Chame a etapa de merge.\n",
    "* Repita o processo para todas as sublistas."
   ]
  },
  {
   "attachments": {},
   "cell_type": "markdown",
   "metadata": {},
   "source": [
    "Para entender a etapa de junção do merge sort, suponha que você está vendo duas fileiras de crianças em ordem de tamanho. Ao olhar para a primeira criança de cada fila, é possível identificar qual é a menor e, então, colocá-la na posição correta. Fazendo isso sucessivamente, teremos uma fila ordenada com base nas duas anteriores.\n",
    "\n",
    "Etapa de merge:\n",
    "* Dadas duas listas, cada uma das quais contém 1 valor – para ordenar, basta comparar esses valores e fazer a troca, gerando uma sublista com dois valores ordenados.\n",
    "* Dadas duas listas, cada uma das quais contém 2 valores – para ordenar, basta ir escolhendo o menor valor em cada uma e gerar uma sublista com quatro valores ordenados.\n",
    "* Repita o processo de comparação e junção dos valores até chegar à lista original, agora ordenada."
   ]
  },
  {
   "cell_type": "code",
   "execution_count": 5,
   "metadata": {},
   "outputs": [
    {
     "data": {
      "text/plain": [
       "[-1, 3, 5, 8, 9, 10, 11]"
      ]
     },
     "execution_count": 5,
     "metadata": {},
     "output_type": "execute_result"
    }
   ],
   "source": [
    "def executar_merge_sort(lista):\n",
    "    if len(lista) <= 1: return lista\n",
    "    else:\n",
    "        meio = len(lista) // 2\n",
    "        esquerda = executar_merge_sort(lista[:meio])\n",
    "        direita = executar_merge_sort(lista[meio:])\n",
    "        return executar_merge(esquerda, direita)\n",
    "\n",
    "    \n",
    "def executar_merge(esquerda, direita):\n",
    "    sub_lista_ordenada = []\n",
    "    topo_esquerda, topo_direita = 0, 0\n",
    "    while topo_esquerda < len(esquerda) and topo_direita < len(direita):\n",
    "        if esquerda[topo_esquerda] <= direita[topo_direita]:\n",
    "            sub_lista_ordenada.append(esquerda[topo_esquerda])\n",
    "            topo_esquerda += 1\n",
    "        else:\n",
    "            sub_lista_ordenada.append(direita[topo_direita])\n",
    "            topo_direita += 1\n",
    "    sub_lista_ordenada += esquerda[topo_esquerda:]\n",
    "    sub_lista_ordenada += direita[topo_direita:]\n",
    "    return sub_lista_ordenada\n",
    "\n",
    "\n",
    "lista = [10, 9, 5, 8, 11, -1, 3]\n",
    "executar_merge_sort(lista)"
   ]
  },
  {
   "attachments": {},
   "cell_type": "markdown",
   "metadata": {},
   "source": [
    "QUICKSORT (ORDENAÇÃO RÁPIDA)\n",
    "\n",
    "Dado um valor em uma lista ordenada, à direita desse número existem somente números maiores que ele; e à esquerda, somente os menores. Esse valor, chamado de pivô, é a estratégia central no algoritmo quicksort. O algoritmo quicksort também trabalha com a estratégia de dividir para conquistar, pois, a partir do pivô, quebrará uma lista em sublistas (direita e esquerda) – a cada escolha do pivô e a cada quebra da lista, o processo de ordenação vai acontecendo. Para entendermos como o algoritmo funciona, suponha uma fila de pessoas que, por algum motivo, precisam ser ordenadas por ordem de tamanho. Pede-se para uma pessoa da fila se voluntariar para ter seu tamanho comparado (esse é o pivô). Com base nesse voluntário, todos que são menores que ele devem se dirigir para a esquerda e todos que são maiores para a direta. O voluntário está na posição ordenada. Vamos repetir o mesmo procedimento para os menores e maiores. A cada passo estamos dobrando o número de pessoas na posição final. A lógica é a seguinte:\n",
    "\n",
    "* Primeira iteração: a lista original será quebrada através de um valor chamado de pivô. Após a quebra, os valores que são menores que o pivô devem ficar à sua esquerda e os maiores à sua direita. O pivô é inserido no local adequado, trocando a posição com o valor atual.\n",
    "* Segunda iteração: agora há duas listas, a da direita e a da esquerda do pivô. Novamente são escolhidos dois novos pivôs e é feito o mesmo processo, de colocar à direita os menores e à esquerda os maiores. Ao final os novos pivôs ocupam suas posições corretas.\n",
    "* Terceira iteração: olhando para as duas novas sublistas (direita e esquerda), repete-se o processo de escolha dos pivôs e separação.\n",
    "Na última iteração, a lista estará ordenada, como resultado dos passos anteriores."
   ]
  },
  {
   "attachments": {},
   "cell_type": "markdown",
   "metadata": {},
   "source": [
    "Dada uma lista a ser ordenada [10, 9, 5, 8], na primeira iteração o pivô é escolhido, o qual, no nosso caso, é o valor 8. Agora, para cada valor da lista, o pivô será comparado e acontecerá uma separação da lista em duas sublistas: à esquerda do pivô, os valores menores; e à direita, os valores maiores. No passo 1, movemos a linha que representa a sublista da direita, pois 10 é maior que o pivô. No passo 2, também movemos essa linha, pois 9 é maior que o pivô. No passo 3, movemos a linha da direita (porque sempre vamos fazer a comparação com os elementos da frente), mas movemos também a linha da esquerda, visto que 5 é menor que o pivô. Veja que, nesse movimento, os valores das posições são trocados: 5 passa a ocupar a posição da linha da esquerda, e o valor que ali estava vai para a posição da direita. Como não há mais elementos para comparar, uma vez que alcançamos o pivô, então ele é colocado no seu devido lugar, que está representado pela linha da esquerda. Para essa inserção, é feita a troca do valor que ali está com o valor do pivô. Veja que 8 passa a ocupar a posição 1, ao passo que 9 vai para a posição do pivô. Agora, todo o processo precisa se repetir, considerando-se, agora, as sublistas da esquerda e da direita. Na esquerda, temos uma sublista de tamanho 1 (valor 5), razão pela qual não há nada a ser feito. Por sua vez, na direita, temos a sublista [10, 9], razão pela qual se adota 9 como o pivô dela. Como o pivô é menor que o primeiro elemento dessa sublista, então o marcado da direita avança, mas o da esquerda também, fazendo a troca dos valores. Como não há mais comparações a serem feitas, o algoritmo encerra com a lista ordenada."
   ]
  },
  {
   "cell_type": "code",
   "execution_count": 6,
   "metadata": {},
   "outputs": [
    {
     "data": {
      "text/plain": [
       "[-1, 3, 5, 8, 9, 10, 11]"
      ]
     },
     "execution_count": 6,
     "metadata": {},
     "output_type": "execute_result"
    }
   ],
   "source": [
    "def executar_quicksort(lista, inicio, fim):\n",
    "    if inicio < fim:\n",
    "        pivo = executar_particao(lista, inicio, fim)\n",
    "        executar_quicksort(lista, inicio, pivo-1)\n",
    "        executar_quicksort(lista, pivo+1, fim)\n",
    "    return lista\n",
    "\n",
    "        \n",
    "def executar_particao(lista, inicio, fim):\n",
    "    pivo = lista[fim]\n",
    "    esquerda = inicio\n",
    "    for direita in range(inicio, fim):\n",
    "        if lista[direita] <= pivo:\n",
    "            lista[direita], lista[esquerda] = lista[esquerda], lista[direita]\n",
    "            esquerda += 1\n",
    "    lista[esquerda], lista[fim] = lista[fim], lista[esquerda]\n",
    "    return esquerda\n",
    "\n",
    "lista = [10, 9, 5, 8, 11, -1, 3]\n",
    "executar_quicksort(lista, inicio=0, fim=len(lista)-1)"
   ]
  },
  {
   "attachments": {},
   "cell_type": "markdown",
   "metadata": {},
   "source": [
    "### Desafio"
   ]
  },
  {
   "attachments": {},
   "cell_type": "markdown",
   "metadata": {},
   "source": [
    "Como desenvolvedor em uma empresa de consultoria, você continua alocado para atender um cliente que precisa fazer a ingestão de dados de uma nova fonte e tratá-las. Você já fez uma entrega na qual implementou uma solução que faz o dedup em uma lista de CPFs, retorna somente a parte numérica do CPF e verifica se eles possuem 11 dígitos.\n",
    "\n",
    "Os clientes aprovaram a solução, mas solicitaram que a lista de CPFs válidos fosse entregue em ordem crescente para facilitar o cadastro. Eles enfatizaram a necessidade de ter uma solução capaz de fazer o trabalho para grandes volumes de dados, no melhor tempo possível. Uma vez que a lista de CPFs pode crescer exponencialmente, escolher os algoritmos mais adequados é importante nesse caso.\n",
    "\n",
    "Portanto, nesta nova etapa, você deve tanto fazer as transformações de limpeza e validação nos CPFs (remover ponto e traço, verificar se tem 11 dígitos e não deixar valores duplicados) quanto fazer a entrega em ordem crescente. Quais algoritmos você vai escolher para implementar a solução? Você deve apresentar evidências de que fez a escolha certa!"
   ]
  },
  {
   "cell_type": "code",
   "execution_count": 1,
   "metadata": {},
   "outputs": [
    {
     "ename": "NameError",
     "evalue": "name 'criar_lista_dedup' is not defined",
     "output_type": "error",
     "traceback": [
      "\u001b[1;31m---------------------------------------------------------------------------\u001b[0m",
      "\u001b[1;31mNameError\u001b[0m                                 Traceback (most recent call last)",
      "Cell \u001b[1;32mIn[1], line 1\u001b[0m\n\u001b[1;32m----> 1\u001b[0m criar_lista_dedup(lista\u001b[39m=\u001b[39mlista)\n\u001b[0;32m      3\u001b[0m \u001b[39mdef\u001b[39;00m \u001b[39mmerge_sort\u001b[39m(lista):\n\u001b[0;32m      4\u001b[0m     \u001b[39mif\u001b[39;00m \u001b[39mlen\u001b[39m(lista) \u001b[39m<\u001b[39m\u001b[39m=\u001b[39m \u001b[39m1\u001b[39m: \u001b[39mreturn\u001b[39;00m lista\n",
      "\u001b[1;31mNameError\u001b[0m: name 'criar_lista_dedup' is not defined"
     ]
    }
   ],
   "source": [
    "criar_lista_dedup(lista=lista)\n",
    "\n",
    "def merge_sort(lista):\n",
    "    if len(lista) <= 1: return lista\n",
    "    else:\n",
    "        meio = len(lista) // 2\n",
    "        esquerda = merge_sort(lista[:meio])\n",
    "        direita = merge_sort(lista[meio:])\n",
    "        return merge_sort(esquerda, direita)\n",
    "  \n",
    "def merge(esquerda, direita):\n",
    "    sub_lista_ordenada = []\n",
    "    topo_esquerda, topo_direita = 0, 0\n",
    "    while topo_esquerda < len(esquerda) and topo_direita < len(direita):\n",
    "        if esquerda[topo_direita] <= direita[topo_direita]:\n",
    "            sub_lista_ordenada.append(esquerda[topo_esquerda])\n",
    "            topo_esquerda += 1\n",
    "        else:\n",
    "            sub_lista_ordenada.append(direita[topo_direita])\n",
    "            topo_direita += 1\n",
    "    sub_lista_ordenada += esquerda[topo_esquerda:]\n",
    "    sub_lista_ordenada += direita[topo_direita:]\n",
    "    return sub_lista_ordenada\n",
    "\n",
    "merge_sort(lista_cpfs)\n"
   ]
  },
  {
   "cell_type": "markdown",
   "metadata": {},
   "source": []
  },
  {
   "cell_type": "markdown",
   "metadata": {},
   "source": []
  },
  {
   "cell_type": "markdown",
   "metadata": {},
   "source": []
  },
  {
   "cell_type": "markdown",
   "metadata": {},
   "source": []
  }
 ],
 "metadata": {
  "kernelspec": {
   "display_name": "Python 3",
   "language": "python",
   "name": "python3"
  },
  "language_info": {
   "codemirror_mode": {
    "name": "ipython",
    "version": 3
   },
   "file_extension": ".py",
   "mimetype": "text/x-python",
   "name": "python",
   "nbconvert_exporter": "python",
   "pygments_lexer": "ipython3",
   "version": "3.9.2"
  },
  "orig_nbformat": 4
 },
 "nbformat": 4,
 "nbformat_minor": 2
}
