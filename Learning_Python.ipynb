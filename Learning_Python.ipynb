{
 "cells": [
  {
   "cell_type": "markdown",
   "metadata": {},
   "source": [
    "# Python para análise de dados"
   ]
  },
  {
   "cell_type": "markdown",
   "metadata": {
    "id": "e_0jAIer85gp"
   },
   "source": [
    "### Manipulando dados"
   ]
  },
  {
   "cell_type": "markdown",
   "metadata": {
    "id": "wjf-Dpys9FtS"
   },
   "source": [
    "###### 1 Comando Round"
   ]
  },
  {
   "cell_type": "code",
   "execution_count": 1,
   "metadata": {
    "colab": {
     "base_uri": "https://localhost:8080/"
    },
    "id": "3i35TRzh9Isp",
    "outputId": "72f9dff3-ce06-4cd3-af42-9eefccf8b5f8"
   },
   "outputs": [
    {
     "name": "stdout",
     "output_type": "stream",
     "text": [
      "12.123456789\n"
     ]
    }
   ],
   "source": [
    "valor_exemplo = 12.123456789\n",
    "print(valor_exemplo)"
   ]
  },
  {
   "cell_type": "markdown",
   "metadata": {},
   "source": []
  },
  {
   "cell_type": "code",
   "execution_count": 2,
   "metadata": {
    "colab": {
     "base_uri": "https://localhost:8080/"
    },
    "id": "ysglKcAX-d8g",
    "outputId": "8f0e7b7e-ed15-41a2-8298-0bd74c3383f2"
   },
   "outputs": [
    {
     "data": {
      "text/plain": [
       "12.12"
      ]
     },
     "execution_count": 2,
     "metadata": {},
     "output_type": "execute_result"
    }
   ],
   "source": [
    "round(valor_exemplo, 2)"
   ]
  },
  {
   "cell_type": "markdown",
   "metadata": {
    "id": "EPW7NzrP-8wh"
   },
   "source": [
    "###### 2 Comando Len"
   ]
  },
  {
   "cell_type": "markdown",
   "metadata": {
    "id": "o58WPQEt_Epw"
   },
   "source": [
    "A função len() retorna a quantidade de elementos de qualquer lista em python"
   ]
  },
  {
   "cell_type": "code",
   "execution_count": 3,
   "metadata": {
    "id": "sXuYJxs5_AeS"
   },
   "outputs": [],
   "source": [
    "Lista = [1, 2, 3, 4, 5, 6, 7, 8, 9]\n",
    "Dicionario = {\n",
    "    'nome' : 'josé',\n",
    "    'Idade' : 29\n",
    "    }\n",
    "Tupla = (1, 2, 3, 4)\n",
    "String = 'Ola mundo'"
   ]
  },
  {
   "cell_type": "code",
   "execution_count": 4,
   "metadata": {
    "colab": {
     "base_uri": "https://localhost:8080/"
    },
    "id": "otrMemaQ_14b",
    "outputId": "0c1bce23-41d6-4231-d24b-b93259b17e2d"
   },
   "outputs": [
    {
     "data": {
      "text/plain": [
       "9"
      ]
     },
     "execution_count": 4,
     "metadata": {},
     "output_type": "execute_result"
    }
   ],
   "source": [
    "len(Lista)"
   ]
  },
  {
   "cell_type": "code",
   "execution_count": 5,
   "metadata": {
    "colab": {
     "base_uri": "https://localhost:8080/"
    },
    "id": "5SJNwIZc_4VS",
    "outputId": "ccd48e2a-29fc-4417-fc4b-aca8be35d3e2"
   },
   "outputs": [
    {
     "data": {
      "text/plain": [
       "2"
      ]
     },
     "execution_count": 5,
     "metadata": {},
     "output_type": "execute_result"
    }
   ],
   "source": [
    "len(Dicionario)"
   ]
  },
  {
   "cell_type": "code",
   "execution_count": 6,
   "metadata": {
    "colab": {
     "base_uri": "https://localhost:8080/"
    },
    "id": "1V51SCrL_68i",
    "outputId": "d1b5b8be-f772-4daa-b49a-5ab3f24cb3c9"
   },
   "outputs": [
    {
     "data": {
      "text/plain": [
       "4"
      ]
     },
     "execution_count": 6,
     "metadata": {},
     "output_type": "execute_result"
    }
   ],
   "source": [
    "len(Tupla)"
   ]
  },
  {
   "cell_type": "code",
   "execution_count": 7,
   "metadata": {
    "colab": {
     "base_uri": "https://localhost:8080/"
    },
    "id": "-STnLmek_-zr",
    "outputId": "2d0052e8-b00c-41ff-b865-0cd05ad6e039"
   },
   "outputs": [
    {
     "data": {
      "text/plain": [
       "9"
      ]
     },
     "execution_count": 7,
     "metadata": {},
     "output_type": "execute_result"
    }
   ],
   "source": [
    "len(String)"
   ]
  },
  {
   "cell_type": "markdown",
   "metadata": {
    "id": "IKdMHevpApOR"
   },
   "source": [
    "###### 3 Fatiamento de Strings"
   ]
  },
  {
   "cell_type": "markdown",
   "metadata": {
    "id": "iJuP2M9XAwBZ"
   },
   "source": [
    "Strings são listas de bytes representando caracteres.\n",
    "Podemos acessar suas posicões usando colchetes"
   ]
  },
  {
   "cell_type": "code",
   "execution_count": 8,
   "metadata": {
    "colab": {
     "base_uri": "https://localhost:8080/"
    },
    "id": "eibHSX44A8OD",
    "outputId": "feb2b4f0-46a6-4685-bae0-c23d7f328477"
   },
   "outputs": [
    {
     "name": "stdout",
     "output_type": "stream",
     "text": [
      "<class 'str'>\n",
      "23\n"
     ]
    }
   ],
   "source": [
    "String_exemplo = \"o meu nome é Ryan Junio\"\n",
    "print( type(String_exemplo))\n",
    "print( len(String_exemplo))"
   ]
  },
  {
   "cell_type": "code",
   "execution_count": 9,
   "metadata": {
    "colab": {
     "base_uri": "https://localhost:8080/",
     "height": 35
    },
    "id": "gB0JjinIBNHf",
    "outputId": "3ff81b7d-2dd5-407a-9c75-32f1c8f05a01"
   },
   "outputs": [
    {
     "data": {
      "text/plain": [
       "'o'"
      ]
     },
     "execution_count": 9,
     "metadata": {},
     "output_type": "execute_result"
    }
   ],
   "source": [
    "String_exemplo[0]"
   ]
  },
  {
   "cell_type": "code",
   "execution_count": 10,
   "metadata": {
    "colab": {
     "base_uri": "https://localhost:8080/",
     "height": 35
    },
    "id": "C6dWEbvHBas7",
    "outputId": "122d99bc-872a-435b-cf4c-b7f70a972c66"
   },
   "outputs": [
    {
     "data": {
      "text/plain": [
       "'o'"
      ]
     },
     "execution_count": 10,
     "metadata": {},
     "output_type": "execute_result"
    }
   ],
   "source": [
    "String_exemplo[7]"
   ]
  },
  {
   "cell_type": "code",
   "execution_count": 11,
   "metadata": {
    "colab": {
     "base_uri": "https://localhost:8080/",
     "height": 35
    },
    "id": "XXl9vgO7BeR8",
    "outputId": "4051fd67-0c28-4147-cb08-d08e342eeb36"
   },
   "outputs": [
    {
     "data": {
      "text/plain": [
       "'J'"
      ]
     },
     "execution_count": 11,
     "metadata": {},
     "output_type": "execute_result"
    }
   ],
   "source": [
    "String_exemplo[18]"
   ]
  },
  {
   "cell_type": "code",
   "execution_count": 12,
   "metadata": {
    "colab": {
     "base_uri": "https://localhost:8080/",
     "height": 35
    },
    "id": "LtJuMOQtBkJh",
    "outputId": "7b7e0542-342a-4aa5-e9e7-22c942e4bc6e"
   },
   "outputs": [
    {
     "data": {
      "text/plain": [
       "'123456789'"
      ]
     },
     "execution_count": 12,
     "metadata": {},
     "output_type": "execute_result"
    }
   ],
   "source": [
    "CPF = 'CPF:123456789'\n",
    "CPF[-9:]"
   ]
  },
  {
   "cell_type": "markdown",
   "metadata": {
    "id": "Jj6xA3IeCgCD"
   },
   "source": [
    "###### 4 Manipulando Strings"
   ]
  },
  {
   "cell_type": "markdown",
   "metadata": {
    "id": "GEHkHd7lClcO"
   },
   "source": [
    "Um tipo de dados bastante comum no dia a dia são strings ou cadeia de caracteres. o tipo de dados string é chamado de str, possui várias operações úteis. Algumas funções utilizadas são:\n",
    "  1.replace\n",
    "\n",
    "1.   count\n",
    "2.   capitalize\n",
    "3.   replace\n",
    "4.   upper\n",
    "5.   lower\n",
    "6.   find\n",
    "7.   strip\n",
    "8.   split\n",
    "\n",
    "\n",
    "\n",
    "\n",
    "\n"
   ]
  },
  {
   "cell_type": "code",
   "execution_count": 13,
   "metadata": {
    "colab": {
     "base_uri": "https://localhost:8080/"
    },
    "id": "Ym_lvxkBDFcT",
    "outputId": "20e42aee-b82e-4eaf-a79a-149391350a3c"
   },
   "outputs": [
    {
     "name": "stdout",
     "output_type": "stream",
     "text": [
      "ola mundo\n"
     ]
    }
   ],
   "source": [
    "String = 'ola mundo'\n",
    "print(String)"
   ]
  },
  {
   "cell_type": "code",
   "execution_count": 14,
   "metadata": {
    "colab": {
     "base_uri": "https://localhost:8080/"
    },
    "id": "Z9W6wwyFEBNP",
    "outputId": "aee235b9-9c68-4019-d27e-eca9f6c80486"
   },
   "outputs": [
    {
     "data": {
      "text/plain": [
       "9"
      ]
     },
     "execution_count": 14,
     "metadata": {},
     "output_type": "execute_result"
    }
   ],
   "source": [
    "len(String)"
   ]
  },
  {
   "cell_type": "code",
   "execution_count": 15,
   "metadata": {
    "colab": {
     "base_uri": "https://localhost:8080/"
    },
    "id": "Y29SSs3yEDYs",
    "outputId": "e8da8bc9-ffa4-402f-a430-d0cee2f4d4bc"
   },
   "outputs": [
    {
     "data": {
      "text/plain": [
       "str"
      ]
     },
     "execution_count": 15,
     "metadata": {},
     "output_type": "execute_result"
    }
   ],
   "source": [
    "type( String)"
   ]
  },
  {
   "cell_type": "code",
   "execution_count": 16,
   "metadata": {
    "colab": {
     "base_uri": "https://localhost:8080/",
     "height": 35
    },
    "id": "lvSEn8ywEFzp",
    "outputId": "e47ab1bc-f5c8-4de3-d521-1d1806b220f6"
   },
   "outputs": [
    {
     "data": {
      "text/plain": [
       "'ola Mundao'"
      ]
     },
     "execution_count": 16,
     "metadata": {},
     "output_type": "execute_result"
    }
   ],
   "source": [
    "# Replace -> substituir\n",
    "String.replace('mundo', 'Mundao')"
   ]
  },
  {
   "cell_type": "code",
   "execution_count": 17,
   "metadata": {
    "colab": {
     "base_uri": "https://localhost:8080/",
     "height": 35
    },
    "id": "ussirLY9EQiJ",
    "outputId": "959a786b-c671-43ff-9fc3-84a5f4aa8a8c"
   },
   "outputs": [
    {
     "data": {
      "text/plain": [
       "'OLA MUNDO'"
      ]
     },
     "execution_count": 17,
     "metadata": {},
     "output_type": "execute_result"
    }
   ],
   "source": [
    "#transforma letras em maiusculas\n",
    "String.upper()"
   ]
  },
  {
   "cell_type": "code",
   "execution_count": 18,
   "metadata": {
    "colab": {
     "base_uri": "https://localhost:8080/"
    },
    "id": "9XAvCAUYE0Iu",
    "outputId": "77972dd6-1e7e-4596-fab3-c2211f6327a8"
   },
   "outputs": [
    {
     "data": {
      "text/plain": [
       "1"
      ]
     },
     "execution_count": 18,
     "metadata": {},
     "output_type": "execute_result"
    }
   ],
   "source": [
    "#conta palavras\n",
    "String.count('m')"
   ]
  },
  {
   "cell_type": "code",
   "execution_count": 19,
   "metadata": {
    "colab": {
     "base_uri": "https://localhost:8080/",
     "height": 35
    },
    "id": "A1jjVxzEE7Es",
    "outputId": "5d89a96c-d4ee-43ec-e7cc-9613e68f8ca1"
   },
   "outputs": [
    {
     "data": {
      "text/plain": [
       "'Ryan junio'"
      ]
     },
     "execution_count": 19,
     "metadata": {},
     "output_type": "execute_result"
    }
   ],
   "source": [
    "#transformação\n",
    "Nome = 'ryan Junio'\n",
    "Nome.capitalize()"
   ]
  },
  {
   "cell_type": "code",
   "execution_count": 20,
   "metadata": {
    "colab": {
     "base_uri": "https://localhost:8080/"
    },
    "id": "jfKg0DmXFedc",
    "outputId": "41a849b7-55e1-448a-81ca-74a2eb560517"
   },
   "outputs": [
    {
     "data": {
      "text/plain": [
       "True"
      ]
     },
     "execution_count": 20,
     "metadata": {},
     "output_type": "execute_result"
    }
   ],
   "source": [
    "# Verificar se existe dígitos na string\n",
    "String_cpf = '123456789'\n",
    "String_cpf.isdigit()"
   ]
  },
  {
   "cell_type": "markdown",
   "metadata": {
    "id": "4Nc5oRH4HBD7"
   },
   "source": [
    "###### 5 Comando Input"
   ]
  },
  {
   "cell_type": "markdown",
   "metadata": {
    "id": "d9kO_ESrHHJD"
   },
   "source": [
    "A função Input() recebe como parâmetro uma string que será mostrada como auxilio ao usuário, geralmente o programa agurada receber"
   ]
  },
  {
   "cell_type": "code",
   "execution_count": null,
   "metadata": {
    "colab": {
     "base_uri": "https://localhost:8080/",
     "height": 52
    },
    "id": "W95veMNXHXNd",
    "outputId": "a1b8bdb7-3996-4c0e-a234-01977a707d70"
   },
   "outputs": [],
   "source": [
    "input(\"digite alguma mensagem: \")"
   ]
  },
  {
   "cell_type": "code",
   "execution_count": null,
   "metadata": {
    "colab": {
     "base_uri": "https://localhost:8080/"
    },
    "id": "-lmbMyDeIEpI",
    "outputId": "73ec79ed-ee1a-48b6-a464-97e56c8c9085"
   },
   "outputs": [],
   "source": [
    "Nome = input(\"qual seu nome?: \")\n",
    "Idade = input(\"qual sua idade?: \")\n",
    "\n",
    "print(\"seu nome é \" + Nome + \" e sua idade é \" + Idade)"
   ]
  },
  {
   "cell_type": "markdown",
   "metadata": {
    "id": "auFm92snJikc"
   },
   "source": [
    "###### 6 Operadores de comparação"
   ]
  },
  {
   "cell_type": "markdown",
   "metadata": {
    "id": "hjRRPmt9Jpsr"
   },
   "source": [
    "Os operadores de comparação são usados para comparar dois valores"
   ]
  },
  {
   "cell_type": "code",
   "execution_count": null,
   "metadata": {
    "colab": {
     "base_uri": "https://localhost:8080/"
    },
    "id": "I-k2byZ4JocO",
    "outputId": "ba075efc-b0c2-4108-db42-59edc1d31151"
   },
   "outputs": [],
   "source": [
    "10 == 10"
   ]
  },
  {
   "cell_type": "code",
   "execution_count": null,
   "metadata": {
    "colab": {
     "base_uri": "https://localhost:8080/"
    },
    "id": "VIV0VajuJ1Sm",
    "outputId": "c6be03c6-4e59-4a07-b643-ff03e335292b"
   },
   "outputs": [],
   "source": [
    "10 > 15"
   ]
  },
  {
   "cell_type": "code",
   "execution_count": null,
   "metadata": {
    "colab": {
     "base_uri": "https://localhost:8080/"
    },
    "id": "Qimw1qV-J7c_",
    "outputId": "f811d0ec-04e1-4bd9-c207-1775475c5f1f"
   },
   "outputs": [],
   "source": [
    "10 <= 11"
   ]
  },
  {
   "cell_type": "code",
   "execution_count": null,
   "metadata": {
    "colab": {
     "base_uri": "https://localhost:8080/"
    },
    "id": "7lqzYmpCJ902",
    "outputId": "ded31205-0f4f-493d-fb47-d1416e2f39bd"
   },
   "outputs": [],
   "source": [
    "10 != 12"
   ]
  },
  {
   "cell_type": "code",
   "execution_count": null,
   "metadata": {
    "id": "1S7ADSsYKABH"
   },
   "outputs": [],
   "source": []
  },
  {
   "cell_type": "markdown",
   "metadata": {
    "id": "alTsF1CIKU6u"
   },
   "source": [
    "###### 7 Operadores Lógicos"
   ]
  },
  {
   "cell_type": "markdown",
   "metadata": {
    "id": "sPe6j2loKeMY"
   },
   "source": [
    "Os operadores lógicos são usados para combinar instruções condicionais"
   ]
  },
  {
   "cell_type": "code",
   "execution_count": null,
   "metadata": {
    "colab": {
     "base_uri": "https://localhost:8080/"
    },
    "id": "Fqw3lxGSKba2",
    "outputId": "32c33d8c-8674-405a-81aa-7476572c2841"
   },
   "outputs": [],
   "source": [
    "10 > 2 and 10 > 3"
   ]
  },
  {
   "cell_type": "code",
   "execution_count": null,
   "metadata": {
    "colab": {
     "base_uri": "https://localhost:8080/"
    },
    "id": "YNOpfat9M0Sx",
    "outputId": "00cf825f-30c0-43c3-a87c-62e052d1b33c"
   },
   "outputs": [],
   "source": [
    "10 > 0 or 10 > 1 "
   ]
  },
  {
   "cell_type": "code",
   "execution_count": null,
   "metadata": {
    "colab": {
     "base_uri": "https://localhost:8080/"
    },
    "id": "zNZiG3uQM37g",
    "outputId": "4bf3e1a2-fcf3-4749-921a-ad17e305be30"
   },
   "outputs": [],
   "source": [
    "not 10 > 0"
   ]
  },
  {
   "cell_type": "markdown",
   "metadata": {
    "id": "anWAB-BeQkhI"
   },
   "source": [
    "###### 8 Pacote DateTime"
   ]
  },
  {
   "cell_type": "code",
   "execution_count": null,
   "metadata": {
    "colab": {
     "base_uri": "https://localhost:8080/"
    },
    "id": "D-tddnmEQosQ",
    "outputId": "2adb409b-0d9e-42fd-c467-f5903e088984"
   },
   "outputs": [],
   "source": [
    "type('01/01/2022')"
   ]
  },
  {
   "cell_type": "code",
   "execution_count": null,
   "metadata": {
    "id": "9yU4ZHxielcX"
   },
   "outputs": [],
   "source": [
    "import datetime"
   ]
  },
  {
   "cell_type": "code",
   "execution_count": null,
   "metadata": {
    "colab": {
     "base_uri": "https://localhost:8080/"
    },
    "id": "CFvF13gEeuX-",
    "outputId": "f578b726-ae87-4552-85ee-ca354e4f0987"
   },
   "outputs": [],
   "source": [
    "Dia_Hoje = datetime.datetime.today()\n",
    "print(Dia_Hoje)"
   ]
  },
  {
   "cell_type": "code",
   "execution_count": null,
   "metadata": {
    "colab": {
     "base_uri": "https://localhost:8080/"
    },
    "id": "TKrrhUHwe5q4",
    "outputId": "837b108b-6032-4674-a36f-af1e2fb289d6"
   },
   "outputs": [],
   "source": [
    "type (Dia_Hoje)"
   ]
  },
  {
   "cell_type": "code",
   "execution_count": null,
   "metadata": {
    "colab": {
     "base_uri": "https://localhost:8080/"
    },
    "id": "mtYtpEqUe_PW",
    "outputId": "309746e0-2302-4ce2-c30f-f0b92248e7f8"
   },
   "outputs": [],
   "source": [
    "print(datetime.datetime.today().date())"
   ]
  },
  {
   "cell_type": "code",
   "execution_count": null,
   "metadata": {
    "id": "IMOTFbGIfZj7"
   },
   "outputs": [],
   "source": [
    "Data = datetime.datetime.today().date()\n",
    "Ano = Data.year\n",
    "Mes = Data.month\n",
    "Dia = Data.day"
   ]
  },
  {
   "cell_type": "code",
   "execution_count": null,
   "metadata": {
    "colab": {
     "base_uri": "https://localhost:8080/"
    },
    "id": "fUxSBGZkfzQU",
    "outputId": "9dde0a84-8730-4d21-bc21-c8c16f5e3b23"
   },
   "outputs": [],
   "source": [
    "print(Dia, Mes, Ano)"
   ]
  },
  {
   "cell_type": "code",
   "execution_count": null,
   "metadata": {
    "colab": {
     "base_uri": "https://localhost:8080/"
    },
    "id": "Ue22GOp0f5st",
    "outputId": "f381c20b-0715-4a4e-eb09-21b40cdacf86"
   },
   "outputs": [],
   "source": [
    "Data_antiga =  datetime.date(2022, 1, 1)\n",
    "print(Data_antiga)"
   ]
  },
  {
   "cell_type": "code",
   "execution_count": null,
   "metadata": {
    "colab": {
     "base_uri": "https://localhost:8080/"
    },
    "id": "YPorGP63gKuW",
    "outputId": "ac846e29-9168-4d67-d409-515fdf18fe69"
   },
   "outputs": [],
   "source": [
    "print(Data - Data_antiga)"
   ]
  },
  {
   "cell_type": "code",
   "execution_count": null,
   "metadata": {
    "colab": {
     "base_uri": "https://localhost:8080/",
     "height": 35
    },
    "id": "O_r5UO3FgYnt",
    "outputId": "adb46261-7dc9-4227-cd9c-7008b643e8c4"
   },
   "outputs": [],
   "source": [
    "Data.strftime('%d/%m/%y')"
   ]
  },
  {
   "cell_type": "markdown",
   "metadata": {
    "id": "XNugJGmuiOgd"
   },
   "source": [
    "###### 9 Pacote Time"
   ]
  },
  {
   "cell_type": "code",
   "execution_count": null,
   "metadata": {
    "id": "HFq0KivEiVVp"
   },
   "outputs": [],
   "source": [
    "import time"
   ]
  },
  {
   "cell_type": "code",
   "execution_count": null,
   "metadata": {
    "colab": {
     "base_uri": "https://localhost:8080/"
    },
    "id": "X--AS7e4iYR7",
    "outputId": "91d9a1a4-ad87-4674-d73e-c6562d090cf0"
   },
   "outputs": [],
   "source": [
    "print('Comecei agora...')\n",
    "time.sleep(5)\n",
    "print('terminei...')"
   ]
  },
  {
   "cell_type": "code",
   "execution_count": null,
   "metadata": {
    "colab": {
     "base_uri": "https://localhost:8080/"
    },
    "id": "doJsa47cigyj",
    "outputId": "8d3a20f7-a1ad-4a57-aa9f-f93b32f077d6"
   },
   "outputs": [],
   "source": [
    "agora = time.localtime()\n",
    "print(agora)\n",
    "print(type(agora))"
   ]
  },
  {
   "cell_type": "code",
   "execution_count": null,
   "metadata": {
    "colab": {
     "base_uri": "https://localhost:8080/",
     "height": 35
    },
    "id": "4-3IhQDKjho5",
    "outputId": "f146ae50-ba8a-430f-f693-2cedae5df3ad"
   },
   "outputs": [],
   "source": [
    "time.strftime('%m/%d/%y, %H:%M:%S', agora)"
   ]
  },
  {
   "cell_type": "code",
   "execution_count": null,
   "metadata": {
    "colab": {
     "base_uri": "https://localhost:8080/"
    },
    "id": "0Ntj-fg5kFar",
    "outputId": "982624e4-7858-48ea-b83c-e214654571f0"
   },
   "outputs": [],
   "source": [
    "Time_texto = '21 June, 2021'\n",
    "time.strptime( Time_texto, '%d %B, %Y')"
   ]
  },
  {
   "cell_type": "code",
   "execution_count": null,
   "metadata": {
    "id": "vop1__b6ktJv"
   },
   "outputs": [],
   "source": []
  },
  {
   "cell_type": "markdown",
   "metadata": {
    "id": "I-iLS3GLle6Z"
   },
   "source": [
    "###### 10 Pacote Math"
   ]
  },
  {
   "cell_type": "markdown",
   "metadata": {
    "id": "XuzLkwetlom4"
   },
   "source": [
    "O python possui um conjunto de funções matemáticas integradas, incluindo um extenso módulo matemático, que permite realizar tarefas matemáticas em números"
   ]
  },
  {
   "cell_type": "code",
   "execution_count": null,
   "metadata": {
    "id": "RVkcPXkJl1tA"
   },
   "outputs": [],
   "source": [
    "import math"
   ]
  },
  {
   "cell_type": "code",
   "execution_count": null,
   "metadata": {
    "id": "cAoiqo5X0AaO"
   },
   "outputs": [],
   "source": [
    "Tupla = (10, 4, 20, 40)"
   ]
  },
  {
   "cell_type": "code",
   "execution_count": null,
   "metadata": {
    "colab": {
     "base_uri": "https://localhost:8080/"
    },
    "id": "Pz81Nhny0EMO",
    "outputId": "0609b7d6-1626-4d40-e17e-057d338f475d"
   },
   "outputs": [],
   "source": [
    "min(Tupla)\n",
    "max(Tupla)"
   ]
  },
  {
   "cell_type": "code",
   "execution_count": null,
   "metadata": {
    "colab": {
     "base_uri": "https://localhost:8080/"
    },
    "id": "KF5DuEne0JzP",
    "outputId": "12214726-9fc6-4f0a-d87c-d4606d260713"
   },
   "outputs": [],
   "source": [
    "abs(-7.25)"
   ]
  },
  {
   "cell_type": "code",
   "execution_count": null,
   "metadata": {
    "colab": {
     "base_uri": "https://localhost:8080/"
    },
    "id": "cwqFZ0m50Pz2",
    "outputId": "482aad85-8588-484e-c9a5-ce757a9f72d6"
   },
   "outputs": [],
   "source": [
    "pow(3, 4)"
   ]
  },
  {
   "cell_type": "code",
   "execution_count": null,
   "metadata": {
    "colab": {
     "base_uri": "https://localhost:8080/"
    },
    "id": "3e50SR4d0Xvm",
    "outputId": "bda8e402-e8af-488a-e41b-9f61c2e59e07"
   },
   "outputs": [],
   "source": [
    "math.sqrt(81)"
   ]
  },
  {
   "cell_type": "code",
   "execution_count": null,
   "metadata": {
    "colab": {
     "base_uri": "https://localhost:8080/"
    },
    "id": "bMz3aQjA055-",
    "outputId": "053af075-467b-4484-a0ca-f97967ac15bc"
   },
   "outputs": [],
   "source": [
    "math.ceil(1.4)"
   ]
  },
  {
   "cell_type": "code",
   "execution_count": null,
   "metadata": {
    "colab": {
     "base_uri": "https://localhost:8080/"
    },
    "id": "1JSvqD_o1PdF",
    "outputId": "f77ee909-b303-4ac4-9cbc-5771a93e2de0"
   },
   "outputs": [],
   "source": [
    "math.floor(1.4)"
   ]
  },
  {
   "cell_type": "code",
   "execution_count": null,
   "metadata": {
    "colab": {
     "base_uri": "https://localhost:8080/"
    },
    "id": "qf5TljxV1TJg",
    "outputId": "99619f6b-dac4-4fd0-edc1-85ee2350c9c8"
   },
   "outputs": [],
   "source": [
    "math.pi"
   ]
  },
  {
   "cell_type": "code",
   "execution_count": null,
   "metadata": {
    "id": "nz-hyG7_1beJ"
   },
   "outputs": [],
   "source": []
  },
  {
   "cell_type": "markdown",
   "metadata": {
    "id": "VAZ8W5zX1fmF"
   },
   "source": [
    "###### 11 Pacote Random"
   ]
  },
  {
   "cell_type": "markdown",
   "metadata": {
    "id": "ZfvG7UUh2Hq-"
   },
   "source": [
    "Este módulo implementa geradores de números aleatórios para várias distribuições"
   ]
  },
  {
   "cell_type": "code",
   "execution_count": null,
   "metadata": {
    "id": "GauA_h352Qw9"
   },
   "outputs": [],
   "source": [
    "import random"
   ]
  },
  {
   "cell_type": "code",
   "execution_count": null,
   "metadata": {
    "colab": {
     "base_uri": "https://localhost:8080/"
    },
    "id": "_6P_mapl4JHn",
    "outputId": "6a384376-eee3-4a04-d969-81c5d770ab8e"
   },
   "outputs": [],
   "source": [
    "Lista = [1, 2, 3, 4, 5, 6, 7, 8, 9]\n",
    "random.choice(Lista)"
   ]
  },
  {
   "cell_type": "code",
   "execution_count": null,
   "metadata": {
    "colab": {
     "base_uri": "https://localhost:8080/",
     "height": 35
    },
    "id": "K_3nmeP64THm",
    "outputId": "bc0ce99a-c0db-4ee4-b452-8e5ab725d682"
   },
   "outputs": [],
   "source": [
    "palavra = 'ryan oliveira'\n",
    "random.choice(palavra)"
   ]
  },
  {
   "cell_type": "code",
   "execution_count": null,
   "metadata": {
    "colab": {
     "base_uri": "https://localhost:8080/"
    },
    "id": "4cLKxlfi4jWf",
    "outputId": "24117ff7-cdd0-4acd-e228-5b1ae4e36b9a"
   },
   "outputs": [],
   "source": [
    "random.random()"
   ]
  },
  {
   "cell_type": "code",
   "execution_count": null,
   "metadata": {
    "colab": {
     "base_uri": "https://localhost:8080/"
    },
    "id": "m3YZZOyQ4oQo",
    "outputId": "ac88eabf-7dd3-4f28-f0c9-31dfa32c4469"
   },
   "outputs": [],
   "source": [
    "random.randint(2, 10)"
   ]
  },
  {
   "cell_type": "markdown",
   "metadata": {
    "id": "wLashkNy5Xyd"
   },
   "source": [
    "###### 11 Pacote Externo - Statistics"
   ]
  },
  {
   "cell_type": "markdown",
   "metadata": {
    "id": "i_h6dn4F5oNz"
   },
   "source": [
    "Este módulo fornece funções para calcular estatísticas matemáticas de dados numéricos e interage com as listas"
   ]
  },
  {
   "cell_type": "code",
   "execution_count": null,
   "metadata": {
    "id": "e0eciau75zPm"
   },
   "outputs": [],
   "source": [
    "import statistics"
   ]
  },
  {
   "cell_type": "code",
   "execution_count": null,
   "metadata": {
    "id": "1tMfKgF76GTI"
   },
   "outputs": [],
   "source": [
    "Lista = [12, 15, 67, 31, 8, 13,13, 35]"
   ]
  },
  {
   "cell_type": "code",
   "execution_count": null,
   "metadata": {
    "colab": {
     "base_uri": "https://localhost:8080/"
    },
    "id": "-seLNgp76RvW",
    "outputId": "34c0e999-b328-44be-a071-9a67b4e9e25c"
   },
   "outputs": [],
   "source": [
    "sum(Lista) / len(Lista)"
   ]
  },
  {
   "cell_type": "code",
   "execution_count": null,
   "metadata": {
    "colab": {
     "base_uri": "https://localhost:8080/"
    },
    "id": "mOQYeQLY6TdY",
    "outputId": "2e82df16-6b49-4ab5-da88-4cec4d36ffd5"
   },
   "outputs": [],
   "source": [
    "statistics.mean(Lista)"
   ]
  },
  {
   "cell_type": "code",
   "execution_count": null,
   "metadata": {
    "colab": {
     "base_uri": "https://localhost:8080/"
    },
    "id": "gTu0hQKm6lEm",
    "outputId": "f471d6db-aa3a-4991-edcc-8939badc7d48"
   },
   "outputs": [],
   "source": [
    "statistics.median(Lista)"
   ]
  },
  {
   "cell_type": "code",
   "execution_count": null,
   "metadata": {
    "colab": {
     "base_uri": "https://localhost:8080/"
    },
    "id": "T5yYTCDm6qZ2",
    "outputId": "ba1c40cd-8e12-46f7-b594-ca02d5b699dd"
   },
   "outputs": [],
   "source": [
    "statistics.mode(Lista)"
   ]
  },
  {
   "cell_type": "markdown",
   "metadata": {
    "id": "XRUubXJ276pr"
   },
   "source": [
    "### Lógica de programação"
   ]
  },
  {
   "cell_type": "markdown",
   "metadata": {
    "id": "mHmJuVnh8DxF"
   },
   "source": [
    "###### Condicionais"
   ]
  },
  {
   "cell_type": "markdown",
   "metadata": {
    "id": "jcROH8G18Jcn"
   },
   "source": [
    "if é declaração mais simples de tomada de decisão.\n",
    "ele é usado para decidir se uma determinada instrução será executada ou não."
   ]
  },
  {
   "cell_type": "code",
   "execution_count": null,
   "metadata": {
    "colab": {
     "base_uri": "https://localhost:8080/"
    },
    "id": "DOzibg0e8eom",
    "outputId": "4a6398a3-46c2-4530-a7f4-8b8d6e126b6f"
   },
   "outputs": [],
   "source": [
    "# Condição se a pessoa for menor de 18 anos, ela nao entra no sistema\n",
    "idade = int(input(\"Qual a sua idade?: \"))\n",
    "\n",
    "if idade >= 18:\n",
    "  print(\"Voçê é maior de idade!\")\n",
    "else:\n",
    "  print(\"Voçê não é maior de idade\")"
   ]
  },
  {
   "cell_type": "markdown",
   "metadata": {
    "id": "-oHTh6P67OoA"
   },
   "source": [
    "###### Estrutura de Loop FOR"
   ]
  },
  {
   "cell_type": "markdown",
   "metadata": {
    "id": "eP47FUk97VFm"
   },
   "source": [
    "O loop FOR do python é usado para travessia sequencial, ou seja, é usado para iterar sobre um iterável como string, tupla, lista, etc. Ele se enquadra na categoria de iteração definida.\n",
    "\n",
    "for variável in objeto:\n",
    "\n",
    "\n",
    "*   loop\n",
    "\n"
   ]
  },
  {
   "cell_type": "code",
   "execution_count": null,
   "metadata": {
    "colab": {
     "base_uri": "https://localhost:8080/"
    },
    "id": "vqpCEUXR7T7J",
    "outputId": "12f188c4-73fb-41d6-b7d1-81987bc07c90"
   },
   "outputs": [],
   "source": [
    "for x in range(10):\n",
    "  print(x)\n",
    "\n",
    "print(\"fim do for e começo de um novo for\")"
   ]
  },
  {
   "cell_type": "code",
   "execution_count": null,
   "metadata": {
    "colab": {
     "base_uri": "https://localhost:8080/"
    },
    "id": "3JoRd96-8BPb",
    "outputId": "28415ffa-04b5-46ca-8fe2-d6914a8e8059"
   },
   "outputs": [],
   "source": [
    "for x in range(1, 100, 5):\n",
    "  print(x)"
   ]
  },
  {
   "cell_type": "code",
   "execution_count": null,
   "metadata": {
    "colab": {
     "base_uri": "https://localhost:8080/"
    },
    "id": "EQ4AO0rI8_LI",
    "outputId": "26951149-6b1b-4fdb-d565-54efd52e3598"
   },
   "outputs": [],
   "source": [
    "Lista = ['Brasil', 'Argentina', 'Uruguai', 'Paraguai']\n",
    "\n",
    "for x in Lista:\n",
    "  print(x)"
   ]
  },
  {
   "cell_type": "code",
   "execution_count": null,
   "metadata": {
    "id": "sKQBmq779h5K"
   },
   "outputs": [],
   "source": []
  },
  {
   "cell_type": "markdown",
   "metadata": {
    "id": "Y6D0Fc0Gv0T9"
   },
   "source": [
    "###### Funções"
   ]
  },
  {
   "cell_type": "markdown",
   "metadata": {
    "id": "hE3VZNzkwDHO"
   },
   "source": [
    "Uma função é um bloco de código que só é executado quando é chamado."
   ]
  },
  {
   "cell_type": "code",
   "execution_count": null,
   "metadata": {
    "colab": {
     "base_uri": "https://localhost:8080/"
    },
    "id": "uQchffjbwNz2",
    "outputId": "a0b0a485-e0de-4189-fe8a-9d9bd5c2b6a1"
   },
   "outputs": [],
   "source": [
    "def Boas_vindas():\n",
    "  print(\"bem vindo\")\n",
    "\n",
    "Boas_vindas()"
   ]
  },
  {
   "cell_type": "code",
   "execution_count": null,
   "metadata": {
    "colab": {
     "base_uri": "https://localhost:8080/"
    },
    "id": "VOU_v_AHwhws",
    "outputId": "a55a1c66-b5f1-4c59-a5b6-3f062f3932b3"
   },
   "outputs": [],
   "source": [
    "def soma_dois_numeros(a, b):\n",
    "  print(a + b)\n",
    "\n",
    "soma_dois_numeros(1, 3)"
   ]
  },
  {
   "cell_type": "code",
   "execution_count": null,
   "metadata": {
    "colab": {
     "base_uri": "https://localhost:8080/"
    },
    "id": "IraFkJdIwsXc",
    "outputId": "b219596b-dfb9-4d60-e511-60e157322a39"
   },
   "outputs": [],
   "source": [
    "for loop in range(0, 10):\n",
    "  import random\n",
    "  x = random.random()\n",
    "  y = random.random()\n",
    "\n",
    "  soma_dois_numeros(x, y)\n"
   ]
  },
  {
   "cell_type": "markdown",
   "metadata": {
    "id": "3eqDG7spy_Yi"
   },
   "source": [
    "###### Try"
   ]
  },
  {
   "cell_type": "markdown",
   "metadata": {
    "id": "KKuydbnUzDY3"
   },
   "source": [
    "O try permite testar um bloco de código possibilitando evitar erros\n",
    "O except permite que voçê lide com o erro\n",
    "o else permite executar código quando não há erro\n",
    "o finally permite que execute o código, independentemente do resultado dos blocos try e except"
   ]
  },
  {
   "cell_type": "code",
   "execution_count": null,
   "metadata": {
    "colab": {
     "base_uri": "https://localhost:8080/"
    },
    "id": "kc2QyIDSzk0k",
    "outputId": "d8ed5cbe-a77d-468d-80ae-102639edc2fc"
   },
   "outputs": [],
   "source": [
    "try:\n",
    "  print(0 / 0)\n",
    "  print(\"deu certo\")\n",
    "except:\n",
    "  print(\"não deu certo\")\n",
    "finally:\n",
    "  print(\"sou executado da mesma maneira\")"
   ]
  },
  {
   "cell_type": "markdown",
   "metadata": {
    "id": "-vdCT8Z20puR"
   },
   "source": [
    "###### Classes/Objetos"
   ]
  },
  {
   "cell_type": "markdown",
   "metadata": {
    "id": "DsB3IuXn0yYe"
   },
   "source": [
    "Python é uma linguagem orientada a objetos\n",
    "Quase tudo em python é um objeto, com propriedades e métodos"
   ]
  },
  {
   "cell_type": "code",
   "execution_count": null,
   "metadata": {
    "id": "hZoOGcJJ09D-"
   },
   "outputs": [],
   "source": [
    "class Pessoa:\n",
    "\n",
    "  #construtor da classe\n",
    "  def __init__(self, Nome, Idade):\n",
    "    self.Nome = Nome\n",
    "    self.Idade = Idade\n",
    "\n",
    "  def Boas_vindas(self):\n",
    "    print(\"seja bem vindo \", self.Nome)\n",
    "\n",
    "  def Recusado(self):\n",
    "    print(\"Seu acesso foi negado!\")\n",
    "  \n",
    "  def maiorIdade(self):\n",
    "    if self.Idade >= 18:\n",
    "      print('Usuario é maior de idade')\n",
    "    else:\n",
    "      print(\"Usuario é menor de idade\")\n",
    "      self.Recusado()"
   ]
  },
  {
   "cell_type": "code",
   "execution_count": null,
   "metadata": {
    "id": "0-7jb2ME2g9S"
   },
   "outputs": [],
   "source": [
    "pessoa = Pessoa(\"Ryan\", 20)"
   ]
  },
  {
   "cell_type": "code",
   "execution_count": null,
   "metadata": {
    "colab": {
     "base_uri": "https://localhost:8080/"
    },
    "id": "297s7L913DV6",
    "outputId": "29f27b08-75f0-4fd2-aa47-7b7e2c66330a"
   },
   "outputs": [],
   "source": [
    "pessoa.maiorIdade()"
   ]
  },
  {
   "cell_type": "code",
   "execution_count": null,
   "metadata": {
    "colab": {
     "base_uri": "https://localhost:8080/"
    },
    "id": "qrV4-mMT3fvy",
    "outputId": "e50e8e8d-a739-4c9b-db63-970d4daba5b6"
   },
   "outputs": [],
   "source": [
    "pessoa.Boas_vindas()"
   ]
  },
  {
   "cell_type": "markdown",
   "metadata": {
    "id": "tyZ7wWaI4Vfk"
   },
   "source": [
    "### Bibliotecas"
   ]
  },
  {
   "cell_type": "markdown",
   "metadata": {
    "id": "mQ5BLXCs4w57"
   },
   "source": [
    "##### Pandas"
   ]
  },
  {
   "cell_type": "markdown",
   "metadata": {
    "id": "VE0fIEcT42jt"
   },
   "source": [
    "Analisando performance dos estudantes usando pandas"
   ]
  },
  {
   "cell_type": "code",
   "execution_count": null,
   "metadata": {
    "id": "dNk53_0W49yS"
   },
   "outputs": [],
   "source": [
    "import pandas as pd\n",
    "import numpy as np"
   ]
  },
  {
   "cell_type": "code",
   "execution_count": null,
   "metadata": {},
   "outputs": [],
   "source": [
    "df = pd.read_csv(\"StudentsPerformance.csv\")"
   ]
  },
  {
   "cell_type": "code",
   "execution_count": null,
   "metadata": {},
   "outputs": [],
   "source": [
    "type(df)"
   ]
  },
  {
   "cell_type": "code",
   "execution_count": null,
   "metadata": {},
   "outputs": [],
   "source": [
    "#5 primeiras linhas\n",
    "df.head()"
   ]
  },
  {
   "cell_type": "code",
   "execution_count": null,
   "metadata": {},
   "outputs": [],
   "source": [
    "# 5 ultimas linhas\n",
    "df.tail()"
   ]
  },
  {
   "cell_type": "code",
   "execution_count": null,
   "metadata": {},
   "outputs": [],
   "source": [
    "#quantidade de linhas e colunas\n",
    "df.shape"
   ]
  },
  {
   "cell_type": "code",
   "execution_count": null,
   "metadata": {},
   "outputs": [],
   "source": [
    "#exibe o nome das colunas\n",
    "df.columns"
   ]
  },
  {
   "cell_type": "code",
   "execution_count": null,
   "metadata": {},
   "outputs": [],
   "source": [
    "#verifica as colunas duplicadas\n",
    "df.duplicated().sum()"
   ]
  },
  {
   "cell_type": "code",
   "execution_count": null,
   "metadata": {},
   "outputs": [],
   "source": [
    "df.info()"
   ]
  },
  {
   "cell_type": "code",
   "execution_count": null,
   "metadata": {},
   "outputs": [],
   "source": [
    "#verifica a existencia de NaN\n",
    "df.isna().sum()"
   ]
  },
  {
   "cell_type": "code",
   "execution_count": null,
   "metadata": {},
   "outputs": [],
   "source": [
    "#exibe alguns dados sobre o dataframe\n",
    "df.describe()"
   ]
  },
  {
   "cell_type": "code",
   "execution_count": null,
   "metadata": {},
   "outputs": [],
   "source": [
    "#sumário estatistico - inclusive para as variáveis categoricas\n",
    "df.describe(include= 'all')"
   ]
  },
  {
   "cell_type": "code",
   "execution_count": null,
   "metadata": {},
   "outputs": [],
   "source": [
    "#quantidade de valores únicos em cada coluna\n",
    "df.nunique()"
   ]
  },
  {
   "cell_type": "code",
   "execution_count": null,
   "metadata": {},
   "outputs": [],
   "source": [
    "#frequencia entre os generos\n",
    "df.gender.value_counts()"
   ]
  },
  {
   "cell_type": "code",
   "execution_count": null,
   "metadata": {},
   "outputs": [],
   "source": [
    "#categorias\n",
    "df['parental level of education'].unique()"
   ]
  },
  {
   "cell_type": "code",
   "execution_count": null,
   "metadata": {},
   "outputs": [],
   "source": [
    " provas = ['math score', 'reading score', 'writing score']"
   ]
  },
  {
   "cell_type": "code",
   "execution_count": null,
   "metadata": {},
   "outputs": [],
   "source": [
    "#ordena o dataset\n",
    "df = df.sort_values(by = provas, ascending = False).reset_index(drop=True)"
   ]
  },
  {
   "cell_type": "code",
   "execution_count": null,
   "metadata": {},
   "outputs": [],
   "source": [
    "#coluna com as médias das provas\n",
    "df['mean'] = df[provas].mean(axis=1)"
   ]
  },
  {
   "cell_type": "code",
   "execution_count": null,
   "metadata": {},
   "outputs": [],
   "source": [
    "df.head()"
   ]
  },
  {
   "cell_type": "code",
   "execution_count": null,
   "metadata": {},
   "outputs": [],
   "source": [
    "#agrupamento - agrupa os dados por genero e obtem estatisticas descritivas\n",
    "df.groupby(by = 'gender')[provas].agg([np.mean, np.median]).T"
   ]
  },
  {
   "cell_type": "code",
   "execution_count": null,
   "metadata": {
    "scrolled": true
   },
   "outputs": [],
   "source": [
    "#consulta\n",
    "df.query('(gender == \"male\") & (`test preparation course` == \"none\")\\\n",
    "& (`math score` >= 70)')"
   ]
  },
  {
   "cell_type": "markdown",
   "metadata": {},
   "source": [
    "###### Matplolib"
   ]
  },
  {
   "cell_type": "markdown",
   "metadata": {},
   "source": [
    "Biblioteca utilizada para a vizualização de dados"
   ]
  },
  {
   "cell_type": "code",
   "execution_count": null,
   "metadata": {},
   "outputs": [],
   "source": [
    "import numpy as np\n",
    "import pandas as pd\n",
    "import matplotlib.pyplot as plt"
   ]
  },
  {
   "cell_type": "markdown",
   "metadata": {},
   "source": [
    "Gráfico de linhas"
   ]
  },
  {
   "cell_type": "code",
   "execution_count": null,
   "metadata": {},
   "outputs": [],
   "source": [
    "np.random.seed(7)\n",
    "#vetor com numeros inteiros aleatorios ente 1, 1500, com 10 amostras\n",
    "y = np.random.randint(low = 1, high = 1500, size=10)"
   ]
  },
  {
   "cell_type": "code",
   "execution_count": null,
   "metadata": {},
   "outputs": [],
   "source": [
    "y"
   ]
  },
  {
   "cell_type": "code",
   "execution_count": null,
   "metadata": {
    "scrolled": true
   },
   "outputs": [],
   "source": [
    "plt.plot(y)"
   ]
  },
  {
   "cell_type": "code",
   "execution_count": null,
   "metadata": {},
   "outputs": [],
   "source": [
    "#insere a primeira linha no plot\n",
    "plt.plot(y, color = '#749187', marker = 'o', ms = 5, mec = 'k', \\\n",
    "         markerfacecolor = 'w', ls = '-.')\n",
    "\n",
    "#insere a segunda linha no plot\n",
    "plt.plot(y*2, marker = '+', color = 'k', ms = 5)\n",
    "\n",
    "#rotulos\n",
    "plt.xlabel('Eixo X', color = 'red', size = 12)\n",
    "plt.ylabel('Eixo Y')\n",
    "plt.title('Titulo', loc = 'left')\n",
    "\n",
    "#gridlines\n",
    "plt.grid(axis = 'y', color = 'gray', linestyle = '--', \\\n",
    "         linewidth = 1, alpha = 0.8)\n",
    "plt.show()"
   ]
  },
  {
   "cell_type": "markdown",
   "metadata": {},
   "source": [
    "Subplots"
   ]
  },
  {
   "cell_type": "code",
   "execution_count": null,
   "metadata": {},
   "outputs": [],
   "source": [
    "np.random.seed(6)\n",
    "x = np.arange(1, 11)\n",
    "y1 = np.random.randint(1, 400, 10)\n",
    "y2 = np.random.randint(150, 500, 10)\n",
    "y3 = np.random.randint(200, 600, 10)\n",
    "plt.figure(figsize = (15, 5))\n",
    "plt.suptitle('Figura', fontsize = 15)\n",
    "\n",
    "plt.subplot(1, 3, 1)\n",
    "plt.plot(x, y1, color = 'k')\n",
    "plt.title('Subplot 1', pad = 10)\n",
    "plt.xlabel('Eixo X')\n",
    "plt.ylabel('Eixo Y')\n",
    "\n",
    "plt.subplot(1, 3, 2)\n",
    "plt.plot(x, y2, color = 'r')\n",
    "plt.title('Subplot 2', pad = 10)\n",
    "plt.xlabel('Eixo X')\n",
    "plt.ylabel('Eixo Y')\n",
    "\n",
    "plt.subplot(1, 3, 3)\n",
    "plt.plot(x, y3, color = 'g')\n",
    "plt.title('Subplot 3', pad = 10)\n",
    "plt.xlabel('Eixo X')\n",
    "plt.ylabel('Eixo Y')\n",
    "\n",
    "plt.tight_layout(pad = 4)\n",
    "plt.show()"
   ]
  },
  {
   "cell_type": "markdown",
   "metadata": {},
   "source": [
    "Criando subplots de outra maneira"
   ]
  },
  {
   "cell_type": "code",
   "execution_count": null,
   "metadata": {},
   "outputs": [],
   "source": [
    "fig, ax = plt.subplots(1, 3, figsize = (15, 4))\n",
    "fig.suptitle('Figure')\n",
    "ax[0].plot(x, y1, color= 'black')\n",
    "ax[1].plot(x, y2, color= 'red')\n",
    "ax[2].plot(x, y3, color= 'green')\n",
    "\n",
    "for i in range(3):\n",
    "    ax[i].set(title = f'Subplot {i+1}', xlabel = 'Eixo X', ylabel = 'Eixo Y')"
   ]
  },
  {
   "cell_type": "markdown",
   "metadata": {},
   "source": [
    "Histograma e boxplot"
   ]
  },
  {
   "cell_type": "code",
   "execution_count": null,
   "metadata": {},
   "outputs": [],
   "source": [
    "import numpy as np\n",
    "import matplotlib.pyplot as plt"
   ]
  },
  {
   "cell_type": "code",
   "execution_count": null,
   "metadata": {},
   "outputs": [],
   "source": [
    "data = np.random.normal(10, 0.5, 5000)\n",
    "plt.hist(data)\n",
    "plt.show()"
   ]
  },
  {
   "cell_type": "code",
   "execution_count": null,
   "metadata": {},
   "outputs": [],
   "source": [
    "plt.boxplot(data)"
   ]
  },
  {
   "cell_type": "markdown",
   "metadata": {},
   "source": [
    "Scatter plot"
   ]
  },
  {
   "cell_type": "code",
   "execution_count": null,
   "metadata": {},
   "outputs": [],
   "source": [
    "x = np.random.normal(10, 0.5, 100)\n",
    "y = np.random.uniform(0, 20, 100)\n",
    "\n",
    "fig = plt.figure()\n",
    "ax = plt.axes()\n",
    "ax.scatter(x, y, marker = 'o', color = 'red', label = 'data 1' \\\n",
    "          , alpha = 0.5)\n",
    "ax.scatter(x*0.5, y*0.5 ,marker = 'v', color = 'black', label = 'data 2',\\\n",
    "           alpha = 0.7)\n",
    "ax.legend()"
   ]
  },
  {
   "cell_type": "markdown",
   "metadata": {},
   "source": [
    "Dados econômicos"
   ]
  },
  {
   "cell_type": "code",
   "execution_count": null,
   "metadata": {},
   "outputs": [],
   "source": [
    "import plotly.express as px"
   ]
  },
  {
   "cell_type": "code",
   "execution_count": null,
   "metadata": {},
   "outputs": [],
   "source": [
    "px.data.gapminder()"
   ]
  },
  {
   "cell_type": "code",
   "execution_count": null,
   "metadata": {},
   "outputs": [],
   "source": [
    "df = px.data.gapminder().query('country == \"Brazil\"').set_index('year')"
   ]
  },
  {
   "cell_type": "code",
   "execution_count": null,
   "metadata": {},
   "outputs": [],
   "source": [
    "df.head()"
   ]
  },
  {
   "cell_type": "code",
   "execution_count": null,
   "metadata": {},
   "outputs": [],
   "source": [
    "plt.plot(df.index, df['gdpPercap'])\n",
    "plt.title('PIB per capita do Brazil')\n",
    "plt.ylabel('PIB per capita')\n",
    "plt.xlabel('Tempo')"
   ]
  },
  {
   "cell_type": "code",
   "execution_count": null,
   "metadata": {},
   "outputs": [],
   "source": [
    "df.head()"
   ]
  },
  {
   "cell_type": "code",
   "execution_count": null,
   "metadata": {},
   "outputs": [],
   "source": [
    "plt.figure(figsize = (10, 4))\n",
    "plt.scatter(df['lifeExp'], df['gdpPercap'], cmap = 'viridis')\n",
    "plt.xlabel('Expectativa de vida')\n",
    "plt.ylabel('Renda per capita')\n",
    "plt.title = ('Relação entre expectativa de vida')\n",
    "plt.show()"
   ]
  },
  {
   "cell_type": "code",
   "execution_count": null,
   "metadata": {
    "scrolled": true
   },
   "outputs": [],
   "source": [
    "plt.bar(x = df.index, \n",
    "        height = df['pop'], \n",
    "        color = 'red'\n",
    "       )\n",
    "plt.title(\"População brasileira ao longo dos anos\");"
   ]
  },
  {
   "cell_type": "code",
   "execution_count": null,
   "metadata": {},
   "outputs": [],
   "source": [
    "def filtrar_continente(continente):\n",
    "    df = px.data.gapminder()\n",
    "    df = df[df['continent'] == continente]\n",
    "    return df"
   ]
  },
  {
   "cell_type": "code",
   "execution_count": null,
   "metadata": {},
   "outputs": [],
   "source": [
    "def filtrar_pais(pais, variavel):\n",
    "    'Filtra algum pais de amostra para as variaveis \"pop\", e \"gdpPercap\"'\n",
    "    df = px.data.gapminder()\n",
    "    df = df[df['country'] == pais][variavel]\n",
    "    return df"
   ]
  },
  {
   "cell_type": "code",
   "execution_count": null,
   "metadata": {
    "scrolled": true
   },
   "outputs": [],
   "source": [
    "americas = filtrar_continente('Americas')\n",
    "paises = americas['country'].unique()\n",
    "plt.figure(figsize = (12, 8))\n",
    "for pais in paises:\n",
    "    plt.scatter(filtrar_pais(pais = pais,\n",
    "                            variavel = 'lifeExp'),\n",
    "               filtrar_pais(pais = pais,\n",
    "                           variavel = 'gdpPercap'))\n",
    "plt.legend(labels = paises, loc = 'best')\n",
    "plt.title('Relação entre renda per capita e expectativa de vida', loc = 'left')\n",
    "plt.xlabel('Expectativa de vida')\n",
    "plt.ylabel('Renda per capita');\n",
    "plt.show()"
   ]
  },
  {
   "cell_type": "markdown",
   "metadata": {},
   "source": [
    "###### Seaborn"
   ]
  },
  {
   "cell_type": "markdown",
   "metadata": {},
   "source": [
    "O seaborn é uma biblioteca de vizualização de dados do python baseado no Matplotlib. Ele provê uma interface de alto nivel para construção de gráficos estatísticos atrativos e informativos."
   ]
  },
  {
   "cell_type": "code",
   "execution_count": null,
   "metadata": {},
   "outputs": [],
   "source": [
    "import numpy as np\n",
    "import pandas as pd\n",
    "import seaborn as sns"
   ]
  },
  {
   "cell_type": "code",
   "execution_count": null,
   "metadata": {},
   "outputs": [],
   "source": [
    "#definir tema\n",
    "sns.set_theme(style='darkgrid')"
   ]
  },
  {
   "cell_type": "code",
   "execution_count": null,
   "metadata": {},
   "outputs": [],
   "source": [
    "#dados \n",
    "Base_dados = sns.load_dataset('tips')\n",
    "\n",
    "#verificar\n",
    "Base_dados.head()"
   ]
  },
  {
   "cell_type": "code",
   "execution_count": null,
   "metadata": {},
   "outputs": [],
   "source": [
    "#Renomeando as colunas\n",
    "Base_dados.rename( columns = {\n",
    "    'total_bill' : 'Conta total',\n",
    "    'tip' : 'Gorjeta',\n",
    "    'sex' : 'Sexo',\n",
    "    'smoker' : 'Fumante',\n",
    "    'day' : 'Dia da semana',\n",
    "    'time' : 'Periodo',\n",
    "    'size' : 'Pessoas na mesa'\n",
    "}, inplace = True)"
   ]
  },
  {
   "cell_type": "code",
   "execution_count": null,
   "metadata": {},
   "outputs": [],
   "source": [
    "Base_dados.head()"
   ]
  },
  {
   "cell_type": "markdown",
   "metadata": {},
   "source": [
    "Gráfico Relplot"
   ]
  },
  {
   "cell_type": "code",
   "execution_count": null,
   "metadata": {},
   "outputs": [],
   "source": [
    "#Gráfico relplot\n",
    "sns.relplot (x = 'Conta total', y = 'Gorjeta', data = Base_dados);"
   ]
  },
  {
   "cell_type": "code",
   "execution_count": null,
   "metadata": {},
   "outputs": [],
   "source": [
    "#passando outro parametro como classe no gráfico\n",
    "sns.relplot (x = 'Conta total', y = 'Gorjeta', data = Base_dados, hue='Sexo');"
   ]
  },
  {
   "cell_type": "code",
   "execution_count": null,
   "metadata": {},
   "outputs": [],
   "source": [
    "sns.relplot(x = 'Conta total', y = 'Gorjeta', data=Base_dados, kind='line');"
   ]
  },
  {
   "cell_type": "code",
   "execution_count": null,
   "metadata": {},
   "outputs": [],
   "source": [
    "sns.relplot(x = 'Conta total', y = 'Gorjeta', data=Base_dados,\n",
    "            kind='line', hue = 'Fumante');"
   ]
  },
  {
   "cell_type": "markdown",
   "metadata": {},
   "source": [
    "Gráfico Histplot"
   ]
  },
  {
   "cell_type": "code",
   "execution_count": null,
   "metadata": {},
   "outputs": [],
   "source": [
    "#grafico histplot / histograma\n",
    "sns.histplot( data= Base_dados, x='Conta total');"
   ]
  },
  {
   "cell_type": "code",
   "execution_count": null,
   "metadata": {},
   "outputs": [],
   "source": [
    "sns.histplot( data= Base_dados, x='Conta total', hue='Fumante');"
   ]
  },
  {
   "cell_type": "markdown",
   "metadata": {},
   "source": [
    "Gráfico Barplot"
   ]
  },
  {
   "cell_type": "code",
   "execution_count": null,
   "metadata": {},
   "outputs": [],
   "source": [
    "#grafico barplot\n",
    "sns.barplot(data=Base_dados, x='Sexo', y ='Conta total', hue='Fumante');"
   ]
  },
  {
   "cell_type": "markdown",
   "metadata": {},
   "source": [
    "Gráfico Pairplot"
   ]
  },
  {
   "cell_type": "code",
   "execution_count": null,
   "metadata": {},
   "outputs": [],
   "source": [
    "#grafico pairplot\n",
    "sns.pairplot( Base_dados );"
   ]
  },
  {
   "cell_type": "code",
   "execution_count": null,
   "metadata": {},
   "outputs": [],
   "source": [
    "sns.pairplot( Base_dados, hue='Sexo' );"
   ]
  },
  {
   "cell_type": "code",
   "execution_count": null,
   "metadata": {},
   "outputs": [],
   "source": [
    "sns.pairplot( Base_dados , kind='kde');"
   ]
  },
  {
   "cell_type": "markdown",
   "metadata": {},
   "source": [
    "Gráfico Boxplot"
   ]
  },
  {
   "cell_type": "code",
   "execution_count": null,
   "metadata": {},
   "outputs": [],
   "source": [
    "#grafico boxplot\n",
    "sns.boxplot(data = Base_dados, x='Dia da semana', y = 'Conta total');"
   ]
  },
  {
   "cell_type": "code",
   "execution_count": null,
   "metadata": {},
   "outputs": [],
   "source": [
    "Base_dados.head()"
   ]
  },
  {
   "cell_type": "code",
   "execution_count": null,
   "metadata": {},
   "outputs": [],
   "source": [
    "sns.boxplot(data = Base_dados, x='Dia da semana', \n",
    "            y = 'Conta total', hue='Sexo');"
   ]
  },
  {
   "cell_type": "markdown",
   "metadata": {},
   "source": [
    "# Estatistica Descritiva com Python"
   ]
  },
  {
   "cell_type": "markdown",
   "metadata": {},
   "source": [
    "Em sua essência, a Estatística é a ciência que apresenta processos próprios para coletar, apresentar e interpretar adequadamente conjuntos de dados, sejam númericos ou não. Pode-se dizer que seu objetivo é de apresentar informações sobre dados em análise para que se tenha maior compreensão dos fatos que os mesmos representam"
   ]
  },
  {
   "cell_type": "code",
   "execution_count": null,
   "metadata": {},
   "outputs": [],
   "source": [
    "import pandas as pd\n",
    "import seaborn as sns\n",
    "import matplotlib.pyplot as plt\n",
    "import warnings\n",
    "warnings.filterwarnings('ignore')"
   ]
  },
  {
   "cell_type": "code",
   "execution_count": null,
   "metadata": {},
   "outputs": [],
   "source": [
    "Base_dados = sns.load_dataset('iris')\n",
    "Base_dados.head()"
   ]
  },
  {
   "cell_type": "code",
   "execution_count": null,
   "metadata": {},
   "outputs": [],
   "source": [
    "Base_dados.shape"
   ]
  },
  {
   "cell_type": "markdown",
   "metadata": {},
   "source": [
    "### Medidas de tendência central"
   ]
  },
  {
   "cell_type": "markdown",
   "metadata": {},
   "source": [
    "###### Média arítimética"
   ]
  },
  {
   "cell_type": "markdown",
   "metadata": {},
   "source": [
    "A média aritimética (x) é a soma de todos os valores observados da variável dividida pelo número total de observações."
   ]
  },
  {
   "cell_type": "code",
   "execution_count": null,
   "metadata": {},
   "outputs": [],
   "source": [
    "Base_dados['petal_length'].mean()"
   ]
  },
  {
   "cell_type": "markdown",
   "metadata": {},
   "source": [
    "###### Moda"
   ]
  },
  {
   "cell_type": "code",
   "execution_count": null,
   "metadata": {},
   "outputs": [],
   "source": [
    "Base_dados['petal_length'].mode()"
   ]
  },
  {
   "cell_type": "markdown",
   "metadata": {},
   "source": [
    "###### Mediana"
   ]
  },
  {
   "cell_type": "code",
   "execution_count": null,
   "metadata": {},
   "outputs": [],
   "source": [
    "Base_dados['petal_length'].median()"
   ]
  },
  {
   "cell_type": "markdown",
   "metadata": {},
   "source": [
    "### Medidas Separatrizes"
   ]
  },
  {
   "cell_type": "markdown",
   "metadata": {},
   "source": [
    "Estas medidas são valores que ocupam posições no conjunto de dados, em rol, dividindo-o em partes iguais e podem ser."
   ]
  },
  {
   "cell_type": "markdown",
   "metadata": {},
   "source": [
    "**Quartil**: Os quartis dividem o conjunto de dados em quatro partes iguais."
   ]
  },
  {
   "cell_type": "code",
   "execution_count": null,
   "metadata": {},
   "outputs": [],
   "source": [
    "from PIL import Image"
   ]
  },
  {
   "cell_type": "code",
   "execution_count": null,
   "metadata": {},
   "outputs": [],
   "source": [
    "img = Image.open(\"quartil.png\")"
   ]
  },
  {
   "cell_type": "code",
   "execution_count": null,
   "metadata": {},
   "outputs": [],
   "source": [
    "type(img)"
   ]
  },
  {
   "cell_type": "code",
   "execution_count": null,
   "metadata": {},
   "outputs": [],
   "source": [
    "display(img)"
   ]
  },
  {
   "cell_type": "markdown",
   "metadata": {},
   "source": [
    "<img src='quartil.png'>"
   ]
  },
  {
   "cell_type": "markdown",
   "metadata": {},
   "source": [
    "###### Medidas de dispersão"
   ]
  },
  {
   "cell_type": "markdown",
   "metadata": {},
   "source": [
    "As medidas de dispersão auxiliam as medidas de tendência central a descrever o conjunto de dados adequadamente. Indicam se os dados estão ou não, próximos uns dos outros"
   ]
  },
  {
   "cell_type": "markdown",
   "metadata": {},
   "source": [
    "**Amplitude total**"
   ]
  },
  {
   "cell_type": "markdown",
   "metadata": {},
   "source": [
    "A amplitude total de um conjunto de dados é a diferença entre o maior e o menor valor observado."
   ]
  },
  {
   "cell_type": "code",
   "execution_count": null,
   "metadata": {},
   "outputs": [],
   "source": []
  },
  {
   "cell_type": "code",
   "execution_count": null,
   "metadata": {},
   "outputs": [],
   "source": []
  },
  {
   "cell_type": "code",
   "execution_count": null,
   "metadata": {},
   "outputs": [],
   "source": []
  }
 ],
 "metadata": {
  "colab": {
   "provenance": []
  },
  "kernelspec": {
   "display_name": "Python 3 (ipykernel)",
   "language": "python",
   "name": "python3"
  },
  "language_info": {
   "codemirror_mode": {
    "name": "ipython",
    "version": 3
   },
   "file_extension": ".py",
   "mimetype": "text/x-python",
   "name": "python",
   "nbconvert_exporter": "python",
   "pygments_lexer": "ipython3",
   "version": "3.9.13"
  }
 },
 "nbformat": 4,
 "nbformat_minor": 1
}
