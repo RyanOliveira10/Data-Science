{
  "nbformat": 4,
  "nbformat_minor": 0,
  "metadata": {
    "colab": {
      "provenance": [],
      "authorship_tag": "ABX9TyPRe7ZTjMYmX9fXA2FJBZwZ",
      "include_colab_link": true
    },
    "kernelspec": {
      "name": "python3",
      "display_name": "Python 3"
    },
    "language_info": {
      "name": "python"
    }
  },
  "cells": [
    {
      "cell_type": "markdown",
      "metadata": {
        "id": "view-in-github",
        "colab_type": "text"
      },
      "source": [
        "<a href=\"https://colab.research.google.com/github/RyanOliveira10/Data-Science/blob/main/Learning_Python.ipynb\" target=\"_parent\"><img src=\"https://colab.research.google.com/assets/colab-badge.svg\" alt=\"Open In Colab\"/></a>"
      ]
    },
    {
      "cell_type": "markdown",
      "source": [
        "# Curso de python"
      ],
      "metadata": {
        "id": "UxBkZRAo8ToE"
      }
    },
    {
      "cell_type": "markdown",
      "source": [
        "### Manipulando dados"
      ],
      "metadata": {
        "id": "e_0jAIer85gp"
      }
    },
    {
      "cell_type": "markdown",
      "source": [
        "###### 1 Comando Round"
      ],
      "metadata": {
        "id": "wjf-Dpys9FtS"
      }
    },
    {
      "cell_type": "code",
      "source": [
        "valor_exemplo = 12.123456789\n",
        "print(valor_exemplo)"
      ],
      "metadata": {
        "colab": {
          "base_uri": "https://localhost:8080/"
        },
        "id": "3i35TRzh9Isp",
        "outputId": "72f9dff3-ce06-4cd3-af42-9eefccf8b5f8"
      },
      "execution_count": null,
      "outputs": [
        {
          "output_type": "stream",
          "name": "stdout",
          "text": [
            "12.123456789\n"
          ]
        }
      ]
    },
    {
      "cell_type": "code",
      "source": [
        "round(valor_exemplo, 2)"
      ],
      "metadata": {
        "colab": {
          "base_uri": "https://localhost:8080/"
        },
        "id": "ysglKcAX-d8g",
        "outputId": "8f0e7b7e-ed15-41a2-8298-0bd74c3383f2"
      },
      "execution_count": null,
      "outputs": [
        {
          "output_type": "execute_result",
          "data": {
            "text/plain": [
              "12.12"
            ]
          },
          "metadata": {},
          "execution_count": 2
        }
      ]
    },
    {
      "cell_type": "markdown",
      "source": [
        "###### 2 Comando Len"
      ],
      "metadata": {
        "id": "EPW7NzrP-8wh"
      }
    },
    {
      "cell_type": "markdown",
      "source": [
        "A função len() retorna a quantidade de elementos de qualquer lista em python"
      ],
      "metadata": {
        "id": "o58WPQEt_Epw"
      }
    },
    {
      "cell_type": "code",
      "source": [
        "Lista = [1, 2, 3, 4, 5, 6, 7, 8, 9]\n",
        "Dicionario = {\n",
        "    'nome' : 'josé',\n",
        "    'Idade' : 29\n",
        "    }\n",
        "Tupla = (1, 2, 3, 4)\n",
        "String = 'Ola mundo'"
      ],
      "metadata": {
        "id": "sXuYJxs5_AeS"
      },
      "execution_count": null,
      "outputs": []
    },
    {
      "cell_type": "code",
      "source": [
        "len(Lista)"
      ],
      "metadata": {
        "colab": {
          "base_uri": "https://localhost:8080/"
        },
        "id": "otrMemaQ_14b",
        "outputId": "0c1bce23-41d6-4231-d24b-b93259b17e2d"
      },
      "execution_count": null,
      "outputs": [
        {
          "output_type": "execute_result",
          "data": {
            "text/plain": [
              "9"
            ]
          },
          "metadata": {},
          "execution_count": 4
        }
      ]
    },
    {
      "cell_type": "code",
      "source": [
        "len(Dicionario)"
      ],
      "metadata": {
        "colab": {
          "base_uri": "https://localhost:8080/"
        },
        "id": "5SJNwIZc_4VS",
        "outputId": "ccd48e2a-29fc-4417-fc4b-aca8be35d3e2"
      },
      "execution_count": null,
      "outputs": [
        {
          "output_type": "execute_result",
          "data": {
            "text/plain": [
              "2"
            ]
          },
          "metadata": {},
          "execution_count": 5
        }
      ]
    },
    {
      "cell_type": "code",
      "source": [
        "len(Tupla)"
      ],
      "metadata": {
        "colab": {
          "base_uri": "https://localhost:8080/"
        },
        "id": "1V51SCrL_68i",
        "outputId": "d1b5b8be-f772-4daa-b49a-5ab3f24cb3c9"
      },
      "execution_count": null,
      "outputs": [
        {
          "output_type": "execute_result",
          "data": {
            "text/plain": [
              "4"
            ]
          },
          "metadata": {},
          "execution_count": 6
        }
      ]
    },
    {
      "cell_type": "code",
      "source": [
        "len(String)"
      ],
      "metadata": {
        "colab": {
          "base_uri": "https://localhost:8080/"
        },
        "id": "-STnLmek_-zr",
        "outputId": "2d0052e8-b00c-41ff-b865-0cd05ad6e039"
      },
      "execution_count": null,
      "outputs": [
        {
          "output_type": "execute_result",
          "data": {
            "text/plain": [
              "9"
            ]
          },
          "metadata": {},
          "execution_count": 7
        }
      ]
    },
    {
      "cell_type": "markdown",
      "source": [
        "###### 3 Fatiamento de Strings"
      ],
      "metadata": {
        "id": "IKdMHevpApOR"
      }
    },
    {
      "cell_type": "markdown",
      "source": [
        "Strings são listas de bytes representando caracteres.\n",
        "Podemos acessar suas posicões usando colchetes"
      ],
      "metadata": {
        "id": "iJuP2M9XAwBZ"
      }
    },
    {
      "cell_type": "code",
      "source": [
        "String_exemplo = \"o meu nome é Ryan Junio\"\n",
        "print( type(String_exemplo))\n",
        "print( len(String_exemplo))"
      ],
      "metadata": {
        "colab": {
          "base_uri": "https://localhost:8080/"
        },
        "id": "eibHSX44A8OD",
        "outputId": "feb2b4f0-46a6-4685-bae0-c23d7f328477"
      },
      "execution_count": null,
      "outputs": [
        {
          "output_type": "stream",
          "name": "stdout",
          "text": [
            "<class 'str'>\n",
            "23\n"
          ]
        }
      ]
    },
    {
      "cell_type": "code",
      "source": [
        "String_exemplo[0]"
      ],
      "metadata": {
        "colab": {
          "base_uri": "https://localhost:8080/",
          "height": 35
        },
        "id": "gB0JjinIBNHf",
        "outputId": "3ff81b7d-2dd5-407a-9c75-32f1c8f05a01"
      },
      "execution_count": null,
      "outputs": [
        {
          "output_type": "execute_result",
          "data": {
            "text/plain": [
              "'o'"
            ],
            "application/vnd.google.colaboratory.intrinsic+json": {
              "type": "string"
            }
          },
          "metadata": {},
          "execution_count": 9
        }
      ]
    },
    {
      "cell_type": "code",
      "source": [
        "String_exemplo[7]"
      ],
      "metadata": {
        "colab": {
          "base_uri": "https://localhost:8080/",
          "height": 35
        },
        "id": "C6dWEbvHBas7",
        "outputId": "122d99bc-872a-435b-cf4c-b7f70a972c66"
      },
      "execution_count": null,
      "outputs": [
        {
          "output_type": "execute_result",
          "data": {
            "text/plain": [
              "'o'"
            ],
            "application/vnd.google.colaboratory.intrinsic+json": {
              "type": "string"
            }
          },
          "metadata": {},
          "execution_count": 10
        }
      ]
    },
    {
      "cell_type": "code",
      "source": [
        "String_exemplo[18]"
      ],
      "metadata": {
        "colab": {
          "base_uri": "https://localhost:8080/",
          "height": 35
        },
        "id": "XXl9vgO7BeR8",
        "outputId": "4051fd67-0c28-4147-cb08-d08e342eeb36"
      },
      "execution_count": null,
      "outputs": [
        {
          "output_type": "execute_result",
          "data": {
            "text/plain": [
              "'J'"
            ],
            "application/vnd.google.colaboratory.intrinsic+json": {
              "type": "string"
            }
          },
          "metadata": {},
          "execution_count": 11
        }
      ]
    },
    {
      "cell_type": "code",
      "source": [
        "CPF = 'CPF:123456789'\n",
        "CPF[-9:]"
      ],
      "metadata": {
        "colab": {
          "base_uri": "https://localhost:8080/",
          "height": 35
        },
        "id": "LtJuMOQtBkJh",
        "outputId": "7b7e0542-342a-4aa5-e9e7-22c942e4bc6e"
      },
      "execution_count": null,
      "outputs": [
        {
          "output_type": "execute_result",
          "data": {
            "text/plain": [
              "'123456789'"
            ],
            "application/vnd.google.colaboratory.intrinsic+json": {
              "type": "string"
            }
          },
          "metadata": {},
          "execution_count": 12
        }
      ]
    },
    {
      "cell_type": "markdown",
      "source": [
        "###### 4 Manipulando Strings"
      ],
      "metadata": {
        "id": "Jj6xA3IeCgCD"
      }
    },
    {
      "cell_type": "markdown",
      "source": [
        "Um tipo de dados bastante comum no dia a dia são strings ou cadeia de caracteres. o tipo de dados string é chamado de str, possui várias operações úteis. Algumas funções utilizadas são:\n",
        "  1.replace\n",
        "\n",
        "1.   count\n",
        "2.   capitalize\n",
        "3.   replace\n",
        "4.   upper\n",
        "5.   lower\n",
        "6.   find\n",
        "7.   strip\n",
        "8.   split\n",
        "\n",
        "\n",
        "\n",
        "\n",
        "\n"
      ],
      "metadata": {
        "id": "GEHkHd7lClcO"
      }
    },
    {
      "cell_type": "code",
      "source": [
        "String = 'ola mundo'\n",
        "print(String)"
      ],
      "metadata": {
        "colab": {
          "base_uri": "https://localhost:8080/"
        },
        "id": "Ym_lvxkBDFcT",
        "outputId": "20e42aee-b82e-4eaf-a79a-149391350a3c"
      },
      "execution_count": null,
      "outputs": [
        {
          "output_type": "stream",
          "name": "stdout",
          "text": [
            "ola mundo\n"
          ]
        }
      ]
    },
    {
      "cell_type": "code",
      "source": [
        "len(String)"
      ],
      "metadata": {
        "colab": {
          "base_uri": "https://localhost:8080/"
        },
        "id": "Z9W6wwyFEBNP",
        "outputId": "aee235b9-9c68-4019-d27e-eca9f6c80486"
      },
      "execution_count": null,
      "outputs": [
        {
          "output_type": "execute_result",
          "data": {
            "text/plain": [
              "9"
            ]
          },
          "metadata": {},
          "execution_count": 14
        }
      ]
    },
    {
      "cell_type": "code",
      "source": [
        "type( String)"
      ],
      "metadata": {
        "colab": {
          "base_uri": "https://localhost:8080/"
        },
        "id": "Y29SSs3yEDYs",
        "outputId": "e8da8bc9-ffa4-402f-a430-d0cee2f4d4bc"
      },
      "execution_count": null,
      "outputs": [
        {
          "output_type": "execute_result",
          "data": {
            "text/plain": [
              "str"
            ]
          },
          "metadata": {},
          "execution_count": 15
        }
      ]
    },
    {
      "cell_type": "code",
      "source": [
        "# Replace -> substituir\n",
        "String.replace('mundo', 'Mundao')"
      ],
      "metadata": {
        "colab": {
          "base_uri": "https://localhost:8080/",
          "height": 35
        },
        "id": "lvSEn8ywEFzp",
        "outputId": "e47ab1bc-f5c8-4de3-d521-1d1806b220f6"
      },
      "execution_count": null,
      "outputs": [
        {
          "output_type": "execute_result",
          "data": {
            "text/plain": [
              "'ola Mundao'"
            ],
            "application/vnd.google.colaboratory.intrinsic+json": {
              "type": "string"
            }
          },
          "metadata": {},
          "execution_count": 16
        }
      ]
    },
    {
      "cell_type": "code",
      "source": [
        "#transforma letras em maiusculas\n",
        "String.upper()"
      ],
      "metadata": {
        "colab": {
          "base_uri": "https://localhost:8080/",
          "height": 35
        },
        "id": "ussirLY9EQiJ",
        "outputId": "959a786b-c671-43ff-9fc3-84a5f4aa8a8c"
      },
      "execution_count": null,
      "outputs": [
        {
          "output_type": "execute_result",
          "data": {
            "text/plain": [
              "'OLA MUNDO'"
            ],
            "application/vnd.google.colaboratory.intrinsic+json": {
              "type": "string"
            }
          },
          "metadata": {},
          "execution_count": 17
        }
      ]
    },
    {
      "cell_type": "code",
      "source": [
        "#conta palavras\n",
        "String.count('m')"
      ],
      "metadata": {
        "colab": {
          "base_uri": "https://localhost:8080/"
        },
        "id": "9XAvCAUYE0Iu",
        "outputId": "77972dd6-1e7e-4596-fab3-c2211f6327a8"
      },
      "execution_count": null,
      "outputs": [
        {
          "output_type": "execute_result",
          "data": {
            "text/plain": [
              "1"
            ]
          },
          "metadata": {},
          "execution_count": 22
        }
      ]
    },
    {
      "cell_type": "code",
      "source": [
        "#transformação\n",
        "Nome = 'ryan Junio'\n",
        "Nome.capitalize()"
      ],
      "metadata": {
        "colab": {
          "base_uri": "https://localhost:8080/",
          "height": 35
        },
        "id": "A1jjVxzEE7Es",
        "outputId": "5d89a96c-d4ee-43ec-e7cc-9613e68f8ca1"
      },
      "execution_count": null,
      "outputs": [
        {
          "output_type": "execute_result",
          "data": {
            "text/plain": [
              "'Ryan junio'"
            ],
            "application/vnd.google.colaboratory.intrinsic+json": {
              "type": "string"
            }
          },
          "metadata": {},
          "execution_count": 23
        }
      ]
    },
    {
      "cell_type": "code",
      "source": [
        "# Verificar se existe dígitos na string\n",
        "String_cpf = '123456789'\n",
        "String_cpf.isdigit()"
      ],
      "metadata": {
        "colab": {
          "base_uri": "https://localhost:8080/"
        },
        "id": "jfKg0DmXFedc",
        "outputId": "41a849b7-55e1-448a-81ca-74a2eb560517"
      },
      "execution_count": null,
      "outputs": [
        {
          "output_type": "execute_result",
          "data": {
            "text/plain": [
              "True"
            ]
          },
          "metadata": {},
          "execution_count": 24
        }
      ]
    },
    {
      "cell_type": "markdown",
      "source": [
        "###### 5 Comando Input"
      ],
      "metadata": {
        "id": "4Nc5oRH4HBD7"
      }
    },
    {
      "cell_type": "markdown",
      "source": [
        "A função Input() recebe como parâmetro uma string que será mostrada como auxilio ao usuário, geralmente o programa agurada receber"
      ],
      "metadata": {
        "id": "d9kO_ESrHHJD"
      }
    },
    {
      "cell_type": "code",
      "source": [
        "input(\"digite alguma mensagem: \")"
      ],
      "metadata": {
        "colab": {
          "base_uri": "https://localhost:8080/",
          "height": 52
        },
        "id": "W95veMNXHXNd",
        "outputId": "a1b8bdb7-3996-4c0e-a234-01977a707d70"
      },
      "execution_count": null,
      "outputs": [
        {
          "name": "stdout",
          "output_type": "stream",
          "text": [
            "digite alguma mensagem: alguma mensagem\n"
          ]
        },
        {
          "output_type": "execute_result",
          "data": {
            "text/plain": [
              "'alguma mensagem'"
            ],
            "application/vnd.google.colaboratory.intrinsic+json": {
              "type": "string"
            }
          },
          "metadata": {},
          "execution_count": 25
        }
      ]
    },
    {
      "cell_type": "code",
      "source": [
        "Nome = input(\"qual seu nome?: \")\n",
        "Idade = input(\"qual sua idade?: \")\n",
        "\n",
        "print(\"seu nome é \" + Nome + \" e sua idade é \" + Idade)"
      ],
      "metadata": {
        "colab": {
          "base_uri": "https://localhost:8080/"
        },
        "id": "-lmbMyDeIEpI",
        "outputId": "73ec79ed-ee1a-48b6-a464-97e56c8c9085"
      },
      "execution_count": null,
      "outputs": [
        {
          "output_type": "stream",
          "name": "stdout",
          "text": [
            "qual seu nome?: Ryan\n",
            "qual sua idade?: 20\n",
            "seu nome é Ryan e sua idade é 20\n"
          ]
        }
      ]
    },
    {
      "cell_type": "code",
      "source": [],
      "metadata": {
        "id": "TWXKyIWJIa5N"
      },
      "execution_count": null,
      "outputs": []
    },
    {
      "cell_type": "markdown",
      "source": [
        "###### 6 Operadores de comparação"
      ],
      "metadata": {
        "id": "auFm92snJikc"
      }
    },
    {
      "cell_type": "markdown",
      "source": [
        "Os operadores de comparação são usados para comparar dois valores"
      ],
      "metadata": {
        "id": "hjRRPmt9Jpsr"
      }
    },
    {
      "cell_type": "code",
      "source": [
        "10 == 10"
      ],
      "metadata": {
        "colab": {
          "base_uri": "https://localhost:8080/"
        },
        "id": "I-k2byZ4JocO",
        "outputId": "ba075efc-b0c2-4108-db42-59edc1d31151"
      },
      "execution_count": null,
      "outputs": [
        {
          "output_type": "execute_result",
          "data": {
            "text/plain": [
              "True"
            ]
          },
          "metadata": {},
          "execution_count": 27
        }
      ]
    },
    {
      "cell_type": "code",
      "source": [
        "10 > 15"
      ],
      "metadata": {
        "colab": {
          "base_uri": "https://localhost:8080/"
        },
        "id": "VIV0VajuJ1Sm",
        "outputId": "c6be03c6-4e59-4a07-b643-ff03e335292b"
      },
      "execution_count": null,
      "outputs": [
        {
          "output_type": "execute_result",
          "data": {
            "text/plain": [
              "False"
            ]
          },
          "metadata": {},
          "execution_count": 28
        }
      ]
    },
    {
      "cell_type": "code",
      "source": [
        "10 <= 11"
      ],
      "metadata": {
        "colab": {
          "base_uri": "https://localhost:8080/"
        },
        "id": "Qimw1qV-J7c_",
        "outputId": "f811d0ec-04e1-4bd9-c207-1775475c5f1f"
      },
      "execution_count": null,
      "outputs": [
        {
          "output_type": "execute_result",
          "data": {
            "text/plain": [
              "True"
            ]
          },
          "metadata": {},
          "execution_count": 29
        }
      ]
    },
    {
      "cell_type": "code",
      "source": [
        "10 != 12"
      ],
      "metadata": {
        "colab": {
          "base_uri": "https://localhost:8080/"
        },
        "id": "7lqzYmpCJ902",
        "outputId": "ded31205-0f4f-493d-fb47-d1416e2f39bd"
      },
      "execution_count": null,
      "outputs": [
        {
          "output_type": "execute_result",
          "data": {
            "text/plain": [
              "True"
            ]
          },
          "metadata": {},
          "execution_count": 30
        }
      ]
    },
    {
      "cell_type": "code",
      "source": [],
      "metadata": {
        "id": "1S7ADSsYKABH"
      },
      "execution_count": null,
      "outputs": []
    },
    {
      "cell_type": "markdown",
      "source": [
        "###### 7 Operadores Lógicos"
      ],
      "metadata": {
        "id": "alTsF1CIKU6u"
      }
    },
    {
      "cell_type": "markdown",
      "source": [
        "Os operadores lógicos são usados para combinar instruções condicionais"
      ],
      "metadata": {
        "id": "sPe6j2loKeMY"
      }
    },
    {
      "cell_type": "code",
      "source": [
        "10 > 2 and 10 > 3"
      ],
      "metadata": {
        "colab": {
          "base_uri": "https://localhost:8080/"
        },
        "id": "Fqw3lxGSKba2",
        "outputId": "32c33d8c-8674-405a-81aa-7476572c2841"
      },
      "execution_count": null,
      "outputs": [
        {
          "output_type": "execute_result",
          "data": {
            "text/plain": [
              "True"
            ]
          },
          "metadata": {},
          "execution_count": 31
        }
      ]
    },
    {
      "cell_type": "code",
      "source": [
        "10 > 0 or 10 > 1 "
      ],
      "metadata": {
        "colab": {
          "base_uri": "https://localhost:8080/"
        },
        "id": "YNOpfat9M0Sx",
        "outputId": "00cf825f-30c0-43c3-a87c-62e052d1b33c"
      },
      "execution_count": null,
      "outputs": [
        {
          "output_type": "execute_result",
          "data": {
            "text/plain": [
              "True"
            ]
          },
          "metadata": {},
          "execution_count": 32
        }
      ]
    },
    {
      "cell_type": "code",
      "source": [
        "not 10 > 0"
      ],
      "metadata": {
        "colab": {
          "base_uri": "https://localhost:8080/"
        },
        "id": "zNZiG3uQM37g",
        "outputId": "4bf3e1a2-fcf3-4749-921a-ad17e305be30"
      },
      "execution_count": null,
      "outputs": [
        {
          "output_type": "execute_result",
          "data": {
            "text/plain": [
              "False"
            ]
          },
          "metadata": {},
          "execution_count": 33
        }
      ]
    },
    {
      "cell_type": "markdown",
      "source": [
        "###### 8 Pacote DateTime"
      ],
      "metadata": {
        "id": "anWAB-BeQkhI"
      }
    },
    {
      "cell_type": "code",
      "source": [
        "type('01/01/2022')"
      ],
      "metadata": {
        "id": "D-tddnmEQosQ",
        "colab": {
          "base_uri": "https://localhost:8080/"
        },
        "outputId": "2adb409b-0d9e-42fd-c467-f5903e088984"
      },
      "execution_count": null,
      "outputs": [
        {
          "output_type": "execute_result",
          "data": {
            "text/plain": [
              "str"
            ]
          },
          "metadata": {},
          "execution_count": 2
        }
      ]
    },
    {
      "cell_type": "code",
      "source": [
        "import datetime"
      ],
      "metadata": {
        "id": "9yU4ZHxielcX"
      },
      "execution_count": null,
      "outputs": []
    },
    {
      "cell_type": "code",
      "source": [
        "Dia_Hoje = datetime.datetime.today()\n",
        "print(Dia_Hoje)"
      ],
      "metadata": {
        "colab": {
          "base_uri": "https://localhost:8080/"
        },
        "id": "CFvF13gEeuX-",
        "outputId": "f578b726-ae87-4552-85ee-ca354e4f0987"
      },
      "execution_count": null,
      "outputs": [
        {
          "output_type": "stream",
          "name": "stdout",
          "text": [
            "2022-12-06 22:08:23.107910\n"
          ]
        }
      ]
    },
    {
      "cell_type": "code",
      "source": [
        "type (Dia_Hoje)"
      ],
      "metadata": {
        "colab": {
          "base_uri": "https://localhost:8080/"
        },
        "id": "TKrrhUHwe5q4",
        "outputId": "837b108b-6032-4674-a36f-af1e2fb289d6"
      },
      "execution_count": null,
      "outputs": [
        {
          "output_type": "execute_result",
          "data": {
            "text/plain": [
              "datetime.datetime"
            ]
          },
          "metadata": {},
          "execution_count": 5
        }
      ]
    },
    {
      "cell_type": "code",
      "source": [
        "print(datetime.datetime.today().date())"
      ],
      "metadata": {
        "colab": {
          "base_uri": "https://localhost:8080/"
        },
        "id": "mtYtpEqUe_PW",
        "outputId": "309746e0-2302-4ce2-c30f-f0b92248e7f8"
      },
      "execution_count": null,
      "outputs": [
        {
          "output_type": "stream",
          "name": "stdout",
          "text": [
            "2022-12-06\n"
          ]
        }
      ]
    },
    {
      "cell_type": "code",
      "source": [
        "Data = datetime.datetime.today().date()\n",
        "Ano = Data.year\n",
        "Mes = Data.month\n",
        "Dia = Data.day"
      ],
      "metadata": {
        "id": "IMOTFbGIfZj7"
      },
      "execution_count": null,
      "outputs": []
    },
    {
      "cell_type": "code",
      "source": [
        "print(Dia, Mes, Ano)"
      ],
      "metadata": {
        "colab": {
          "base_uri": "https://localhost:8080/"
        },
        "id": "fUxSBGZkfzQU",
        "outputId": "9dde0a84-8730-4d21-bc21-c8c16f5e3b23"
      },
      "execution_count": null,
      "outputs": [
        {
          "output_type": "stream",
          "name": "stdout",
          "text": [
            "6 12 2022\n"
          ]
        }
      ]
    },
    {
      "cell_type": "code",
      "source": [
        "Data_antiga =  datetime.date(2022, 1, 1)\n",
        "print(Data_antiga)"
      ],
      "metadata": {
        "colab": {
          "base_uri": "https://localhost:8080/"
        },
        "id": "Ue22GOp0f5st",
        "outputId": "f381c20b-0715-4a4e-eb09-21b40cdacf86"
      },
      "execution_count": null,
      "outputs": [
        {
          "output_type": "stream",
          "name": "stdout",
          "text": [
            "2022-01-01\n"
          ]
        }
      ]
    },
    {
      "cell_type": "code",
      "source": [
        "print(Data - Data_antiga)"
      ],
      "metadata": {
        "colab": {
          "base_uri": "https://localhost:8080/"
        },
        "id": "YPorGP63gKuW",
        "outputId": "ac846e29-9168-4d67-d409-515fdf18fe69"
      },
      "execution_count": null,
      "outputs": [
        {
          "output_type": "stream",
          "name": "stdout",
          "text": [
            "339 days, 0:00:00\n"
          ]
        }
      ]
    },
    {
      "cell_type": "code",
      "source": [
        "Data.strftime('%d/%m/%y')"
      ],
      "metadata": {
        "colab": {
          "base_uri": "https://localhost:8080/",
          "height": 35
        },
        "id": "O_r5UO3FgYnt",
        "outputId": "adb46261-7dc9-4227-cd9c-7008b643e8c4"
      },
      "execution_count": null,
      "outputs": [
        {
          "output_type": "execute_result",
          "data": {
            "text/plain": [
              "'06/12/22'"
            ],
            "application/vnd.google.colaboratory.intrinsic+json": {
              "type": "string"
            }
          },
          "metadata": {},
          "execution_count": 15
        }
      ]
    },
    {
      "cell_type": "markdown",
      "source": [
        "###### 9 Pacote Time"
      ],
      "metadata": {
        "id": "XNugJGmuiOgd"
      }
    },
    {
      "cell_type": "code",
      "source": [
        "import time"
      ],
      "metadata": {
        "id": "HFq0KivEiVVp"
      },
      "execution_count": null,
      "outputs": []
    },
    {
      "cell_type": "code",
      "source": [
        "print('Comecei agora...')\n",
        "time.sleep(5)\n",
        "print('terminei...')"
      ],
      "metadata": {
        "colab": {
          "base_uri": "https://localhost:8080/"
        },
        "id": "X--AS7e4iYR7",
        "outputId": "91d9a1a4-ad87-4674-d73e-c6562d090cf0"
      },
      "execution_count": null,
      "outputs": [
        {
          "output_type": "stream",
          "name": "stdout",
          "text": [
            "Comecei agora...\n",
            "terminei...\n"
          ]
        }
      ]
    },
    {
      "cell_type": "code",
      "source": [
        "agora = time.localtime()\n",
        "print(agora)\n",
        "print(type(agora))"
      ],
      "metadata": {
        "colab": {
          "base_uri": "https://localhost:8080/"
        },
        "id": "doJsa47cigyj",
        "outputId": "8d3a20f7-a1ad-4a57-aa9f-f93b32f077d6"
      },
      "execution_count": null,
      "outputs": [
        {
          "output_type": "stream",
          "name": "stdout",
          "text": [
            "time.struct_time(tm_year=2022, tm_mon=12, tm_mday=6, tm_hour=22, tm_min=28, tm_sec=55, tm_wday=1, tm_yday=340, tm_isdst=0)\n",
            "<class 'time.struct_time'>\n"
          ]
        }
      ]
    },
    {
      "cell_type": "code",
      "source": [
        "time.strftime('%m/%d/%y, %H:%M:%S', agora)"
      ],
      "metadata": {
        "colab": {
          "base_uri": "https://localhost:8080/",
          "height": 35
        },
        "id": "4-3IhQDKjho5",
        "outputId": "f146ae50-ba8a-430f-f693-2cedae5df3ad"
      },
      "execution_count": null,
      "outputs": [
        {
          "output_type": "execute_result",
          "data": {
            "text/plain": [
              "'12/06/22, 22:28:55'"
            ],
            "application/vnd.google.colaboratory.intrinsic+json": {
              "type": "string"
            }
          },
          "metadata": {},
          "execution_count": 26
        }
      ]
    },
    {
      "cell_type": "code",
      "source": [
        "Time_texto = '21 June, 2021'\n",
        "time.strptime( Time_texto, '%d %B, %Y')"
      ],
      "metadata": {
        "colab": {
          "base_uri": "https://localhost:8080/"
        },
        "id": "0Ntj-fg5kFar",
        "outputId": "982624e4-7858-48ea-b83c-e214654571f0"
      },
      "execution_count": null,
      "outputs": [
        {
          "output_type": "execute_result",
          "data": {
            "text/plain": [
              "time.struct_time(tm_year=2021, tm_mon=6, tm_mday=21, tm_hour=0, tm_min=0, tm_sec=0, tm_wday=0, tm_yday=172, tm_isdst=-1)"
            ]
          },
          "metadata": {},
          "execution_count": 29
        }
      ]
    },
    {
      "cell_type": "code",
      "source": [],
      "metadata": {
        "id": "vop1__b6ktJv"
      },
      "execution_count": null,
      "outputs": []
    },
    {
      "cell_type": "markdown",
      "source": [
        "###### 10 Pacote Math"
      ],
      "metadata": {
        "id": "I-iLS3GLle6Z"
      }
    },
    {
      "cell_type": "markdown",
      "source": [
        "O python possui um conjunto de funções matemáticas integradas, incluindo um extenso módulo matemático, que permite realizar tarefas matemáticas em números"
      ],
      "metadata": {
        "id": "XuzLkwetlom4"
      }
    },
    {
      "cell_type": "code",
      "source": [
        "import math"
      ],
      "metadata": {
        "id": "RVkcPXkJl1tA"
      },
      "execution_count": 30,
      "outputs": []
    },
    {
      "cell_type": "code",
      "source": [
        "Tupla = (10, 4, 20, 40)"
      ],
      "metadata": {
        "id": "cAoiqo5X0AaO"
      },
      "execution_count": 31,
      "outputs": []
    },
    {
      "cell_type": "code",
      "source": [
        "min(Tupla)\n",
        "max(Tupla)"
      ],
      "metadata": {
        "colab": {
          "base_uri": "https://localhost:8080/"
        },
        "id": "Pz81Nhny0EMO",
        "outputId": "0609b7d6-1626-4d40-e17e-057d338f475d"
      },
      "execution_count": 32,
      "outputs": [
        {
          "output_type": "execute_result",
          "data": {
            "text/plain": [
              "40"
            ]
          },
          "metadata": {},
          "execution_count": 32
        }
      ]
    },
    {
      "cell_type": "code",
      "source": [
        "abs(-7.25)"
      ],
      "metadata": {
        "colab": {
          "base_uri": "https://localhost:8080/"
        },
        "id": "KF5DuEne0JzP",
        "outputId": "12214726-9fc6-4f0a-d87c-d4606d260713"
      },
      "execution_count": 34,
      "outputs": [
        {
          "output_type": "execute_result",
          "data": {
            "text/plain": [
              "7.25"
            ]
          },
          "metadata": {},
          "execution_count": 34
        }
      ]
    },
    {
      "cell_type": "code",
      "source": [
        "pow(3, 4)"
      ],
      "metadata": {
        "colab": {
          "base_uri": "https://localhost:8080/"
        },
        "id": "cwqFZ0m50Pz2",
        "outputId": "482aad85-8588-484e-c9a5-ce757a9f72d6"
      },
      "execution_count": 35,
      "outputs": [
        {
          "output_type": "execute_result",
          "data": {
            "text/plain": [
              "81"
            ]
          },
          "metadata": {},
          "execution_count": 35
        }
      ]
    },
    {
      "cell_type": "code",
      "source": [
        "math.sqrt(81)"
      ],
      "metadata": {
        "colab": {
          "base_uri": "https://localhost:8080/"
        },
        "id": "3e50SR4d0Xvm",
        "outputId": "bda8e402-e8af-488a-e41b-9f61c2e59e07"
      },
      "execution_count": 36,
      "outputs": [
        {
          "output_type": "execute_result",
          "data": {
            "text/plain": [
              "9.0"
            ]
          },
          "metadata": {},
          "execution_count": 36
        }
      ]
    },
    {
      "cell_type": "code",
      "source": [
        "math.ceil(1.4)"
      ],
      "metadata": {
        "colab": {
          "base_uri": "https://localhost:8080/"
        },
        "id": "bMz3aQjA055-",
        "outputId": "053af075-467b-4484-a0ca-f97967ac15bc"
      },
      "execution_count": 37,
      "outputs": [
        {
          "output_type": "execute_result",
          "data": {
            "text/plain": [
              "2"
            ]
          },
          "metadata": {},
          "execution_count": 37
        }
      ]
    },
    {
      "cell_type": "code",
      "source": [
        "math.floor(1.4)"
      ],
      "metadata": {
        "colab": {
          "base_uri": "https://localhost:8080/"
        },
        "id": "1JSvqD_o1PdF",
        "outputId": "f77ee909-b303-4ac4-9cbc-5771a93e2de0"
      },
      "execution_count": 38,
      "outputs": [
        {
          "output_type": "execute_result",
          "data": {
            "text/plain": [
              "1"
            ]
          },
          "metadata": {},
          "execution_count": 38
        }
      ]
    },
    {
      "cell_type": "code",
      "source": [
        "math.pi"
      ],
      "metadata": {
        "colab": {
          "base_uri": "https://localhost:8080/"
        },
        "id": "qf5TljxV1TJg",
        "outputId": "99619f6b-dac4-4fd0-edc1-85ee2350c9c8"
      },
      "execution_count": 39,
      "outputs": [
        {
          "output_type": "execute_result",
          "data": {
            "text/plain": [
              "3.141592653589793"
            ]
          },
          "metadata": {},
          "execution_count": 39
        }
      ]
    },
    {
      "cell_type": "code",
      "source": [],
      "metadata": {
        "id": "nz-hyG7_1beJ"
      },
      "execution_count": null,
      "outputs": []
    },
    {
      "cell_type": "markdown",
      "source": [
        "###### 11 Pacote Random"
      ],
      "metadata": {
        "id": "VAZ8W5zX1fmF"
      }
    },
    {
      "cell_type": "markdown",
      "source": [
        "Este módulo implementa geradores de números aleatórios para várias distribuições"
      ],
      "metadata": {
        "id": "ZfvG7UUh2Hq-"
      }
    },
    {
      "cell_type": "code",
      "source": [
        "import random"
      ],
      "metadata": {
        "id": "GauA_h352Qw9"
      },
      "execution_count": 40,
      "outputs": []
    },
    {
      "cell_type": "code",
      "source": [
        "Lista = [1, 2, 3, 4, 5, 6, 7, 8, 9]\n",
        "random.choice(Lista)"
      ],
      "metadata": {
        "colab": {
          "base_uri": "https://localhost:8080/"
        },
        "id": "_6P_mapl4JHn",
        "outputId": "6a384376-eee3-4a04-d969-81c5d770ab8e"
      },
      "execution_count": 41,
      "outputs": [
        {
          "output_type": "execute_result",
          "data": {
            "text/plain": [
              "5"
            ]
          },
          "metadata": {},
          "execution_count": 41
        }
      ]
    },
    {
      "cell_type": "code",
      "source": [
        "palavra = 'ryan oliveira'\n",
        "random.choice(palavra)"
      ],
      "metadata": {
        "colab": {
          "base_uri": "https://localhost:8080/",
          "height": 35
        },
        "id": "K_3nmeP64THm",
        "outputId": "bc0ce99a-c0db-4ee4-b452-8e5ab725d682"
      },
      "execution_count": 42,
      "outputs": [
        {
          "output_type": "execute_result",
          "data": {
            "text/plain": [
              "'v'"
            ],
            "application/vnd.google.colaboratory.intrinsic+json": {
              "type": "string"
            }
          },
          "metadata": {},
          "execution_count": 42
        }
      ]
    },
    {
      "cell_type": "code",
      "source": [
        "random.random()"
      ],
      "metadata": {
        "colab": {
          "base_uri": "https://localhost:8080/"
        },
        "id": "4cLKxlfi4jWf",
        "outputId": "24117ff7-cdd0-4acd-e228-5b1ae4e36b9a"
      },
      "execution_count": 45,
      "outputs": [
        {
          "output_type": "execute_result",
          "data": {
            "text/plain": [
              "0.016310369263042857"
            ]
          },
          "metadata": {},
          "execution_count": 45
        }
      ]
    },
    {
      "cell_type": "code",
      "source": [
        "random.randint(2, 10)"
      ],
      "metadata": {
        "colab": {
          "base_uri": "https://localhost:8080/"
        },
        "id": "m3YZZOyQ4oQo",
        "outputId": "ac88eabf-7dd3-4f28-f0c9-31dfa32c4469"
      },
      "execution_count": 46,
      "outputs": [
        {
          "output_type": "execute_result",
          "data": {
            "text/plain": [
              "9"
            ]
          },
          "metadata": {},
          "execution_count": 46
        }
      ]
    },
    {
      "cell_type": "markdown",
      "source": [
        "###### 11 Pacote Externo - Statistics"
      ],
      "metadata": {
        "id": "wLashkNy5Xyd"
      }
    },
    {
      "cell_type": "markdown",
      "source": [
        "Este módulo fornece funções para calcular estatísticas matemáticas de dados numéricos e interage com as listas"
      ],
      "metadata": {
        "id": "i_h6dn4F5oNz"
      }
    },
    {
      "cell_type": "code",
      "source": [
        "import statistics"
      ],
      "metadata": {
        "id": "e0eciau75zPm"
      },
      "execution_count": 47,
      "outputs": []
    },
    {
      "cell_type": "code",
      "source": [
        "Lista = [12, 15, 67, 31, 8, 13,13, 35]"
      ],
      "metadata": {
        "id": "1tMfKgF76GTI"
      },
      "execution_count": 60,
      "outputs": []
    },
    {
      "cell_type": "code",
      "source": [
        "sum(Lista) / len(Lista)"
      ],
      "metadata": {
        "colab": {
          "base_uri": "https://localhost:8080/"
        },
        "id": "-seLNgp76RvW",
        "outputId": "34c0e999-b328-44be-a071-9a67b4e9e25c"
      },
      "execution_count": 56,
      "outputs": [
        {
          "output_type": "execute_result",
          "data": {
            "text/plain": [
              "25.857142857142858"
            ]
          },
          "metadata": {},
          "execution_count": 56
        }
      ]
    },
    {
      "cell_type": "code",
      "source": [
        "statistics.mean(Lista)"
      ],
      "metadata": {
        "colab": {
          "base_uri": "https://localhost:8080/"
        },
        "id": "mOQYeQLY6TdY",
        "outputId": "2e82df16-6b49-4ab5-da88-4cec4d36ffd5"
      },
      "execution_count": 57,
      "outputs": [
        {
          "output_type": "execute_result",
          "data": {
            "text/plain": [
              "25.857142857142858"
            ]
          },
          "metadata": {},
          "execution_count": 57
        }
      ]
    },
    {
      "cell_type": "code",
      "source": [
        "statistics.median(Lista)"
      ],
      "metadata": {
        "colab": {
          "base_uri": "https://localhost:8080/"
        },
        "id": "gTu0hQKm6lEm",
        "outputId": "f471d6db-aa3a-4991-edcc-8939badc7d48"
      },
      "execution_count": 62,
      "outputs": [
        {
          "output_type": "execute_result",
          "data": {
            "text/plain": [
              "14.0"
            ]
          },
          "metadata": {},
          "execution_count": 62
        }
      ]
    },
    {
      "cell_type": "code",
      "source": [
        "statistics.mode(Lista)"
      ],
      "metadata": {
        "colab": {
          "base_uri": "https://localhost:8080/"
        },
        "id": "T5yYTCDm6qZ2",
        "outputId": "ba1c40cd-8e12-46f7-b594-ca02d5b699dd"
      },
      "execution_count": 61,
      "outputs": [
        {
          "output_type": "execute_result",
          "data": {
            "text/plain": [
              "13"
            ]
          },
          "metadata": {},
          "execution_count": 61
        }
      ]
    },
    {
      "cell_type": "markdown",
      "source": [
        "### Lógica de programação"
      ],
      "metadata": {
        "id": "XRUubXJ276pr"
      }
    },
    {
      "cell_type": "markdown",
      "source": [
        "###### 1 Condicionais"
      ],
      "metadata": {
        "id": "mHmJuVnh8DxF"
      }
    },
    {
      "cell_type": "markdown",
      "source": [
        "if é declaração mais simples de tomada de decisão.\n",
        "ele é usado para decidir se uma determinada instrução será executada ou não."
      ],
      "metadata": {
        "id": "jcROH8G18Jcn"
      }
    },
    {
      "cell_type": "code",
      "source": [],
      "metadata": {
        "id": "DOzibg0e8eom"
      },
      "execution_count": null,
      "outputs": []
    }
  ]
}