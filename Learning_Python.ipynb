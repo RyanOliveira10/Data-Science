{
  "nbformat": 4,
  "nbformat_minor": 0,
  "metadata": {
    "colab": {
      "provenance": [],
      "authorship_tag": "ABX9TyOM8XOE2nSmmFPhgi45SfP9",
      "include_colab_link": true
    },
    "kernelspec": {
      "name": "python3",
      "display_name": "Python 3"
    },
    "language_info": {
      "name": "python"
    }
  },
  "cells": [
    {
      "cell_type": "markdown",
      "metadata": {
        "id": "view-in-github",
        "colab_type": "text"
      },
      "source": [
        "<a href=\"https://colab.research.google.com/github/RyanOliveira10/Data-Science/blob/main/Learning_Python.ipynb\" target=\"_parent\"><img src=\"https://colab.research.google.com/assets/colab-badge.svg\" alt=\"Open In Colab\"/></a>"
      ]
    },
    {
      "cell_type": "markdown",
      "source": [
        "# Curso de python"
      ],
      "metadata": {
        "id": "UxBkZRAo8ToE"
      }
    },
    {
      "cell_type": "markdown",
      "source": [
        "### Manipulando dados"
      ],
      "metadata": {
        "id": "e_0jAIer85gp"
      }
    },
    {
      "cell_type": "markdown",
      "source": [
        "###### 1 Comando Round"
      ],
      "metadata": {
        "id": "wjf-Dpys9FtS"
      }
    },
    {
      "cell_type": "code",
      "source": [
        "valor_exemplo = 12.123456789\n",
        "print(valor_exemplo)"
      ],
      "metadata": {
        "colab": {
          "base_uri": "https://localhost:8080/"
        },
        "id": "3i35TRzh9Isp",
        "outputId": "72f9dff3-ce06-4cd3-af42-9eefccf8b5f8"
      },
      "execution_count": 1,
      "outputs": [
        {
          "output_type": "stream",
          "name": "stdout",
          "text": [
            "12.123456789\n"
          ]
        }
      ]
    },
    {
      "cell_type": "code",
      "source": [
        "round(valor_exemplo, 2)"
      ],
      "metadata": {
        "colab": {
          "base_uri": "https://localhost:8080/"
        },
        "id": "ysglKcAX-d8g",
        "outputId": "8f0e7b7e-ed15-41a2-8298-0bd74c3383f2"
      },
      "execution_count": 2,
      "outputs": [
        {
          "output_type": "execute_result",
          "data": {
            "text/plain": [
              "12.12"
            ]
          },
          "metadata": {},
          "execution_count": 2
        }
      ]
    },
    {
      "cell_type": "markdown",
      "source": [
        "###### 2 Comando Len"
      ],
      "metadata": {
        "id": "EPW7NzrP-8wh"
      }
    },
    {
      "cell_type": "markdown",
      "source": [
        "A função len() retorna a quantidade de elementos de qualquer lista em python"
      ],
      "metadata": {
        "id": "o58WPQEt_Epw"
      }
    },
    {
      "cell_type": "code",
      "source": [
        "Lista = [1, 2, 3, 4, 5, 6, 7, 8, 9]\n",
        "Dicionario = {\n",
        "    'nome' : 'josé',\n",
        "    'Idade' : 29\n",
        "    }\n",
        "Tupla = (1, 2, 3, 4)\n",
        "String = 'Ola mundo'"
      ],
      "metadata": {
        "id": "sXuYJxs5_AeS"
      },
      "execution_count": 3,
      "outputs": []
    },
    {
      "cell_type": "code",
      "source": [
        "len(Lista)"
      ],
      "metadata": {
        "colab": {
          "base_uri": "https://localhost:8080/"
        },
        "id": "otrMemaQ_14b",
        "outputId": "0c1bce23-41d6-4231-d24b-b93259b17e2d"
      },
      "execution_count": 4,
      "outputs": [
        {
          "output_type": "execute_result",
          "data": {
            "text/plain": [
              "9"
            ]
          },
          "metadata": {},
          "execution_count": 4
        }
      ]
    },
    {
      "cell_type": "code",
      "source": [
        "len(Dicionario)"
      ],
      "metadata": {
        "colab": {
          "base_uri": "https://localhost:8080/"
        },
        "id": "5SJNwIZc_4VS",
        "outputId": "ccd48e2a-29fc-4417-fc4b-aca8be35d3e2"
      },
      "execution_count": 5,
      "outputs": [
        {
          "output_type": "execute_result",
          "data": {
            "text/plain": [
              "2"
            ]
          },
          "metadata": {},
          "execution_count": 5
        }
      ]
    },
    {
      "cell_type": "code",
      "source": [
        "len(Tupla)"
      ],
      "metadata": {
        "colab": {
          "base_uri": "https://localhost:8080/"
        },
        "id": "1V51SCrL_68i",
        "outputId": "d1b5b8be-f772-4daa-b49a-5ab3f24cb3c9"
      },
      "execution_count": 6,
      "outputs": [
        {
          "output_type": "execute_result",
          "data": {
            "text/plain": [
              "4"
            ]
          },
          "metadata": {},
          "execution_count": 6
        }
      ]
    },
    {
      "cell_type": "code",
      "source": [
        "len(String)"
      ],
      "metadata": {
        "colab": {
          "base_uri": "https://localhost:8080/"
        },
        "id": "-STnLmek_-zr",
        "outputId": "2d0052e8-b00c-41ff-b865-0cd05ad6e039"
      },
      "execution_count": 7,
      "outputs": [
        {
          "output_type": "execute_result",
          "data": {
            "text/plain": [
              "9"
            ]
          },
          "metadata": {},
          "execution_count": 7
        }
      ]
    },
    {
      "cell_type": "markdown",
      "source": [
        "###### 3 Fatiamento de Strings"
      ],
      "metadata": {
        "id": "IKdMHevpApOR"
      }
    },
    {
      "cell_type": "markdown",
      "source": [
        "Strings são listas de bytes representando caracteres.\n",
        "Podemos acessar suas posicões usando colchetes"
      ],
      "metadata": {
        "id": "iJuP2M9XAwBZ"
      }
    },
    {
      "cell_type": "code",
      "source": [
        "String_exemplo = \"o meu nome é Ryan Junio\"\n",
        "print( type(String_exemplo))\n",
        "print( len(String_exemplo))"
      ],
      "metadata": {
        "colab": {
          "base_uri": "https://localhost:8080/"
        },
        "id": "eibHSX44A8OD",
        "outputId": "feb2b4f0-46a6-4685-bae0-c23d7f328477"
      },
      "execution_count": 8,
      "outputs": [
        {
          "output_type": "stream",
          "name": "stdout",
          "text": [
            "<class 'str'>\n",
            "23\n"
          ]
        }
      ]
    },
    {
      "cell_type": "code",
      "source": [
        "String_exemplo[0]"
      ],
      "metadata": {
        "colab": {
          "base_uri": "https://localhost:8080/",
          "height": 35
        },
        "id": "gB0JjinIBNHf",
        "outputId": "3ff81b7d-2dd5-407a-9c75-32f1c8f05a01"
      },
      "execution_count": 9,
      "outputs": [
        {
          "output_type": "execute_result",
          "data": {
            "text/plain": [
              "'o'"
            ],
            "application/vnd.google.colaboratory.intrinsic+json": {
              "type": "string"
            }
          },
          "metadata": {},
          "execution_count": 9
        }
      ]
    },
    {
      "cell_type": "code",
      "source": [
        "String_exemplo[7]"
      ],
      "metadata": {
        "colab": {
          "base_uri": "https://localhost:8080/",
          "height": 35
        },
        "id": "C6dWEbvHBas7",
        "outputId": "122d99bc-872a-435b-cf4c-b7f70a972c66"
      },
      "execution_count": 10,
      "outputs": [
        {
          "output_type": "execute_result",
          "data": {
            "text/plain": [
              "'o'"
            ],
            "application/vnd.google.colaboratory.intrinsic+json": {
              "type": "string"
            }
          },
          "metadata": {},
          "execution_count": 10
        }
      ]
    },
    {
      "cell_type": "code",
      "source": [
        "String_exemplo[18]"
      ],
      "metadata": {
        "colab": {
          "base_uri": "https://localhost:8080/",
          "height": 35
        },
        "id": "XXl9vgO7BeR8",
        "outputId": "4051fd67-0c28-4147-cb08-d08e342eeb36"
      },
      "execution_count": 11,
      "outputs": [
        {
          "output_type": "execute_result",
          "data": {
            "text/plain": [
              "'J'"
            ],
            "application/vnd.google.colaboratory.intrinsic+json": {
              "type": "string"
            }
          },
          "metadata": {},
          "execution_count": 11
        }
      ]
    },
    {
      "cell_type": "code",
      "source": [
        "CPF = 'CPF:123456789'\n",
        "CPF[-9:]"
      ],
      "metadata": {
        "colab": {
          "base_uri": "https://localhost:8080/",
          "height": 35
        },
        "id": "LtJuMOQtBkJh",
        "outputId": "7b7e0542-342a-4aa5-e9e7-22c942e4bc6e"
      },
      "execution_count": 12,
      "outputs": [
        {
          "output_type": "execute_result",
          "data": {
            "text/plain": [
              "'123456789'"
            ],
            "application/vnd.google.colaboratory.intrinsic+json": {
              "type": "string"
            }
          },
          "metadata": {},
          "execution_count": 12
        }
      ]
    },
    {
      "cell_type": "markdown",
      "source": [
        "###### 4 Manipulando Strings"
      ],
      "metadata": {
        "id": "Jj6xA3IeCgCD"
      }
    },
    {
      "cell_type": "markdown",
      "source": [
        "Um tipo de dados bastante comum no dia a dia são strings ou cadeia de caracteres. o tipo de dados string é chamado de str, possui várias operações úteis. Algumas funções utilizadas são:\n",
        "  1.replace\n",
        "\n",
        "1.   count\n",
        "2.   capitalize\n",
        "3.   replace\n",
        "4.   upper\n",
        "5.   lower\n",
        "6.   find\n",
        "7.   strip\n",
        "8.   split\n",
        "\n",
        "\n",
        "\n",
        "\n",
        "\n"
      ],
      "metadata": {
        "id": "GEHkHd7lClcO"
      }
    },
    {
      "cell_type": "code",
      "source": [
        "String = 'ola mundo'\n",
        "print(String)"
      ],
      "metadata": {
        "colab": {
          "base_uri": "https://localhost:8080/"
        },
        "id": "Ym_lvxkBDFcT",
        "outputId": "20e42aee-b82e-4eaf-a79a-149391350a3c"
      },
      "execution_count": 13,
      "outputs": [
        {
          "output_type": "stream",
          "name": "stdout",
          "text": [
            "ola mundo\n"
          ]
        }
      ]
    },
    {
      "cell_type": "code",
      "source": [
        "len(String)"
      ],
      "metadata": {
        "colab": {
          "base_uri": "https://localhost:8080/"
        },
        "id": "Z9W6wwyFEBNP",
        "outputId": "aee235b9-9c68-4019-d27e-eca9f6c80486"
      },
      "execution_count": 14,
      "outputs": [
        {
          "output_type": "execute_result",
          "data": {
            "text/plain": [
              "9"
            ]
          },
          "metadata": {},
          "execution_count": 14
        }
      ]
    },
    {
      "cell_type": "code",
      "source": [
        "type( String)"
      ],
      "metadata": {
        "colab": {
          "base_uri": "https://localhost:8080/"
        },
        "id": "Y29SSs3yEDYs",
        "outputId": "e8da8bc9-ffa4-402f-a430-d0cee2f4d4bc"
      },
      "execution_count": 15,
      "outputs": [
        {
          "output_type": "execute_result",
          "data": {
            "text/plain": [
              "str"
            ]
          },
          "metadata": {},
          "execution_count": 15
        }
      ]
    },
    {
      "cell_type": "code",
      "source": [
        "# Replace -> substituir\n",
        "String.replace('mundo', 'Mundao')"
      ],
      "metadata": {
        "colab": {
          "base_uri": "https://localhost:8080/",
          "height": 35
        },
        "id": "lvSEn8ywEFzp",
        "outputId": "e47ab1bc-f5c8-4de3-d521-1d1806b220f6"
      },
      "execution_count": 16,
      "outputs": [
        {
          "output_type": "execute_result",
          "data": {
            "text/plain": [
              "'ola Mundao'"
            ],
            "application/vnd.google.colaboratory.intrinsic+json": {
              "type": "string"
            }
          },
          "metadata": {},
          "execution_count": 16
        }
      ]
    },
    {
      "cell_type": "code",
      "source": [
        "#transforma letras em maiusculas\n",
        "String.upper()"
      ],
      "metadata": {
        "colab": {
          "base_uri": "https://localhost:8080/",
          "height": 35
        },
        "id": "ussirLY9EQiJ",
        "outputId": "959a786b-c671-43ff-9fc3-84a5f4aa8a8c"
      },
      "execution_count": 17,
      "outputs": [
        {
          "output_type": "execute_result",
          "data": {
            "text/plain": [
              "'OLA MUNDO'"
            ],
            "application/vnd.google.colaboratory.intrinsic+json": {
              "type": "string"
            }
          },
          "metadata": {},
          "execution_count": 17
        }
      ]
    },
    {
      "cell_type": "code",
      "source": [
        "#conta palavras\n",
        "String.count('m')"
      ],
      "metadata": {
        "colab": {
          "base_uri": "https://localhost:8080/"
        },
        "id": "9XAvCAUYE0Iu",
        "outputId": "77972dd6-1e7e-4596-fab3-c2211f6327a8"
      },
      "execution_count": 22,
      "outputs": [
        {
          "output_type": "execute_result",
          "data": {
            "text/plain": [
              "1"
            ]
          },
          "metadata": {},
          "execution_count": 22
        }
      ]
    },
    {
      "cell_type": "code",
      "source": [
        "#transformação\n",
        "Nome = 'ryan Junio'\n",
        "Nome.capitalize()"
      ],
      "metadata": {
        "colab": {
          "base_uri": "https://localhost:8080/",
          "height": 35
        },
        "id": "A1jjVxzEE7Es",
        "outputId": "5d89a96c-d4ee-43ec-e7cc-9613e68f8ca1"
      },
      "execution_count": 23,
      "outputs": [
        {
          "output_type": "execute_result",
          "data": {
            "text/plain": [
              "'Ryan junio'"
            ],
            "application/vnd.google.colaboratory.intrinsic+json": {
              "type": "string"
            }
          },
          "metadata": {},
          "execution_count": 23
        }
      ]
    },
    {
      "cell_type": "code",
      "source": [
        "# Verificar se existe dígitos na string\n",
        "String_cpf = '123456789'\n",
        "String_cpf.isdigit()"
      ],
      "metadata": {
        "colab": {
          "base_uri": "https://localhost:8080/"
        },
        "id": "jfKg0DmXFedc",
        "outputId": "41a849b7-55e1-448a-81ca-74a2eb560517"
      },
      "execution_count": 24,
      "outputs": [
        {
          "output_type": "execute_result",
          "data": {
            "text/plain": [
              "True"
            ]
          },
          "metadata": {},
          "execution_count": 24
        }
      ]
    },
    {
      "cell_type": "markdown",
      "source": [
        "###### 5 Comando Input"
      ],
      "metadata": {
        "id": "4Nc5oRH4HBD7"
      }
    },
    {
      "cell_type": "markdown",
      "source": [
        "A função Input() recebe como parâmetro uma string que será mostrada como auxilio ao usuário, geralmente o programa agurada receber"
      ],
      "metadata": {
        "id": "d9kO_ESrHHJD"
      }
    },
    {
      "cell_type": "code",
      "source": [
        "input(\"digite alguma mensagem: \")"
      ],
      "metadata": {
        "colab": {
          "base_uri": "https://localhost:8080/",
          "height": 52
        },
        "id": "W95veMNXHXNd",
        "outputId": "a1b8bdb7-3996-4c0e-a234-01977a707d70"
      },
      "execution_count": 25,
      "outputs": [
        {
          "name": "stdout",
          "output_type": "stream",
          "text": [
            "digite alguma mensagem: alguma mensagem\n"
          ]
        },
        {
          "output_type": "execute_result",
          "data": {
            "text/plain": [
              "'alguma mensagem'"
            ],
            "application/vnd.google.colaboratory.intrinsic+json": {
              "type": "string"
            }
          },
          "metadata": {},
          "execution_count": 25
        }
      ]
    },
    {
      "cell_type": "code",
      "source": [
        "Nome = input(\"qual seu nome?: \")\n",
        "Idade = input(\"qual sua idade?: \")\n",
        "\n",
        "print(\"seu nome é \" + Nome + \" e sua idade é \" + Idade)"
      ],
      "metadata": {
        "colab": {
          "base_uri": "https://localhost:8080/"
        },
        "id": "-lmbMyDeIEpI",
        "outputId": "73ec79ed-ee1a-48b6-a464-97e56c8c9085"
      },
      "execution_count": 26,
      "outputs": [
        {
          "output_type": "stream",
          "name": "stdout",
          "text": [
            "qual seu nome?: Ryan\n",
            "qual sua idade?: 20\n",
            "seu nome é Ryan e sua idade é 20\n"
          ]
        }
      ]
    },
    {
      "cell_type": "code",
      "source": [],
      "metadata": {
        "id": "TWXKyIWJIa5N"
      },
      "execution_count": 26,
      "outputs": []
    },
    {
      "cell_type": "markdown",
      "source": [
        "###### 6 Operadores de comparação"
      ],
      "metadata": {
        "id": "auFm92snJikc"
      }
    },
    {
      "cell_type": "markdown",
      "source": [
        "Os operadores de comparação são usados para comparar dois valores"
      ],
      "metadata": {
        "id": "hjRRPmt9Jpsr"
      }
    },
    {
      "cell_type": "code",
      "source": [
        "10 == 10"
      ],
      "metadata": {
        "colab": {
          "base_uri": "https://localhost:8080/"
        },
        "id": "I-k2byZ4JocO",
        "outputId": "ba075efc-b0c2-4108-db42-59edc1d31151"
      },
      "execution_count": 27,
      "outputs": [
        {
          "output_type": "execute_result",
          "data": {
            "text/plain": [
              "True"
            ]
          },
          "metadata": {},
          "execution_count": 27
        }
      ]
    },
    {
      "cell_type": "code",
      "source": [
        "10 > 15"
      ],
      "metadata": {
        "colab": {
          "base_uri": "https://localhost:8080/"
        },
        "id": "VIV0VajuJ1Sm",
        "outputId": "c6be03c6-4e59-4a07-b643-ff03e335292b"
      },
      "execution_count": 28,
      "outputs": [
        {
          "output_type": "execute_result",
          "data": {
            "text/plain": [
              "False"
            ]
          },
          "metadata": {},
          "execution_count": 28
        }
      ]
    },
    {
      "cell_type": "code",
      "source": [
        "10 <= 11"
      ],
      "metadata": {
        "colab": {
          "base_uri": "https://localhost:8080/"
        },
        "id": "Qimw1qV-J7c_",
        "outputId": "f811d0ec-04e1-4bd9-c207-1775475c5f1f"
      },
      "execution_count": 29,
      "outputs": [
        {
          "output_type": "execute_result",
          "data": {
            "text/plain": [
              "True"
            ]
          },
          "metadata": {},
          "execution_count": 29
        }
      ]
    },
    {
      "cell_type": "code",
      "source": [
        "10 != 12"
      ],
      "metadata": {
        "colab": {
          "base_uri": "https://localhost:8080/"
        },
        "id": "7lqzYmpCJ902",
        "outputId": "ded31205-0f4f-493d-fb47-d1416e2f39bd"
      },
      "execution_count": 30,
      "outputs": [
        {
          "output_type": "execute_result",
          "data": {
            "text/plain": [
              "True"
            ]
          },
          "metadata": {},
          "execution_count": 30
        }
      ]
    },
    {
      "cell_type": "code",
      "source": [],
      "metadata": {
        "id": "1S7ADSsYKABH"
      },
      "execution_count": null,
      "outputs": []
    },
    {
      "cell_type": "markdown",
      "source": [
        "###### 7 Operadores Lógicos"
      ],
      "metadata": {
        "id": "alTsF1CIKU6u"
      }
    },
    {
      "cell_type": "markdown",
      "source": [
        "Os operadores lógicos são usados para combinar instruções condicionais"
      ],
      "metadata": {
        "id": "sPe6j2loKeMY"
      }
    },
    {
      "cell_type": "code",
      "source": [
        "#"
      ],
      "metadata": {
        "id": "Fqw3lxGSKba2"
      },
      "execution_count": null,
      "outputs": []
    }
  ]
}